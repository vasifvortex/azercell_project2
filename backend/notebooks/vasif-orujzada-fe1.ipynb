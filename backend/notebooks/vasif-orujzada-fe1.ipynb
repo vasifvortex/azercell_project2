{
 "cells": [
  {
   "cell_type": "code",
   "execution_count": 1,
   "id": "f9fdb11c-877b-4650-be20-edf8223c3218",
   "metadata": {
    "execution": {
     "iopub.execute_input": "2025-08-02T16:39:16.219531Z",
     "iopub.status.busy": "2025-08-02T16:39:16.219337Z",
     "iopub.status.idle": "2025-08-02T16:39:16.225723Z",
     "shell.execute_reply": "2025-08-02T16:39:16.225238Z",
     "shell.execute_reply.started": "2025-08-02T16:39:16.219514Z"
    }
   },
   "outputs": [
    {
     "data": {
      "text/plain": [
       "'\\nimport boto3\\nbucket_name = \\'dataminds-homeworks\\'\\ns3_file_key = \\'data_usage_production.parquet\\'            # e.g. \\'folder/myfile.txt\\'\\nlocal_file_path = \\'data_usage_production.parquet\\'        # Local destination\\n\\n# Create an S3 client (remove `bucket_name` here — not a valid argument for boto3.client)\\ns3 = boto3.client(\\n    \\'s3\\',\\n    region_name=\\'us-east-1\\'\\n)\\n\\n# Download the file\\ntry:\\n    s3.download_file(bucket_name, s3_file_key, local_file_path)\\n    print(f\"✅ File downloaded successfully from s3://{bucket_name}/{s3_file_key} to {local_file_path}\")\\nexcept Exception as e:\\n    print(\"❌ Error downloading file:\", e)\\n'"
      ]
     },
     "execution_count": 1,
     "metadata": {},
     "output_type": "execute_result"
    }
   ],
   "source": [
    "'''\n",
    "import boto3\n",
    "bucket_name = 'dataminds-homeworks'\n",
    "s3_file_key = 'data_usage_production.parquet'            # e.g. 'folder/myfile.txt'\n",
    "local_file_path = 'data_usage_production.parquet'        # Local destination\n",
    "\n",
    "# Create an S3 client (remove `bucket_name` here — not a valid argument for boto3.client)\n",
    "s3 = boto3.client(\n",
    "    's3',\n",
    "    region_name='us-east-1'\n",
    ")\n",
    "\n",
    "# Download the file\n",
    "try:\n",
    "    s3.download_file(bucket_name, s3_file_key, local_file_path)\n",
    "    print(f\"✅ File downloaded successfully from s3://{bucket_name}/{s3_file_key} to {local_file_path}\")\n",
    "except Exception as e:\n",
    "    print(\"❌ Error downloading file:\", e)\n",
    "'''"
   ]
  },
  {
   "cell_type": "code",
   "execution_count": 2,
   "id": "079b7cc3-76b4-4f97-96cf-0d0aa9ae7995",
   "metadata": {
    "execution": {
     "iopub.execute_input": "2025-08-02T16:39:16.226402Z",
     "iopub.status.busy": "2025-08-02T16:39:16.226225Z",
     "iopub.status.idle": "2025-08-02T16:39:23.537524Z",
     "shell.execute_reply": "2025-08-02T16:39:23.536838Z",
     "shell.execute_reply.started": "2025-08-02T16:39:16.226385Z"
    }
   },
   "outputs": [],
   "source": [
    "import pandas as pd\n",
    "df = pd.read_parquet('data_usage_production.parquet')\n",
    "df.set_index('telephone_number', inplace=True)\n",
    "#df.head()"
   ]
  },
  {
   "cell_type": "code",
   "execution_count": 3,
   "id": "96a2584c-b3f2-4566-9fe7-903bdada98de",
   "metadata": {
    "execution": {
     "iopub.execute_input": "2025-08-02T16:39:23.538733Z",
     "iopub.status.busy": "2025-08-02T16:39:23.538418Z",
     "iopub.status.idle": "2025-08-02T16:39:24.823977Z",
     "shell.execute_reply": "2025-08-02T16:39:24.823272Z",
     "shell.execute_reply.started": "2025-08-02T16:39:23.538715Z"
    }
   },
   "outputs": [],
   "source": [
    "import numpy as np\n",
    "X = df.drop('data_compl_usg_local_m1', axis=1)\n",
    "y = df['data_compl_usg_local_m1']\n",
    "y = np.log1p(y)\n"
   ]
  },
  {
   "cell_type": "code",
   "execution_count": 4,
   "id": "c5838098-420c-4d19-9a61-3518655a85de",
   "metadata": {
    "execution": {
     "iopub.execute_input": "2025-08-02T16:39:24.825123Z",
     "iopub.status.busy": "2025-08-02T16:39:24.824892Z",
     "iopub.status.idle": "2025-08-02T16:39:25.448280Z",
     "shell.execute_reply": "2025-08-02T16:39:25.447714Z",
     "shell.execute_reply.started": "2025-08-02T16:39:24.825103Z"
    }
   },
   "outputs": [],
   "source": [
    "#I will use it in the pipeline\n",
    "#numeric_features=X.columns[X.dtypes=='int64'].append(X.columns[X.dtypes=='float64'])\n",
    "numeric_features=['refill_total_m2', 'refill_total_m3',\n",
    "                  'frequency','recency','tenure','lastrefillamount_m2',\n",
    "                  'tot_inact_status_days_l1m_m2','refill_total_m4','data_compl_usg_local_m2','data_compl_usg_local_m3','data_compl_usg_local_m4']\n",
    "categorical_features=X.columns[X.dtypes=='object']\n",
    "X = X[numeric_features + list(categorical_features)]"
   ]
  },
  {
   "cell_type": "code",
   "execution_count": null,
   "id": "4d9fd571-ab88-4a89-a0ce-e2910615195f",
   "metadata": {
    "execution": {
     "iopub.execute_input": "2025-08-02T16:39:25.459123Z",
     "iopub.status.busy": "2025-08-02T16:39:25.458753Z",
     "iopub.status.idle": "2025-08-02T16:39:25.461990Z",
     "shell.execute_reply": "2025-08-02T16:39:25.461522Z",
     "shell.execute_reply.started": "2025-08-02T16:39:25.459106Z"
    }
   },
   "outputs": [],
   "source": [
    "!pip install category_encoders"
   ]
  },
  {
   "cell_type": "code",
   "execution_count": 8,
   "id": "d3d9e76a-e84d-484c-8e45-0290f7afc65c",
   "metadata": {
    "execution": {
     "iopub.execute_input": "2025-08-02T16:39:25.462924Z",
     "iopub.status.busy": "2025-08-02T16:39:25.462616Z",
     "iopub.status.idle": "2025-08-02T16:58:21.526459Z",
     "shell.execute_reply": "2025-08-02T16:58:21.525792Z",
     "shell.execute_reply.started": "2025-08-02T16:39:25.462906Z"
    }
   },
   "outputs": [
    {
     "name": "stdout",
     "output_type": "stream",
     "text": [
      "model score: 0.751\n"
     ]
    }
   ],
   "source": [
    "from sklearn.compose import ColumnTransformer\n",
    "from sklearn.pipeline import Pipeline\n",
    "from sklearn.preprocessing import RobustScaler\n",
    "from category_encoders import CatBoostEncoder\n",
    "from sklearn.model_selection import train_test_split\n",
    "from sklearn.ensemble import RandomForestRegressor\n",
    "from sklearn.impute import SimpleImputer\n",
    "from sklearn.feature_selection import SelectPercentile\n",
    "from sklearn.feature_selection import f_regression\n",
    "\n",
    "#train test split\n",
    "X_train, X_test, y_train, y_test = train_test_split(X, y, test_size=0.2, random_state=0)\n",
    "\n",
    "numeric_transformer = Pipeline(\n",
    "    steps=[\n",
    "        (\"imputer\", SimpleImputer(strategy=\"median\")),\n",
    "        (\"scaler\", RobustScaler()),\n",
    "    ]\n",
    ")\n",
    "\n",
    "categorical_transformer = Pipeline(\n",
    "    steps=[\n",
    "        (\"encoder\", CatBoostEncoder()),\n",
    "        (\"selector\", SelectPercentile(f_regression, percentile=50))  \n",
    "    ]\n",
    ")\n",
    "preprocessor = ColumnTransformer(\n",
    "    transformers=[\n",
    "        (\"num\", numeric_transformer, numeric_features),\n",
    "        (\"cat\", categorical_transformer, categorical_features),\n",
    "    ]\n",
    ")\n",
    "\n",
    "clf = Pipeline(\n",
    "    steps=[\n",
    "        (\"preprocessor\", preprocessor),\n",
    "        (\"Regressor\", RandomForestRegressor(n_estimators=13,random_state=42))\n",
    "    ]\n",
    ")\n",
    "\n",
    "clf.fit(X_train, y_train)\n",
    "print(\"model score: %.3f\" % clf.score(X_test, y_test))"
   ]
  },
  {
   "cell_type": "code",
   "execution_count": 9,
   "id": "14d61945-a4e0-486b-ab1c-0413ca2444c1",
   "metadata": {
    "execution": {
     "iopub.execute_input": "2025-08-02T17:21:32.402236Z",
     "iopub.status.busy": "2025-08-02T17:21:32.401608Z",
     "iopub.status.idle": "2025-08-02T17:21:33.151397Z",
     "shell.execute_reply": "2025-08-02T17:21:33.150752Z",
     "shell.execute_reply.started": "2025-08-02T17:21:32.402212Z"
    }
   },
   "outputs": [
    {
     "name": "stdout",
     "output_type": "stream",
     "text": [
      "File uploaded successfully to s3://dataminds-homeworks/vasif-orujzada-fe1.ipynb\n"
     ]
    }
   ],
   "source": [
    "import boto3\n",
    "\n",
    "# Replace with your actual credentials and info\n",
    "bucket_name = 'dataminds-homeworks'\n",
    "s3_file_key = 'vasif-orujzada-fe1.ipynb' \n",
    "local_file_path = 'vasif-orujzada-fe1.ipynb'\n",
    "\n",
    "# Create an S3 client\n",
    "s3 = boto3.client(\n",
    "    's3'\n",
    ")\n",
    "\n",
    "# Upload the file\n",
    "try:\n",
    "    s3.upload_file(local_file_path, bucket_name, s3_file_key)\n",
    "    print(f\"File uploaded successfully to s3://{bucket_name}/{s3_file_key}\")\n",
    "except Exception as e:\n",
    "    print(\"Error uploading file:\", e)"
   ]
  }
 ],
 "metadata": {
  "kernelspec": {
   "display_name": "Python 3 (ipykernel)",
   "language": "python",
   "name": "python3"
  },
  "language_info": {
   "codemirror_mode": {
    "name": "ipython",
    "version": 3
   },
   "file_extension": ".py",
   "mimetype": "text/x-python",
   "name": "python",
   "nbconvert_exporter": "python",
   "pygments_lexer": "ipython3",
   "version": "3.12.9"
  }
 },
 "nbformat": 4,
 "nbformat_minor": 5
}
