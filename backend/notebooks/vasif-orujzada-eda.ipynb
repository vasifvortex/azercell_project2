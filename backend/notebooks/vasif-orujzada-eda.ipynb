{
 "cells": [
  {
   "cell_type": "code",
   "execution_count": null,
   "id": "8aaf877a-e13e-476b-9771-0aab9b88f570",
   "metadata": {
    "execution": {
     "iopub.execute_input": "2025-07-28T12:24:03.478376Z",
     "iopub.status.busy": "2025-07-28T12:24:03.477596Z",
     "iopub.status.idle": "2025-07-28T12:24:03.889259Z",
     "shell.execute_reply": "2025-07-28T12:24:03.888468Z",
     "shell.execute_reply.started": "2025-07-28T12:24:03.478341Z"
    }
   },
   "outputs": [
    {
     "name": "stdout",
     "output_type": "stream",
     "text": [
      "✅ File downloaded successfully from s3://dataminds-warehouse/HousingPrices-Amsterdam-August-2021.csv to HousingPrices-Amsterdam-August-2021.csv\n"
     ]
    }
   ],
   "source": [
    "import boto3\n",
    "bucket_name = 'dataminds-warehouse'\n",
    "s3_file_key = 'HousingPrices-Amsterdam-August-2021.csv'            # e.g. 'folder/myfile.txt'\n",
    "local_file_path = 'HousingPrices-Amsterdam-August-2021.csv'        # Local destination\n",
    "\n",
    "# Create an S3 client (remove `bucket_name` here — not a valid argument for boto3.client)\n",
    "s3 = boto3.client(\n",
    "    's3',\n",
    "    region_name='us-east-1'\n",
    ")\n",
    "\n",
    "# Download the file\n",
    "try:\n",
    "    s3.download_file(bucket_name, s3_file_key, local_file_path)\n",
    "    print(f\"✅ File downloaded successfully from s3://{bucket_name}/{s3_file_key} to {local_file_path}\")\n",
    "except Exception as e:\n",
    "    print(\"❌ Error downloading file:\", e)"
   ]
  },
  {
   "cell_type": "code",
   "execution_count": 1,
   "id": "4ba1c467-2ad0-4e75-86a1-6b26e4c4ac92",
   "metadata": {
    "execution": {
     "iopub.execute_input": "2025-07-29T14:30:52.438527Z",
     "iopub.status.busy": "2025-07-29T14:30:52.437926Z",
     "iopub.status.idle": "2025-07-29T14:30:53.030400Z",
     "shell.execute_reply": "2025-07-29T14:30:53.029683Z",
     "shell.execute_reply.started": "2025-07-29T14:30:52.438494Z"
    }
   },
   "outputs": [
    {
     "data": {
      "text/html": [
       "<div>\n",
       "<style scoped>\n",
       "    .dataframe tbody tr th:only-of-type {\n",
       "        vertical-align: middle;\n",
       "    }\n",
       "\n",
       "    .dataframe tbody tr th {\n",
       "        vertical-align: top;\n",
       "    }\n",
       "\n",
       "    .dataframe thead th {\n",
       "        text-align: right;\n",
       "    }\n",
       "</style>\n",
       "<table border=\"1\" class=\"dataframe\">\n",
       "  <thead>\n",
       "    <tr style=\"text-align: right;\">\n",
       "      <th></th>\n",
       "      <th>Unnamed: 0</th>\n",
       "      <th>Address</th>\n",
       "      <th>Zip</th>\n",
       "      <th>Price</th>\n",
       "      <th>Area</th>\n",
       "      <th>Room</th>\n",
       "      <th>Lon</th>\n",
       "      <th>Lat</th>\n",
       "    </tr>\n",
       "  </thead>\n",
       "  <tbody>\n",
       "    <tr>\n",
       "      <th>0</th>\n",
       "      <td>1</td>\n",
       "      <td>Blasiusstraat 8 2, Amsterdam</td>\n",
       "      <td>1091 CR</td>\n",
       "      <td>685000.0</td>\n",
       "      <td>64</td>\n",
       "      <td>3</td>\n",
       "      <td>4.907736</td>\n",
       "      <td>52.356157</td>\n",
       "    </tr>\n",
       "    <tr>\n",
       "      <th>1</th>\n",
       "      <td>2</td>\n",
       "      <td>Kromme Leimuidenstraat 13 H, Amsterdam</td>\n",
       "      <td>1059 EL</td>\n",
       "      <td>475000.0</td>\n",
       "      <td>60</td>\n",
       "      <td>3</td>\n",
       "      <td>4.850476</td>\n",
       "      <td>52.348586</td>\n",
       "    </tr>\n",
       "    <tr>\n",
       "      <th>2</th>\n",
       "      <td>3</td>\n",
       "      <td>Zaaiersweg 11 A, Amsterdam</td>\n",
       "      <td>1097 SM</td>\n",
       "      <td>850000.0</td>\n",
       "      <td>109</td>\n",
       "      <td>4</td>\n",
       "      <td>4.944774</td>\n",
       "      <td>52.343782</td>\n",
       "    </tr>\n",
       "    <tr>\n",
       "      <th>3</th>\n",
       "      <td>4</td>\n",
       "      <td>Tenerifestraat 40, Amsterdam</td>\n",
       "      <td>1060 TH</td>\n",
       "      <td>580000.0</td>\n",
       "      <td>128</td>\n",
       "      <td>6</td>\n",
       "      <td>4.789928</td>\n",
       "      <td>52.343712</td>\n",
       "    </tr>\n",
       "    <tr>\n",
       "      <th>4</th>\n",
       "      <td>5</td>\n",
       "      <td>Winterjanpad 21, Amsterdam</td>\n",
       "      <td>1036 KN</td>\n",
       "      <td>720000.0</td>\n",
       "      <td>138</td>\n",
       "      <td>5</td>\n",
       "      <td>4.902503</td>\n",
       "      <td>52.410538</td>\n",
       "    </tr>\n",
       "  </tbody>\n",
       "</table>\n",
       "</div>"
      ],
      "text/plain": [
       "   Unnamed: 0                                 Address      Zip     Price  \\\n",
       "0           1            Blasiusstraat 8 2, Amsterdam  1091 CR  685000.0   \n",
       "1           2  Kromme Leimuidenstraat 13 H, Amsterdam  1059 EL  475000.0   \n",
       "2           3              Zaaiersweg 11 A, Amsterdam  1097 SM  850000.0   \n",
       "3           4            Tenerifestraat 40, Amsterdam  1060 TH  580000.0   \n",
       "4           5              Winterjanpad 21, Amsterdam  1036 KN  720000.0   \n",
       "\n",
       "   Area  Room       Lon        Lat  \n",
       "0    64     3  4.907736  52.356157  \n",
       "1    60     3  4.850476  52.348586  \n",
       "2   109     4  4.944774  52.343782  \n",
       "3   128     6  4.789928  52.343712  \n",
       "4   138     5  4.902503  52.410538  "
      ]
     },
     "execution_count": 1,
     "metadata": {},
     "output_type": "execute_result"
    }
   ],
   "source": [
    "import pandas as pd\n",
    "df = pd.read_csv('HousingPrices-Amsterdam-August-2021.csv')\n",
    "df.head()"
   ]
  },
  {
   "cell_type": "code",
   "execution_count": 2,
   "id": "f591b8d7-088f-429c-aa42-a6a26588aaf5",
   "metadata": {
    "execution": {
     "iopub.execute_input": "2025-07-29T14:30:53.031565Z",
     "iopub.status.busy": "2025-07-29T14:30:53.031312Z",
     "iopub.status.idle": "2025-07-29T14:30:53.038240Z",
     "shell.execute_reply": "2025-07-29T14:30:53.036967Z",
     "shell.execute_reply.started": "2025-07-29T14:30:53.031544Z"
    }
   },
   "outputs": [],
   "source": [
    "df.rename(columns={'Unnamed: 0': 'id'}, inplace=True)"
   ]
  },
  {
   "cell_type": "code",
   "execution_count": 3,
   "id": "a83b2a37-3fb2-4e5a-9787-f49389ccdcad",
   "metadata": {
    "execution": {
     "iopub.execute_input": "2025-07-29T14:30:53.040799Z",
     "iopub.status.busy": "2025-07-29T14:30:53.039716Z",
     "iopub.status.idle": "2025-07-29T14:30:53.047996Z",
     "shell.execute_reply": "2025-07-29T14:30:53.046752Z",
     "shell.execute_reply.started": "2025-07-29T14:30:53.040758Z"
    }
   },
   "outputs": [
    {
     "data": {
      "text/plain": [
       "Index(['id', 'Address', 'Zip', 'Price', 'Area', 'Room', 'Lon', 'Lat'], dtype='object')"
      ]
     },
     "execution_count": 3,
     "metadata": {},
     "output_type": "execute_result"
    }
   ],
   "source": [
    "df.columns"
   ]
  },
  {
   "cell_type": "code",
   "execution_count": 4,
   "id": "59af592d-d1ae-422b-a469-98419bfc196c",
   "metadata": {
    "execution": {
     "iopub.execute_input": "2025-07-29T14:30:53.050534Z",
     "iopub.status.busy": "2025-07-29T14:30:53.049349Z",
     "iopub.status.idle": "2025-07-29T14:30:53.058771Z",
     "shell.execute_reply": "2025-07-29T14:30:53.057736Z",
     "shell.execute_reply.started": "2025-07-29T14:30:53.050500Z"
    }
   },
   "outputs": [
    {
     "data": {
      "text/plain": [
       "Index(['id', 'address', 'zip', 'price', 'area', 'room', 'lon', 'lat'], dtype='object')"
      ]
     },
     "execution_count": 4,
     "metadata": {},
     "output_type": "execute_result"
    }
   ],
   "source": [
    "df.columns = df.columns.str.lower()\n",
    "df.columns"
   ]
  },
  {
   "cell_type": "code",
   "execution_count": 5,
   "id": "0389694d-9876-4e8c-9d74-207ff1782e96",
   "metadata": {
    "execution": {
     "iopub.execute_input": "2025-07-29T14:30:53.061326Z",
     "iopub.status.busy": "2025-07-29T14:30:53.060709Z",
     "iopub.status.idle": "2025-07-29T14:30:53.073408Z",
     "shell.execute_reply": "2025-07-29T14:30:53.072399Z",
     "shell.execute_reply.started": "2025-07-29T14:30:53.061298Z"
    }
   },
   "outputs": [
    {
     "data": {
      "text/html": [
       "<div>\n",
       "<style scoped>\n",
       "    .dataframe tbody tr th:only-of-type {\n",
       "        vertical-align: middle;\n",
       "    }\n",
       "\n",
       "    .dataframe tbody tr th {\n",
       "        vertical-align: top;\n",
       "    }\n",
       "\n",
       "    .dataframe thead th {\n",
       "        text-align: right;\n",
       "    }\n",
       "</style>\n",
       "<table border=\"1\" class=\"dataframe\">\n",
       "  <thead>\n",
       "    <tr style=\"text-align: right;\">\n",
       "      <th></th>\n",
       "      <th>id</th>\n",
       "      <th>address</th>\n",
       "      <th>zip</th>\n",
       "      <th>price</th>\n",
       "      <th>area</th>\n",
       "      <th>room</th>\n",
       "      <th>lon</th>\n",
       "      <th>lat</th>\n",
       "    </tr>\n",
       "  </thead>\n",
       "  <tbody>\n",
       "    <tr>\n",
       "      <th>921</th>\n",
       "      <td>922</td>\n",
       "      <td>Stuyvesantstraat 33 II, Amsterdam</td>\n",
       "      <td>1058 AK</td>\n",
       "      <td>350000.0</td>\n",
       "      <td>51</td>\n",
       "      <td>3</td>\n",
       "      <td>4.856935</td>\n",
       "      <td>52.363256</td>\n",
       "    </tr>\n",
       "    <tr>\n",
       "      <th>922</th>\n",
       "      <td>923</td>\n",
       "      <td>John Blankensteinstraat 51, Amsterdam</td>\n",
       "      <td>1095 MB</td>\n",
       "      <td>599000.0</td>\n",
       "      <td>113</td>\n",
       "      <td>4</td>\n",
       "      <td>4.965731</td>\n",
       "      <td>52.375268</td>\n",
       "    </tr>\n",
       "    <tr>\n",
       "      <th>923</th>\n",
       "      <td>924</td>\n",
       "      <td>S. F. van Ossstraat 334, Amsterdam</td>\n",
       "      <td>1068 JS</td>\n",
       "      <td>300000.0</td>\n",
       "      <td>79</td>\n",
       "      <td>4</td>\n",
       "      <td>4.810678</td>\n",
       "      <td>52.355493</td>\n",
       "    </tr>\n",
       "  </tbody>\n",
       "</table>\n",
       "</div>"
      ],
      "text/plain": [
       "      id                                address      zip     price  area  \\\n",
       "921  922      Stuyvesantstraat 33 II, Amsterdam  1058 AK  350000.0    51   \n",
       "922  923  John Blankensteinstraat 51, Amsterdam  1095 MB  599000.0   113   \n",
       "923  924     S. F. van Ossstraat 334, Amsterdam  1068 JS  300000.0    79   \n",
       "\n",
       "     room       lon        lat  \n",
       "921     3  4.856935  52.363256  \n",
       "922     4  4.965731  52.375268  \n",
       "923     4  4.810678  52.355493  "
      ]
     },
     "execution_count": 5,
     "metadata": {},
     "output_type": "execute_result"
    }
   ],
   "source": [
    "df.tail(3)"
   ]
  },
  {
   "cell_type": "code",
   "execution_count": 6,
   "id": "9b4c36f6-858e-4ff5-ba58-c53f636050c0",
   "metadata": {
    "execution": {
     "iopub.execute_input": "2025-07-29T14:30:53.074607Z",
     "iopub.status.busy": "2025-07-29T14:30:53.074269Z",
     "iopub.status.idle": "2025-07-29T14:30:53.084469Z",
     "shell.execute_reply": "2025-07-29T14:30:53.079251Z",
     "shell.execute_reply.started": "2025-07-29T14:30:53.074584Z"
    }
   },
   "outputs": [
    {
     "data": {
      "text/plain": [
       "(924, 8)"
      ]
     },
     "execution_count": 6,
     "metadata": {},
     "output_type": "execute_result"
    }
   ],
   "source": [
    "df.shape"
   ]
  },
  {
   "cell_type": "code",
   "execution_count": 7,
   "id": "9b331526-40cd-4416-ac83-7930fee1dcb4",
   "metadata": {
    "execution": {
     "iopub.execute_input": "2025-07-29T14:30:53.086547Z",
     "iopub.status.busy": "2025-07-29T14:30:53.085583Z",
     "iopub.status.idle": "2025-07-29T14:30:53.101893Z",
     "shell.execute_reply": "2025-07-29T14:30:53.100897Z",
     "shell.execute_reply.started": "2025-07-29T14:30:53.086512Z"
    }
   },
   "outputs": [
    {
     "name": "stdout",
     "output_type": "stream",
     "text": [
      "<class 'pandas.core.frame.DataFrame'>\n",
      "RangeIndex: 924 entries, 0 to 923\n",
      "Data columns (total 8 columns):\n",
      " #   Column   Non-Null Count  Dtype  \n",
      "---  ------   --------------  -----  \n",
      " 0   id       924 non-null    int64  \n",
      " 1   address  924 non-null    object \n",
      " 2   zip      924 non-null    object \n",
      " 3   price    920 non-null    float64\n",
      " 4   area     924 non-null    int64  \n",
      " 5   room     924 non-null    int64  \n",
      " 6   lon      924 non-null    float64\n",
      " 7   lat      924 non-null    float64\n",
      "dtypes: float64(3), int64(3), object(2)\n",
      "memory usage: 57.9+ KB\n"
     ]
    }
   ],
   "source": [
    "df.info()"
   ]
  },
  {
   "cell_type": "code",
   "execution_count": 8,
   "id": "bbfba205-f13f-4599-9859-11346759f630",
   "metadata": {
    "execution": {
     "iopub.execute_input": "2025-07-29T14:30:53.103644Z",
     "iopub.status.busy": "2025-07-29T14:30:53.102766Z",
     "iopub.status.idle": "2025-07-29T14:30:53.115776Z",
     "shell.execute_reply": "2025-07-29T14:30:53.109871Z",
     "shell.execute_reply.started": "2025-07-29T14:30:53.103617Z"
    }
   },
   "outputs": [
    {
     "data": {
      "text/plain": [
       "id         0\n",
       "address    0\n",
       "zip        0\n",
       "price      4\n",
       "area       0\n",
       "room       0\n",
       "lon        0\n",
       "lat        0\n",
       "dtype: int64"
      ]
     },
     "execution_count": 8,
     "metadata": {},
     "output_type": "execute_result"
    }
   ],
   "source": [
    "df.isna().sum()"
   ]
  },
  {
   "cell_type": "code",
   "execution_count": 9,
   "id": "a89370c6-433a-4359-baf6-76d199efc6c4",
   "metadata": {
    "execution": {
     "iopub.execute_input": "2025-07-29T14:30:53.117306Z",
     "iopub.status.busy": "2025-07-29T14:30:53.117042Z",
     "iopub.status.idle": "2025-07-29T14:30:53.136462Z",
     "shell.execute_reply": "2025-07-29T14:30:53.135334Z",
     "shell.execute_reply.started": "2025-07-29T14:30:53.117286Z"
    }
   },
   "outputs": [
    {
     "data": {
      "text/html": [
       "<div>\n",
       "<style scoped>\n",
       "    .dataframe tbody tr th:only-of-type {\n",
       "        vertical-align: middle;\n",
       "    }\n",
       "\n",
       "    .dataframe tbody tr th {\n",
       "        vertical-align: top;\n",
       "    }\n",
       "\n",
       "    .dataframe thead th {\n",
       "        text-align: right;\n",
       "    }\n",
       "</style>\n",
       "<table border=\"1\" class=\"dataframe\">\n",
       "  <thead>\n",
       "    <tr style=\"text-align: right;\">\n",
       "      <th></th>\n",
       "      <th>id</th>\n",
       "      <th>address</th>\n",
       "      <th>zip</th>\n",
       "      <th>price</th>\n",
       "      <th>area</th>\n",
       "      <th>room</th>\n",
       "      <th>lon</th>\n",
       "      <th>lat</th>\n",
       "    </tr>\n",
       "  </thead>\n",
       "  <tbody>\n",
       "    <tr>\n",
       "      <th>73</th>\n",
       "      <td>74</td>\n",
       "      <td>Falckstraat 47 A, Amsterdam</td>\n",
       "      <td>1017 VV</td>\n",
       "      <td>NaN</td>\n",
       "      <td>147</td>\n",
       "      <td>3</td>\n",
       "      <td>4.897454</td>\n",
       "      <td>52.360707</td>\n",
       "    </tr>\n",
       "    <tr>\n",
       "      <th>321</th>\n",
       "      <td>322</td>\n",
       "      <td>Haarlemmerweg 705, Amsterdam</td>\n",
       "      <td>1067 HP</td>\n",
       "      <td>NaN</td>\n",
       "      <td>366</td>\n",
       "      <td>12</td>\n",
       "      <td>4.787874</td>\n",
       "      <td>52.383877</td>\n",
       "    </tr>\n",
       "    <tr>\n",
       "      <th>610</th>\n",
       "      <td>611</td>\n",
       "      <td>Zeeburgerkade 760, Amsterdam</td>\n",
       "      <td>1019 HT</td>\n",
       "      <td>NaN</td>\n",
       "      <td>107</td>\n",
       "      <td>3</td>\n",
       "      <td>4.945022</td>\n",
       "      <td>52.369244</td>\n",
       "    </tr>\n",
       "    <tr>\n",
       "      <th>727</th>\n",
       "      <td>728</td>\n",
       "      <td>Suikerplein 16, Amsterdam</td>\n",
       "      <td>1013 CK</td>\n",
       "      <td>NaN</td>\n",
       "      <td>81</td>\n",
       "      <td>3</td>\n",
       "      <td>4.880976</td>\n",
       "      <td>52.389623</td>\n",
       "    </tr>\n",
       "  </tbody>\n",
       "</table>\n",
       "</div>"
      ],
      "text/plain": [
       "      id                       address      zip  price  area  room       lon  \\\n",
       "73    74   Falckstraat 47 A, Amsterdam  1017 VV    NaN   147     3  4.897454   \n",
       "321  322  Haarlemmerweg 705, Amsterdam  1067 HP    NaN   366    12  4.787874   \n",
       "610  611  Zeeburgerkade 760, Amsterdam  1019 HT    NaN   107     3  4.945022   \n",
       "727  728     Suikerplein 16, Amsterdam  1013 CK    NaN    81     3  4.880976   \n",
       "\n",
       "           lat  \n",
       "73   52.360707  \n",
       "321  52.383877  \n",
       "610  52.369244  \n",
       "727  52.389623  "
      ]
     },
     "execution_count": 9,
     "metadata": {},
     "output_type": "execute_result"
    }
   ],
   "source": [
    "df[df.price.isna()]"
   ]
  },
  {
   "cell_type": "code",
   "execution_count": 10,
   "id": "5d470306-c585-400e-8bac-e735375db5b0",
   "metadata": {
    "execution": {
     "iopub.execute_input": "2025-07-29T14:30:53.140421Z",
     "iopub.status.busy": "2025-07-29T14:30:53.139044Z",
     "iopub.status.idle": "2025-07-29T14:30:54.530523Z",
     "shell.execute_reply": "2025-07-29T14:30:54.529305Z",
     "shell.execute_reply.started": "2025-07-29T14:30:53.140394Z"
    }
   },
   "outputs": [
    {
     "data": {
      "image/png": "[encoded data removed]",
      "text/plain": [
       "<Figure size 1200x400 with 2 Axes>"
      ]
     },
     "metadata": {},
     "output_type": "display_data"
    }
   ],
   "source": [
    "import seaborn as sns\n",
    "import matplotlib.pyplot as plt\n",
    "plt.figure(figsize=(12, 4))\n",
    "plt.subplot(1, 2, 1)\n",
    "sns.boxplot(x=df['price'])\n",
    "plt.title(\"Price\")\n",
    "plt.subplot(1, 2, 2)\n",
    "sns.histplot(df['price'], bins=10)\n",
    "plt.title(\"Price Distribution\")\n",
    "plt.tight_layout()\n",
    "plt.show()"
   ]
  },
  {
   "cell_type": "code",
   "execution_count": 11,
   "id": "da5774a6-bb9d-4df5-840f-b9d071a28cb9",
   "metadata": {
    "execution": {
     "iopub.execute_input": "2025-07-29T14:30:54.533595Z",
     "iopub.status.busy": "2025-07-29T14:30:54.532640Z",
     "iopub.status.idle": "2025-07-29T14:30:54.838090Z",
     "shell.execute_reply": "2025-07-29T14:30:54.837263Z",
     "shell.execute_reply.started": "2025-07-29T14:30:54.533558Z"
    }
   },
   "outputs": [
    {
     "data": {
      "image/png": "[encoded data removed]",
      "text/plain": [
       "<Figure size 1200x400 with 2 Axes>"
      ]
     },
     "metadata": {},
     "output_type": "display_data"
    }
   ],
   "source": [
    "plt.figure(figsize=(12, 4))\n",
    "plt.subplot(1, 2, 1)\n",
    "sns.boxplot(x=df['area'])\n",
    "plt.title(\"Area\")\n",
    "plt.subplot(1, 2, 2)\n",
    "sns.histplot(df['area'], bins=10)\n",
    "plt.title(\"Area Distribution\")\n",
    "plt.tight_layout()\n",
    "plt.show()"
   ]
  },
  {
   "cell_type": "code",
   "execution_count": 12,
   "id": "64aa8822-815b-4b9c-aee6-54c46118d508",
   "metadata": {
    "execution": {
     "iopub.execute_input": "2025-07-29T14:30:54.840906Z",
     "iopub.status.busy": "2025-07-29T14:30:54.840399Z",
     "iopub.status.idle": "2025-07-29T14:30:55.136602Z",
     "shell.execute_reply": "2025-07-29T14:30:55.135838Z",
     "shell.execute_reply.started": "2025-07-29T14:30:54.840881Z"
    }
   },
   "outputs": [
    {
     "data": {
      "image/png": "[encoded data removed]",
      "text/plain": [
       "<Figure size 1200x400 with 2 Axes>"
      ]
     },
     "metadata": {},
     "output_type": "display_data"
    }
   ],
   "source": [
    "plt.figure(figsize=(12, 4))\n",
    "plt.subplot(1, 2, 1)\n",
    "sns.boxplot(x=df['room'])\n",
    "plt.title(\"Room\")\n",
    "plt.subplot(1, 2, 2)\n",
    "sns.histplot(df['room'], bins=10)\n",
    "plt.title(\"Room Distribution\")\n",
    "plt.tight_layout()\n",
    "plt.show()\n",
    "#we have outliers in all of them and they are right-skewed."
   ]
  },
  {
   "cell_type": "code",
   "execution_count": 13,
   "id": "3d370323-4ed8-4baa-9239-14b88d012893",
   "metadata": {
    "execution": {
     "iopub.execute_input": "2025-07-29T14:30:55.138020Z",
     "iopub.status.busy": "2025-07-29T14:30:55.137773Z",
     "iopub.status.idle": "2025-07-29T14:30:55.145236Z",
     "shell.execute_reply": "2025-07-29T14:30:55.144187Z",
     "shell.execute_reply.started": "2025-07-29T14:30:55.137998Z"
    }
   },
   "outputs": [],
   "source": [
    "#df['price'].fillna(df['price'].median(), inplace=True)\n",
    "#my data is skewed so I'll use median instead of mean.\n",
    "df.fillna({'price':df['price'].median()},inplace=True)"
   ]
  },
  {
   "cell_type": "code",
   "execution_count": 14,
   "id": "514fde20-c7bd-46a0-b715-95b09481af9e",
   "metadata": {
    "execution": {
     "iopub.execute_input": "2025-07-29T14:30:55.150524Z",
     "iopub.status.busy": "2025-07-29T14:30:55.150045Z",
     "iopub.status.idle": "2025-07-29T14:30:55.158029Z",
     "shell.execute_reply": "2025-07-29T14:30:55.156932Z",
     "shell.execute_reply.started": "2025-07-29T14:30:55.150499Z"
    }
   },
   "outputs": [],
   "source": [
    "#custom method for returning numbers of outliers\n",
    "def outlier_counter(x):\n",
    "    Q1 = df[f'{x}'].quantile(0.25)\n",
    "    Q3 = df[f'{x}'].quantile(0.75)\n",
    "    IQR = Q3 - Q1\n",
    "    outliers = df[(df[f'{x}'] < Q1 - 1.5*IQR) | (df[f'{x}'] > Q3 + 1.5*IQR)]\n",
    "    return outliers.count()"
   ]
  },
  {
   "cell_type": "code",
   "execution_count": 15,
   "id": "3d6018cd-8ea4-4b27-ac05-a9b8672c4510",
   "metadata": {
    "execution": {
     "iopub.execute_input": "2025-07-29T14:30:55.159249Z",
     "iopub.status.busy": "2025-07-29T14:30:55.158874Z",
     "iopub.status.idle": "2025-07-29T14:30:55.172090Z",
     "shell.execute_reply": "2025-07-29T14:30:55.171179Z",
     "shell.execute_reply.started": "2025-07-29T14:30:55.159225Z"
    }
   },
   "outputs": [
    {
     "data": {
      "text/plain": [
       "id         71\n",
       "address    71\n",
       "zip        71\n",
       "price      71\n",
       "area       71\n",
       "room       71\n",
       "lon        71\n",
       "lat        71\n",
       "dtype: int64"
      ]
     },
     "execution_count": 15,
     "metadata": {},
     "output_type": "execute_result"
    }
   ],
   "source": [
    "outlier_counter(\"price\")"
   ]
  },
  {
   "cell_type": "code",
   "execution_count": 16,
   "id": "533995ac-55f5-473e-80d9-55ade4d054c9",
   "metadata": {
    "execution": {
     "iopub.execute_input": "2025-07-29T14:30:55.173293Z",
     "iopub.status.busy": "2025-07-29T14:30:55.173029Z",
     "iopub.status.idle": "2025-07-29T14:30:55.185455Z",
     "shell.execute_reply": "2025-07-29T14:30:55.184711Z",
     "shell.execute_reply.started": "2025-07-29T14:30:55.173260Z"
    }
   },
   "outputs": [
    {
     "data": {
      "text/plain": [
       "id         47\n",
       "address    47\n",
       "zip        47\n",
       "price      47\n",
       "area       47\n",
       "room       47\n",
       "lon        47\n",
       "lat        47\n",
       "dtype: int64"
      ]
     },
     "execution_count": 16,
     "metadata": {},
     "output_type": "execute_result"
    }
   ],
   "source": [
    "outlier_counter(\"area\")"
   ]
  },
  {
   "cell_type": "code",
   "execution_count": 17,
   "id": "0f415db0-b8ae-4fe1-acdb-f707ff634b68",
   "metadata": {
    "execution": {
     "iopub.execute_input": "2025-07-29T14:30:55.186428Z",
     "iopub.status.busy": "2025-07-29T14:30:55.186210Z",
     "iopub.status.idle": "2025-07-29T14:30:55.197883Z",
     "shell.execute_reply": "2025-07-29T14:30:55.197026Z",
     "shell.execute_reply.started": "2025-07-29T14:30:55.186411Z"
    }
   },
   "outputs": [
    {
     "data": {
      "text/plain": [
       "id         102\n",
       "address    102\n",
       "zip        102\n",
       "price      102\n",
       "area       102\n",
       "room       102\n",
       "lon        102\n",
       "lat        102\n",
       "dtype: int64"
      ]
     },
     "execution_count": 17,
     "metadata": {},
     "output_type": "execute_result"
    }
   ],
   "source": [
    "outlier_counter(\"room\")"
   ]
  },
  {
   "cell_type": "code",
   "execution_count": 18,
   "id": "58f560b7-ac54-4f29-a112-737d600b785a",
   "metadata": {
    "execution": {
     "iopub.execute_input": "2025-07-29T14:30:55.199600Z",
     "iopub.status.busy": "2025-07-29T14:30:55.199347Z",
     "iopub.status.idle": "2025-07-29T14:30:55.222015Z",
     "shell.execute_reply": "2025-07-29T14:30:55.221151Z",
     "shell.execute_reply.started": "2025-07-29T14:30:55.199580Z"
    }
   },
   "outputs": [
    {
     "name": "stdout",
     "output_type": "stream",
     "text": [
      "price skewness: 4.83\n",
      "area skewness: 3.14\n",
      "room skewness: 2.03\n"
     ]
    }
   ],
   "source": [
    "from scipy.stats import skew\n",
    "cols = ['price', 'area', 'room']\n",
    "for col in cols:\n",
    "    print(f\"{col} skewness: {skew(df[col]):.2f}\")"
   ]
  },
  {
   "cell_type": "code",
   "execution_count": 19,
   "id": "b01c2585-7e82-49e6-8876-8fb4b0bff448",
   "metadata": {
    "execution": {
     "iopub.execute_input": "2025-07-29T14:30:55.223554Z",
     "iopub.status.busy": "2025-07-29T14:30:55.223281Z",
     "iopub.status.idle": "2025-07-29T14:30:55.231398Z",
     "shell.execute_reply": "2025-07-29T14:30:55.230226Z",
     "shell.execute_reply.started": "2025-07-29T14:30:55.223532Z"
    }
   },
   "outputs": [],
   "source": [
    "import numpy as np\n",
    "\n",
    "df['price_log'] = np.log1p(df['price'])\n",
    "df['area_log'] = np.log1p(df['area'])\n",
    "df['room_log'] = np.log1p(df['room'])"
   ]
  },
  {
   "cell_type": "code",
   "execution_count": 20,
   "id": "471b3fa8-ed7c-4399-bcba-7f7d40cae1df",
   "metadata": {
    "execution": {
     "iopub.execute_input": "2025-07-29T14:30:55.234573Z",
     "iopub.status.busy": "2025-07-29T14:30:55.234274Z",
     "iopub.status.idle": "2025-07-29T14:30:55.247215Z",
     "shell.execute_reply": "2025-07-29T14:30:55.244549Z",
     "shell.execute_reply.started": "2025-07-29T14:30:55.234550Z"
    }
   },
   "outputs": [
    {
     "name": "stdout",
     "output_type": "stream",
     "text": [
      "price_log skewness: 1.08\n",
      "area_log skewness: 0.41\n",
      "room_log skewness: 0.45\n"
     ]
    }
   ],
   "source": [
    "from scipy.stats import skew\n",
    "\n",
    "for col in ['price_log', 'area_log', 'room_log']:\n",
    "    print(f\"{col} skewness: {skew(df[col]):.2f}\")"
   ]
  },
  {
   "cell_type": "code",
   "execution_count": 21,
   "id": "04fef8fe-0309-40c7-92e2-904a9a5ab7f7",
   "metadata": {
    "execution": {
     "iopub.execute_input": "2025-07-29T14:30:55.255641Z",
     "iopub.status.busy": "2025-07-29T14:30:55.253303Z",
     "iopub.status.idle": "2025-07-29T14:30:55.270318Z",
     "shell.execute_reply": "2025-07-29T14:30:55.269417Z",
     "shell.execute_reply.started": "2025-07-29T14:30:55.255597Z"
    }
   },
   "outputs": [
    {
     "data": {
      "text/plain": [
       "id           18\n",
       "address      18\n",
       "zip          18\n",
       "price        18\n",
       "area         18\n",
       "room         18\n",
       "lon          18\n",
       "lat          18\n",
       "price_log    18\n",
       "area_log     18\n",
       "room_log     18\n",
       "dtype: int64"
      ]
     },
     "execution_count": 21,
     "metadata": {},
     "output_type": "execute_result"
    }
   ],
   "source": [
    "outlier_counter(\"price_log\")"
   ]
  },
  {
   "cell_type": "code",
   "execution_count": 22,
   "id": "3dca2a13-4bf7-4aad-a79c-c94ee33a6d22",
   "metadata": {
    "execution": {
     "iopub.execute_input": "2025-07-29T14:30:55.310992Z",
     "iopub.status.busy": "2025-07-29T14:30:55.310284Z",
     "iopub.status.idle": "2025-07-29T14:30:55.327339Z",
     "shell.execute_reply": "2025-07-29T14:30:55.323465Z",
     "shell.execute_reply.started": "2025-07-29T14:30:55.310953Z"
    }
   },
   "outputs": [
    {
     "data": {
      "text/plain": [
       "id           14\n",
       "address      14\n",
       "zip          14\n",
       "price        14\n",
       "area         14\n",
       "room         14\n",
       "lon          14\n",
       "lat          14\n",
       "price_log    14\n",
       "area_log     14\n",
       "room_log     14\n",
       "dtype: int64"
      ]
     },
     "execution_count": 22,
     "metadata": {},
     "output_type": "execute_result"
    }
   ],
   "source": [
    "outlier_counter(\"area_log\")"
   ]
  },
  {
   "cell_type": "code",
   "execution_count": 23,
   "id": "05da1273-6aca-4e16-bb0f-bd3ea8f2cd01",
   "metadata": {
    "execution": {
     "iopub.execute_input": "2025-07-29T14:30:55.515557Z",
     "iopub.status.busy": "2025-07-29T14:30:55.513227Z",
     "iopub.status.idle": "2025-07-29T14:30:55.533857Z",
     "shell.execute_reply": "2025-07-29T14:30:55.532365Z",
     "shell.execute_reply.started": "2025-07-29T14:30:55.515292Z"
    }
   },
   "outputs": [
    {
     "data": {
      "text/plain": [
       "id           102\n",
       "address      102\n",
       "zip          102\n",
       "price        102\n",
       "area         102\n",
       "room         102\n",
       "lon          102\n",
       "lat          102\n",
       "price_log    102\n",
       "area_log     102\n",
       "room_log     102\n",
       "dtype: int64"
      ]
     },
     "execution_count": 23,
     "metadata": {},
     "output_type": "execute_result"
    }
   ],
   "source": [
    "outlier_counter(\"room_log\")"
   ]
  },
  {
   "cell_type": "code",
   "execution_count": 24,
   "id": "ec1ec523-327d-409f-bb8e-145acce25228",
   "metadata": {
    "execution": {
     "iopub.execute_input": "2025-07-29T14:30:55.731478Z",
     "iopub.status.busy": "2025-07-29T14:30:55.731018Z",
     "iopub.status.idle": "2025-07-29T14:30:55.756055Z",
     "shell.execute_reply": "2025-07-29T14:30:55.754942Z",
     "shell.execute_reply.started": "2025-07-29T14:30:55.731451Z"
    }
   },
   "outputs": [
    {
     "name": "stdout",
     "output_type": "stream",
     "text": [
      "      id                            address      price  area  room\n",
      "3      4       Tenerifestraat 40, Amsterdam   580000.0   128     6\n",
      "16    17  Paramaribostraat 122 3, Amsterdam   700000.0   102     6\n",
      "20    21     Keizersgracht 171 F, Amsterdam  1625000.0   199     6\n",
      "28    29      Colenbranderhof 30, Amsterdam  1650000.0   235     7\n",
      "33    34      Vondelstraat 51 hs, Amsterdam  3925000.0   319     7\n",
      "..   ...                                ...        ...   ...   ...\n",
      "900  901      Kanaalstraat 100 G, Amsterdam   199000.0    21     1\n",
      "906  907        Buiksloterweg 99, Amsterdam  1250000.0   180     9\n",
      "917  918          Kromme Waal 18, Amsterdam  1500000.0   194     9\n",
      "918  919                Ringdijk, Amsterdam   295000.0    41     1\n",
      "919  920                Ringdijk, Amsterdam   750000.0   117     1\n",
      "\n",
      "[102 rows x 5 columns]\n"
     ]
    }
   ],
   "source": [
    "#Well, those outliers are real data, not a mistake, so I will keep them as it is.\n",
    "room_outliers = df[(df['room_log'] < df['room_log'].quantile(0.25) - 1.5 * (df['room_log'].quantile(0.75) - df['room_log'].quantile(0.25))) |\n",
    "                   (df['room_log'] > df['room_log'].quantile(0.75) + 1.5 * (df['room_log'].quantile(0.75) - df['room_log'].quantile(0.25)))]\n",
    "\n",
    "print(room_outliers[['id', 'address', 'price', 'area', 'room']])"
   ]
  },
  {
   "cell_type": "code",
   "execution_count": 25,
   "id": "67c71db3-290c-43ed-a28c-9b58331ffe35",
   "metadata": {
    "execution": {
     "iopub.execute_input": "2025-07-29T14:30:56.157977Z",
     "iopub.status.busy": "2025-07-29T14:30:56.157486Z",
     "iopub.status.idle": "2025-07-29T14:30:56.169728Z",
     "shell.execute_reply": "2025-07-29T14:30:56.168762Z",
     "shell.execute_reply.started": "2025-07-29T14:30:56.157946Z"
    }
   },
   "outputs": [
    {
     "data": {
      "text/html": [
       "<div>\n",
       "<style scoped>\n",
       "    .dataframe tbody tr th:only-of-type {\n",
       "        vertical-align: middle;\n",
       "    }\n",
       "\n",
       "    .dataframe tbody tr th {\n",
       "        vertical-align: top;\n",
       "    }\n",
       "\n",
       "    .dataframe thead th {\n",
       "        text-align: right;\n",
       "    }\n",
       "</style>\n",
       "<table border=\"1\" class=\"dataframe\">\n",
       "  <thead>\n",
       "    <tr style=\"text-align: right;\">\n",
       "      <th></th>\n",
       "      <th>id</th>\n",
       "      <th>address</th>\n",
       "      <th>zip</th>\n",
       "      <th>price</th>\n",
       "      <th>area</th>\n",
       "      <th>room</th>\n",
       "      <th>lon</th>\n",
       "      <th>lat</th>\n",
       "      <th>price_log</th>\n",
       "      <th>area_log</th>\n",
       "      <th>room_log</th>\n",
       "    </tr>\n",
       "  </thead>\n",
       "  <tbody>\n",
       "  </tbody>\n",
       "</table>\n",
       "</div>"
      ],
      "text/plain": [
       "Empty DataFrame\n",
       "Columns: [id, address, zip, price, area, room, lon, lat, price_log, area_log, room_log]\n",
       "Index: []"
      ]
     },
     "execution_count": 25,
     "metadata": {},
     "output_type": "execute_result"
    }
   ],
   "source": [
    "#There are not any unrealistic values for size of the area\n",
    "df[df['area']<10]"
   ]
  },
  {
   "cell_type": "code",
   "execution_count": 26,
   "id": "55c6c74f-d1e4-44a6-8219-15079067cb9a",
   "metadata": {
    "execution": {
     "iopub.execute_input": "2025-07-29T14:30:56.366839Z",
     "iopub.status.busy": "2025-07-29T14:30:56.366363Z",
     "iopub.status.idle": "2025-07-29T14:30:56.389693Z",
     "shell.execute_reply": "2025-07-29T14:30:56.386985Z",
     "shell.execute_reply.started": "2025-07-29T14:30:56.366747Z"
    }
   },
   "outputs": [
    {
     "data": {
      "text/html": [
       "<div>\n",
       "<style scoped>\n",
       "    .dataframe tbody tr th:only-of-type {\n",
       "        vertical-align: middle;\n",
       "    }\n",
       "\n",
       "    .dataframe tbody tr th {\n",
       "        vertical-align: top;\n",
       "    }\n",
       "\n",
       "    .dataframe thead th {\n",
       "        text-align: right;\n",
       "    }\n",
       "</style>\n",
       "<table border=\"1\" class=\"dataframe\">\n",
       "  <thead>\n",
       "    <tr style=\"text-align: right;\">\n",
       "      <th></th>\n",
       "      <th>id</th>\n",
       "      <th>address</th>\n",
       "      <th>zip</th>\n",
       "      <th>price</th>\n",
       "      <th>area</th>\n",
       "      <th>room</th>\n",
       "      <th>lon</th>\n",
       "      <th>lat</th>\n",
       "      <th>price_log</th>\n",
       "      <th>area_log</th>\n",
       "      <th>room_log</th>\n",
       "    </tr>\n",
       "  </thead>\n",
       "  <tbody>\n",
       "  </tbody>\n",
       "</table>\n",
       "</div>"
      ],
      "text/plain": [
       "Empty DataFrame\n",
       "Columns: [id, address, zip, price, area, room, lon, lat, price_log, area_log, room_log]\n",
       "Index: []"
      ]
     },
     "execution_count": 26,
     "metadata": {},
     "output_type": "execute_result"
    }
   ],
   "source": [
    "#Neither for room\n",
    "df[df['room']<1]"
   ]
  },
  {
   "cell_type": "code",
   "execution_count": 27,
   "id": "ff9739a7-9ae5-4209-8e48-c11ed8d50e1b",
   "metadata": {
    "execution": {
     "iopub.execute_input": "2025-07-29T14:30:56.581332Z",
     "iopub.status.busy": "2025-07-29T14:30:56.581026Z",
     "iopub.status.idle": "2025-07-29T14:30:56.902900Z",
     "shell.execute_reply": "2025-07-29T14:30:56.900754Z",
     "shell.execute_reply.started": "2025-07-29T14:30:56.581308Z"
    }
   },
   "outputs": [
    {
     "data": {
      "text/plain": [
       "<Axes: xlabel='area', ylabel='price'>"
      ]
     },
     "execution_count": 27,
     "metadata": {},
     "output_type": "execute_result"
    },
    {
     "data": {
      "image/png": "[encoded data removed]",
      "text/plain": [
       "<Figure size 640x480 with 1 Axes>"
      ]
     },
     "metadata": {},
     "output_type": "display_data"
    }
   ],
   "source": [
    "sns.scatterplot(x='area', y='price', data=df)"
   ]
  },
  {
   "cell_type": "code",
   "execution_count": 28,
   "id": "8f1aee06-9b71-4e62-84a2-72d8bdeca6e8",
   "metadata": {
    "execution": {
     "iopub.execute_input": "2025-07-29T14:30:56.914386Z",
     "iopub.status.busy": "2025-07-29T14:30:56.913454Z",
     "iopub.status.idle": "2025-07-29T14:30:57.112246Z",
     "shell.execute_reply": "2025-07-29T14:30:57.109993Z",
     "shell.execute_reply.started": "2025-07-29T14:30:56.914350Z"
    }
   },
   "outputs": [
    {
     "data": {
      "text/plain": [
       "<Axes: xlabel='area_log', ylabel='price_log'>"
      ]
     },
     "execution_count": 28,
     "metadata": {},
     "output_type": "execute_result"
    },
    {
     "data": {
      "image/png": "[encoded data removed]",
      "text/plain": [
       "<Figure size 640x480 with 1 Axes>"
      ]
     },
     "metadata": {},
     "output_type": "display_data"
    }
   ],
   "source": [
    "#it seems we have better correlation now\n",
    "sns.scatterplot(x='area_log', y='price_log', data=df)"
   ]
  },
  {
   "cell_type": "code",
   "execution_count": 29,
   "id": "9e218b79-dbc9-4366-bbd4-260b90e022a4",
   "metadata": {
    "execution": {
     "iopub.execute_input": "2025-07-29T14:30:57.138298Z",
     "iopub.status.busy": "2025-07-29T14:30:57.137515Z",
     "iopub.status.idle": "2025-07-29T14:30:57.324900Z",
     "shell.execute_reply": "2025-07-29T14:30:57.324102Z",
     "shell.execute_reply.started": "2025-07-29T14:30:57.138265Z"
    }
   },
   "outputs": [
    {
     "data": {
      "text/plain": [
       "<Axes: xlabel='room', ylabel='price'>"
      ]
     },
     "execution_count": 29,
     "metadata": {},
     "output_type": "execute_result"
    },
    {
     "data": {
      "image/png": "[encoded data removed]",
      "text/plain": [
       "<Figure size 640x480 with 1 Axes>"
      ]
     },
     "metadata": {},
     "output_type": "display_data"
    }
   ],
   "source": [
    "sns.scatterplot(x='room', y='price', data=df)"
   ]
  },
  {
   "cell_type": "code",
   "execution_count": 30,
   "id": "261f7485-a9e9-40c7-b17b-54b8906d2ee5",
   "metadata": {
    "execution": {
     "iopub.execute_input": "2025-07-29T14:30:57.547197Z",
     "iopub.status.busy": "2025-07-29T14:30:57.546767Z",
     "iopub.status.idle": "2025-07-29T14:30:57.751372Z",
     "shell.execute_reply": "2025-07-29T14:30:57.750077Z",
     "shell.execute_reply.started": "2025-07-29T14:30:57.547168Z"
    }
   },
   "outputs": [
    {
     "data": {
      "text/plain": [
       "<Axes: xlabel='room_log', ylabel='price_log'>"
      ]
     },
     "execution_count": 30,
     "metadata": {},
     "output_type": "execute_result"
    },
    {
     "data": {
      "image/png": "[encoded data removed]",
      "text/plain": [
       "<Figure size 640x480 with 1 Axes>"
      ]
     },
     "metadata": {},
     "output_type": "display_data"
    }
   ],
   "source": [
    "sns.scatterplot(x='room_log', y='price_log', data=df)"
   ]
  },
  {
   "cell_type": "code",
   "execution_count": 31,
   "id": "0cc031cf-62f6-44ad-a53d-5f3204f54712",
   "metadata": {
    "execution": {
     "iopub.execute_input": "2025-07-29T14:30:57.903377Z",
     "iopub.status.busy": "2025-07-29T14:30:57.902454Z",
     "iopub.status.idle": "2025-07-29T14:30:58.086622Z",
     "shell.execute_reply": "2025-07-29T14:30:58.085544Z",
     "shell.execute_reply.started": "2025-07-29T14:30:57.903262Z"
    }
   },
   "outputs": [
    {
     "data": {
      "image/png": "[encoded data removed]",
      "text/plain": [
       "<Figure size 640x480 with 2 Axes>"
      ]
     },
     "metadata": {},
     "output_type": "display_data"
    }
   ],
   "source": [
    "import seaborn as sns\n",
    "import matplotlib.pyplot as plt\n",
    "\n",
    "sns.heatmap(df[['price', 'area', 'room']].corr(), annot=True)\n",
    "plt.show()\n",
    "\n"
   ]
  },
  {
   "cell_type": "code",
   "execution_count": 32,
   "id": "c5acfc1f-a5c6-4c50-99d3-6d34eba757cc",
   "metadata": {
    "execution": {
     "iopub.execute_input": "2025-07-29T14:30:58.387643Z",
     "iopub.status.busy": "2025-07-29T14:30:58.386480Z",
     "iopub.status.idle": "2025-07-29T14:30:58.577098Z",
     "shell.execute_reply": "2025-07-29T14:30:58.576359Z",
     "shell.execute_reply.started": "2025-07-29T14:30:58.387608Z"
    }
   },
   "outputs": [
    {
     "data": {
      "image/png": "[encoded data removed]",
      "text/plain": [
       "<Figure size 640x480 with 2 Axes>"
      ]
     },
     "metadata": {},
     "output_type": "display_data"
    }
   ],
   "source": [
    "#correlation between area and room decreased\n",
    "sns.heatmap(df[['price_log', 'area_log', 'room_log']].corr(), annot=True)\n",
    "plt.show()"
   ]
  },
  {
   "cell_type": "code",
   "execution_count": 33,
   "id": "6913d584-42b6-49f9-a916-9193b6565d62",
   "metadata": {
    "execution": {
     "iopub.execute_input": "2025-07-29T14:30:59.104446Z",
     "iopub.status.busy": "2025-07-29T14:30:59.103655Z",
     "iopub.status.idle": "2025-07-29T14:30:59.115744Z",
     "shell.execute_reply": "2025-07-29T14:30:59.114598Z",
     "shell.execute_reply.started": "2025-07-29T14:30:59.104415Z"
    }
   },
   "outputs": [],
   "source": [
    "df['city']=df.address.str.split(',').str[1]\n",
    "df['street']=df.address.str.split(',').str[0].str.split(r\"\\d\").str[0]"
   ]
  },
  {
   "cell_type": "code",
   "execution_count": 34,
   "id": "65d3f4b0-3dd7-4605-aae7-39b9a1bcba2b",
   "metadata": {
    "execution": {
     "iopub.execute_input": "2025-07-29T14:31:00.321654Z",
     "iopub.status.busy": "2025-07-29T14:31:00.320847Z",
     "iopub.status.idle": "2025-07-29T14:31:00.340106Z",
     "shell.execute_reply": "2025-07-29T14:31:00.335199Z",
     "shell.execute_reply.started": "2025-07-29T14:31:00.321625Z"
    }
   },
   "outputs": [
    {
     "data": {
      "text/html": [
       "<div>\n",
       "<style scoped>\n",
       "    .dataframe tbody tr th:only-of-type {\n",
       "        vertical-align: middle;\n",
       "    }\n",
       "\n",
       "    .dataframe tbody tr th {\n",
       "        vertical-align: top;\n",
       "    }\n",
       "\n",
       "    .dataframe thead th {\n",
       "        text-align: right;\n",
       "    }\n",
       "</style>\n",
       "<table border=\"1\" class=\"dataframe\">\n",
       "  <thead>\n",
       "    <tr style=\"text-align: right;\">\n",
       "      <th></th>\n",
       "      <th>id</th>\n",
       "      <th>address</th>\n",
       "      <th>zip</th>\n",
       "      <th>price</th>\n",
       "      <th>area</th>\n",
       "      <th>room</th>\n",
       "      <th>lon</th>\n",
       "      <th>lat</th>\n",
       "      <th>price_log</th>\n",
       "      <th>area_log</th>\n",
       "      <th>room_log</th>\n",
       "      <th>city</th>\n",
       "      <th>street</th>\n",
       "    </tr>\n",
       "  </thead>\n",
       "  <tbody>\n",
       "    <tr>\n",
       "      <th>919</th>\n",
       "      <td>920</td>\n",
       "      <td>Ringdijk, Amsterdam</td>\n",
       "      <td>1097 AE</td>\n",
       "      <td>750000.0</td>\n",
       "      <td>117</td>\n",
       "      <td>1</td>\n",
       "      <td>4.927757</td>\n",
       "      <td>52.354173</td>\n",
       "      <td>13.527830</td>\n",
       "      <td>4.770685</td>\n",
       "      <td>0.693147</td>\n",
       "      <td>Amsterdam</td>\n",
       "      <td>Ringdijk</td>\n",
       "    </tr>\n",
       "    <tr>\n",
       "      <th>920</th>\n",
       "      <td>921</td>\n",
       "      <td>Kleine Beerstraat 31, Amsterdam</td>\n",
       "      <td>1033 CP</td>\n",
       "      <td>350000.0</td>\n",
       "      <td>72</td>\n",
       "      <td>3</td>\n",
       "      <td>4.890612</td>\n",
       "      <td>52.414587</td>\n",
       "      <td>12.765691</td>\n",
       "      <td>4.290459</td>\n",
       "      <td>1.386294</td>\n",
       "      <td>Amsterdam</td>\n",
       "      <td>Kleine Beerstraat</td>\n",
       "    </tr>\n",
       "    <tr>\n",
       "      <th>921</th>\n",
       "      <td>922</td>\n",
       "      <td>Stuyvesantstraat 33 II, Amsterdam</td>\n",
       "      <td>1058 AK</td>\n",
       "      <td>350000.0</td>\n",
       "      <td>51</td>\n",
       "      <td>3</td>\n",
       "      <td>4.856935</td>\n",
       "      <td>52.363256</td>\n",
       "      <td>12.765691</td>\n",
       "      <td>3.951244</td>\n",
       "      <td>1.386294</td>\n",
       "      <td>Amsterdam</td>\n",
       "      <td>Stuyvesantstraat</td>\n",
       "    </tr>\n",
       "    <tr>\n",
       "      <th>922</th>\n",
       "      <td>923</td>\n",
       "      <td>John Blankensteinstraat 51, Amsterdam</td>\n",
       "      <td>1095 MB</td>\n",
       "      <td>599000.0</td>\n",
       "      <td>113</td>\n",
       "      <td>4</td>\n",
       "      <td>4.965731</td>\n",
       "      <td>52.375268</td>\n",
       "      <td>13.303019</td>\n",
       "      <td>4.736198</td>\n",
       "      <td>1.609438</td>\n",
       "      <td>Amsterdam</td>\n",
       "      <td>John Blankensteinstraat</td>\n",
       "    </tr>\n",
       "    <tr>\n",
       "      <th>923</th>\n",
       "      <td>924</td>\n",
       "      <td>S. F. van Ossstraat 334, Amsterdam</td>\n",
       "      <td>1068 JS</td>\n",
       "      <td>300000.0</td>\n",
       "      <td>79</td>\n",
       "      <td>4</td>\n",
       "      <td>4.810678</td>\n",
       "      <td>52.355493</td>\n",
       "      <td>12.611541</td>\n",
       "      <td>4.382027</td>\n",
       "      <td>1.609438</td>\n",
       "      <td>Amsterdam</td>\n",
       "      <td>S. F. van Ossstraat</td>\n",
       "    </tr>\n",
       "  </tbody>\n",
       "</table>\n",
       "</div>"
      ],
      "text/plain": [
       "      id                                address      zip     price  area  \\\n",
       "919  920                    Ringdijk, Amsterdam  1097 AE  750000.0   117   \n",
       "920  921        Kleine Beerstraat 31, Amsterdam  1033 CP  350000.0    72   \n",
       "921  922      Stuyvesantstraat 33 II, Amsterdam  1058 AK  350000.0    51   \n",
       "922  923  John Blankensteinstraat 51, Amsterdam  1095 MB  599000.0   113   \n",
       "923  924     S. F. van Ossstraat 334, Amsterdam  1068 JS  300000.0    79   \n",
       "\n",
       "     room       lon        lat  price_log  area_log  room_log        city  \\\n",
       "919     1  4.927757  52.354173  13.527830  4.770685  0.693147   Amsterdam   \n",
       "920     3  4.890612  52.414587  12.765691  4.290459  1.386294   Amsterdam   \n",
       "921     3  4.856935  52.363256  12.765691  3.951244  1.386294   Amsterdam   \n",
       "922     4  4.965731  52.375268  13.303019  4.736198  1.609438   Amsterdam   \n",
       "923     4  4.810678  52.355493  12.611541  4.382027  1.609438   Amsterdam   \n",
       "\n",
       "                       street  \n",
       "919                  Ringdijk  \n",
       "920        Kleine Beerstraat   \n",
       "921         Stuyvesantstraat   \n",
       "922  John Blankensteinstraat   \n",
       "923      S. F. van Ossstraat   "
      ]
     },
     "execution_count": 34,
     "metadata": {},
     "output_type": "execute_result"
    }
   ],
   "source": [
    "df.tail()"
   ]
  },
  {
   "cell_type": "code",
   "execution_count": 35,
   "id": "90fbd373-1cc6-47bb-baf7-34814f699442",
   "metadata": {
    "execution": {
     "iopub.execute_input": "2025-07-29T14:31:03.070996Z",
     "iopub.status.busy": "2025-07-29T14:31:03.070046Z",
     "iopub.status.idle": "2025-07-29T14:31:03.080614Z",
     "shell.execute_reply": "2025-07-29T14:31:03.078416Z",
     "shell.execute_reply.started": "2025-07-29T14:31:03.070959Z"
    }
   },
   "outputs": [
    {
     "data": {
      "text/plain": [
       "city\n",
       "Amsterdam    621394.140693\n",
       "Name: price, dtype: float64"
      ]
     },
     "execution_count": 35,
     "metadata": {},
     "output_type": "execute_result"
    }
   ],
   "source": [
    "df.groupby('city')['price'].mean()\n",
    "#it seems we do not need city table so i will drop, If we would collect more data from other countries as well i would keep it"
   ]
  },
  {
   "cell_type": "code",
   "execution_count": 36,
   "id": "be98f5c6-3e77-4dcd-8222-9e2bfae2166e",
   "metadata": {
    "execution": {
     "iopub.execute_input": "2025-07-29T14:31:04.017924Z",
     "iopub.status.busy": "2025-07-29T14:31:04.017220Z",
     "iopub.status.idle": "2025-07-29T14:31:04.023462Z",
     "shell.execute_reply": "2025-07-29T14:31:04.022483Z",
     "shell.execute_reply.started": "2025-07-29T14:31:04.017891Z"
    }
   },
   "outputs": [],
   "source": [
    "df.drop(columns='city',inplace=True)"
   ]
  },
  {
   "cell_type": "code",
   "execution_count": 37,
   "id": "4592a853-70cb-43f9-9048-b5b9f42f4a12",
   "metadata": {
    "execution": {
     "iopub.execute_input": "2025-07-29T14:31:04.934679Z",
     "iopub.status.busy": "2025-07-29T14:31:04.933714Z",
     "iopub.status.idle": "2025-07-29T14:31:04.946356Z",
     "shell.execute_reply": "2025-07-29T14:31:04.945269Z",
     "shell.execute_reply.started": "2025-07-29T14:31:04.934643Z"
    }
   },
   "outputs": [],
   "source": [
    "# we do not need amsterdam part so i will remove from there to to save some space\n",
    "df['address']=df.address.str.split(',').str[0]"
   ]
  },
  {
   "cell_type": "code",
   "execution_count": 38,
   "id": "dfdcb5ca-d00b-4d2b-a056-ead3d60c8df9",
   "metadata": {
    "execution": {
     "iopub.execute_input": "2025-07-29T14:31:06.100857Z",
     "iopub.status.busy": "2025-07-29T14:31:06.100463Z",
     "iopub.status.idle": "2025-07-29T14:31:06.119868Z",
     "shell.execute_reply": "2025-07-29T14:31:06.117673Z",
     "shell.execute_reply.started": "2025-07-29T14:31:06.100830Z"
    }
   },
   "outputs": [
    {
     "data": {
      "text/plain": [
       "street\n",
       "                         3.100000e+05\n",
       "'t Nopeind               7.650000e+05\n",
       "Aalbersestraat           2.950000e+05\n",
       "Aalsmeerweg              4.375000e+05\n",
       "Achillesstraat           4.000000e+05\n",
       "                             ...     \n",
       "Zocherstraat             1.200000e+06\n",
       "Zuideinde                7.476667e+05\n",
       "Zuidelijke Wandelweg     9.025000e+05\n",
       "Zwanenplein              4.650000e+05\n",
       "ms. van Riemsdijkweg     7.500000e+05\n",
       "Name: price, Length: 624, dtype: float64"
      ]
     },
     "execution_count": 38,
     "metadata": {},
     "output_type": "execute_result"
    }
   ],
   "source": [
    "df.groupby('street')['price'].mean()"
   ]
  },
  {
   "cell_type": "code",
   "execution_count": 41,
   "id": "c846192b-1fbb-4b04-b9ed-187f7cc46b94",
   "metadata": {
    "execution": {
     "iopub.execute_input": "2025-07-29T14:31:49.790815Z",
     "iopub.status.busy": "2025-07-29T14:31:49.790429Z",
     "iopub.status.idle": "2025-07-29T14:31:49.804430Z",
     "shell.execute_reply": "2025-07-29T14:31:49.802900Z",
     "shell.execute_reply.started": "2025-07-29T14:31:49.790787Z"
    }
   },
   "outputs": [
    {
     "data": {
      "text/plain": [
       "0      1091\n",
       "1      1059\n",
       "2      1097\n",
       "3      1060\n",
       "4      1036\n",
       "       ... \n",
       "919    1097\n",
       "920    1033\n",
       "921    1058\n",
       "922    1095\n",
       "923    1068\n",
       "Name: zip, Length: 924, dtype: object"
      ]
     },
     "execution_count": 41,
     "metadata": {},
     "output_type": "execute_result"
    }
   ],
   "source": [
    "df.zip.str.split(\" \").str[0]"
   ]
  },
  {
   "cell_type": "code",
   "execution_count": 42,
   "id": "1b812fed-6f1e-4091-be67-a27b83b51ba2",
   "metadata": {
    "execution": {
     "iopub.execute_input": "2025-07-29T14:31:59.624106Z",
     "iopub.status.busy": "2025-07-29T14:31:59.623482Z",
     "iopub.status.idle": "2025-07-29T14:31:59.648280Z",
     "shell.execute_reply": "2025-07-29T14:31:59.647502Z",
     "shell.execute_reply.started": "2025-07-29T14:31:59.624072Z"
    }
   },
   "outputs": [
    {
     "data": {
      "text/html": [
       "<div>\n",
       "<style scoped>\n",
       "    .dataframe tbody tr th:only-of-type {\n",
       "        vertical-align: middle;\n",
       "    }\n",
       "\n",
       "    .dataframe tbody tr th {\n",
       "        vertical-align: top;\n",
       "    }\n",
       "\n",
       "    .dataframe thead th {\n",
       "        text-align: right;\n",
       "    }\n",
       "</style>\n",
       "<table border=\"1\" class=\"dataframe\">\n",
       "  <thead>\n",
       "    <tr style=\"text-align: right;\">\n",
       "      <th></th>\n",
       "      <th>id</th>\n",
       "      <th>address</th>\n",
       "      <th>price</th>\n",
       "      <th>area</th>\n",
       "      <th>room</th>\n",
       "      <th>lon</th>\n",
       "      <th>lat</th>\n",
       "      <th>price_log</th>\n",
       "      <th>area_log</th>\n",
       "      <th>room_log</th>\n",
       "      <th>street</th>\n",
       "      <th>district</th>\n",
       "      <th>sector</th>\n",
       "    </tr>\n",
       "  </thead>\n",
       "  <tbody>\n",
       "    <tr>\n",
       "      <th>0</th>\n",
       "      <td>1</td>\n",
       "      <td>Blasiusstraat 8 2</td>\n",
       "      <td>685000.0</td>\n",
       "      <td>64</td>\n",
       "      <td>3</td>\n",
       "      <td>4.907736</td>\n",
       "      <td>52.356157</td>\n",
       "      <td>13.437176</td>\n",
       "      <td>4.174387</td>\n",
       "      <td>1.386294</td>\n",
       "      <td>Blasiusstraat</td>\n",
       "      <td>1091</td>\n",
       "      <td>CR</td>\n",
       "    </tr>\n",
       "    <tr>\n",
       "      <th>1</th>\n",
       "      <td>2</td>\n",
       "      <td>Kromme Leimuidenstraat 13 H</td>\n",
       "      <td>475000.0</td>\n",
       "      <td>60</td>\n",
       "      <td>3</td>\n",
       "      <td>4.850476</td>\n",
       "      <td>52.348586</td>\n",
       "      <td>13.071072</td>\n",
       "      <td>4.110874</td>\n",
       "      <td>1.386294</td>\n",
       "      <td>Kromme Leimuidenstraat</td>\n",
       "      <td>1059</td>\n",
       "      <td>EL</td>\n",
       "    </tr>\n",
       "    <tr>\n",
       "      <th>2</th>\n",
       "      <td>3</td>\n",
       "      <td>Zaaiersweg 11 A</td>\n",
       "      <td>850000.0</td>\n",
       "      <td>109</td>\n",
       "      <td>4</td>\n",
       "      <td>4.944774</td>\n",
       "      <td>52.343782</td>\n",
       "      <td>13.652993</td>\n",
       "      <td>4.700480</td>\n",
       "      <td>1.609438</td>\n",
       "      <td>Zaaiersweg</td>\n",
       "      <td>1097</td>\n",
       "      <td>SM</td>\n",
       "    </tr>\n",
       "    <tr>\n",
       "      <th>3</th>\n",
       "      <td>4</td>\n",
       "      <td>Tenerifestraat 40</td>\n",
       "      <td>580000.0</td>\n",
       "      <td>128</td>\n",
       "      <td>6</td>\n",
       "      <td>4.789928</td>\n",
       "      <td>52.343712</td>\n",
       "      <td>13.270785</td>\n",
       "      <td>4.859812</td>\n",
       "      <td>1.945910</td>\n",
       "      <td>Tenerifestraat</td>\n",
       "      <td>1060</td>\n",
       "      <td>TH</td>\n",
       "    </tr>\n",
       "    <tr>\n",
       "      <th>4</th>\n",
       "      <td>5</td>\n",
       "      <td>Winterjanpad 21</td>\n",
       "      <td>720000.0</td>\n",
       "      <td>138</td>\n",
       "      <td>5</td>\n",
       "      <td>4.902503</td>\n",
       "      <td>52.410538</td>\n",
       "      <td>13.487008</td>\n",
       "      <td>4.934474</td>\n",
       "      <td>1.791759</td>\n",
       "      <td>Winterjanpad</td>\n",
       "      <td>1036</td>\n",
       "      <td>KN</td>\n",
       "    </tr>\n",
       "  </tbody>\n",
       "</table>\n",
       "</div>"
      ],
      "text/plain": [
       "   id                      address     price  area  room       lon        lat  \\\n",
       "0   1            Blasiusstraat 8 2  685000.0    64     3  4.907736  52.356157   \n",
       "1   2  Kromme Leimuidenstraat 13 H  475000.0    60     3  4.850476  52.348586   \n",
       "2   3              Zaaiersweg 11 A  850000.0   109     4  4.944774  52.343782   \n",
       "3   4            Tenerifestraat 40  580000.0   128     6  4.789928  52.343712   \n",
       "4   5              Winterjanpad 21  720000.0   138     5  4.902503  52.410538   \n",
       "\n",
       "   price_log  area_log  room_log                   street district sector  \n",
       "0  13.437176  4.174387  1.386294           Blasiusstraat      1091     CR  \n",
       "1  13.071072  4.110874  1.386294  Kromme Leimuidenstraat      1059     EL  \n",
       "2  13.652993  4.700480  1.609438              Zaaiersweg      1097     SM  \n",
       "3  13.270785  4.859812  1.945910          Tenerifestraat      1060     TH  \n",
       "4  13.487008  4.934474  1.791759            Winterjanpad      1036     KN  "
      ]
     },
     "execution_count": 42,
     "metadata": {},
     "output_type": "execute_result"
    }
   ],
   "source": [
    "#I seperated zip  to  number and letter parts\n",
    "df[\"district\"]=df.zip.str.split(\" \").str[0]\n",
    "df[\"sector\"]=df.zip.str.split(\" \").str[1]\n",
    "df.drop(columns='zip',inplace=True)\n",
    "df.head()"
   ]
  },
  {
   "cell_type": "code",
   "execution_count": 43,
   "id": "f3f714f6-d899-4616-9aba-1926287f2a6a",
   "metadata": {
    "execution": {
     "iopub.execute_input": "2025-07-29T14:33:02.195201Z",
     "iopub.status.busy": "2025-07-29T14:33:02.193384Z",
     "iopub.status.idle": "2025-07-29T14:33:02.214443Z",
     "shell.execute_reply": "2025-07-29T14:33:02.213026Z",
     "shell.execute_reply.started": "2025-07-29T14:33:02.195018Z"
    }
   },
   "outputs": [
    {
     "data": {
      "text/plain": [
       "sector\n",
       "AA    3.313333e+05\n",
       "AB    1.375000e+06\n",
       "AC    3.250000e+05\n",
       "AD    8.916250e+05\n",
       "AE    1.114857e+06\n",
       "          ...     \n",
       "ZS    3.495000e+05\n",
       "ZT    4.800000e+05\n",
       "ZV    5.475000e+05\n",
       "ZW    4.962500e+05\n",
       "ZZ    4.250000e+05\n",
       "Name: price, Length: 346, dtype: float64"
      ]
     },
     "execution_count": 43,
     "metadata": {},
     "output_type": "execute_result"
    }
   ],
   "source": [
    "df.groupby('sector')['price'].mean()"
   ]
  },
  {
   "cell_type": "code",
   "execution_count": 44,
   "id": "58d77e79-5051-4b63-b535-d062551d69ed",
   "metadata": {
    "execution": {
     "iopub.execute_input": "2025-07-29T14:33:15.854331Z",
     "iopub.status.busy": "2025-07-29T14:33:15.853524Z",
     "iopub.status.idle": "2025-07-29T14:33:15.864214Z",
     "shell.execute_reply": "2025-07-29T14:33:15.862452Z",
     "shell.execute_reply.started": "2025-07-29T14:33:15.854301Z"
    }
   },
   "outputs": [
    {
     "data": {
      "text/plain": [
       "district\n",
       "1011    7.453750e+05\n",
       "1012    1.093533e+06\n",
       "1013    5.713333e+05\n",
       "1014    9.630000e+05\n",
       "1015    9.377727e+05\n",
       "            ...     \n",
       "1104    3.500098e+05\n",
       "1106    3.089000e+05\n",
       "1107    2.996667e+05\n",
       "1108    3.250000e+05\n",
       "1109    5.120005e+05\n",
       "Name: price, Length: 70, dtype: float64"
      ]
     },
     "execution_count": 44,
     "metadata": {},
     "output_type": "execute_result"
    }
   ],
   "source": [
    "df.groupby('district')['price'].mean()"
   ]
  },
  {
   "cell_type": "code",
   "execution_count": null,
   "id": "1c6a7bcd-fef8-49fa-8391-179539677b27",
   "metadata": {},
   "outputs": [],
   "source": [
    "import boto3\n",
    "\n",
    "# Replace with your actual credentials and info\n",
    "bucket_name = 'dataminds-homeworks'\n",
    "s3_file_key = 'vasif-orujzada-eda.ipynb'\n",
    "local_file_path = 'vasif-orujzada-eda.ipynb'\n",
    "\n",
    "# Create an S3 client\n",
    "s3 = boto3.client(\n",
    "    's3'\n",
    ")\n",
    "\n",
    "# Upload the file\n",
    "try:\n",
    "    s3.upload_file(local_file_path, bucket_name, s3_file_key)\n",
    "    print(f\"File uploaded successfully to s3://{bucket_name}/{s3_file_key}\")\n",
    "except Exception as e:\n",
    "    print(\"Error uploading file:\", e)\n",
    "\n",
    " "
   ]
  }
 ],
 "metadata": {
  "kernelspec": {
   "display_name": "Python 3 (ipykernel)",
   "language": "python",
   "name": "python3"
  },
  "language_info": {
   "codemirror_mode": {
    "name": "ipython",
    "version": 3
   },
   "file_extension": ".py",
   "mimetype": "text/x-python",
   "name": "python",
   "nbconvert_exporter": "python",
   "pygments_lexer": "ipython3",
   "version": "3.12.9"
  }
 },
 "nbformat": 4,
 "nbformat_minor": 5
}
