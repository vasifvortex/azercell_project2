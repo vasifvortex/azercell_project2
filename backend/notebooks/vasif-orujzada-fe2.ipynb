{
 "cells": [
  {
   "cell_type": "code",
   "execution_count": null,
   "id": "d11ace62-9ae5-4a4e-8272-bb4ac0e123cb",
   "metadata": {
    "execution": {
     "iopub.execute_input": "2025-08-05T17:48:36.054532Z",
     "iopub.status.busy": "2025-08-05T17:48:36.054024Z",
     "iopub.status.idle": "2025-08-05T17:48:36.062457Z",
     "shell.execute_reply": "2025-08-05T17:48:36.061221Z",
     "shell.execute_reply.started": "2025-08-05T17:48:36.054508Z"
    }
   },
   "outputs": [
    {
     "data": {
      "text/plain": [
       "'import boto3\\nbucket_name = \\'dataminds-warehouse\\'\\ns3_file_key = \\'ramen-ratings.csv\\'            # e.g. \\'folder/myfile.txt\\'\\nlocal_file_path = \\'ramen-ratings.csv\\'        # Local destination\\n\\n# Create an S3 client (remove `bucket_name` here — not a valid argument for boto3.client)\\ns3 = boto3.client(\\n    \\'s3\\',\\n    region_name=\\'us-east-1\\'\\n)\\n\\n# Download the file\\ntry:\\n    s3.download_file(bucket_name, s3_file_key, local_file_path)\\n    print(f\"✅ File downloaded successfully from s3://{bucket_name}/{s3_file_key} to {local_file_path}\")\\nexcept Exception as e:\\n    print(\"❌ Error downloading file:\", e)\\n'"
      ]
     },
     "execution_count": 1,
     "metadata": {},
     "output_type": "execute_result"
    }
   ],
   "source": [
    "import boto3\n",
    "bucket_name = 'dataminds-warehouse'\n",
    "s3_file_key = 'ramen-ratings.csv'            # e.g. 'folder/myfile.txt'\n",
    "local_file_path = 'ramen-ratings.csv'        # Local destination\n",
    "\n",
    "# Create an S3 client (remove `bucket_name` here — not a valid argument for boto3.client)\n",
    "s3 = boto3.client(\n",
    "    's3',\n",
    "    region_name='us-east-1'\n",
    ")\n",
    "\n",
    "# Download the file\n",
    "try:\n",
    "    s3.download_file(bucket_name, s3_file_key, local_file_path)\n",
    "    print(f\"✅ File downloaded successfully from s3://{bucket_name}/{s3_file_key} to {local_file_path}\")\n",
    "except Exception as e:\n",
    "    print(\"❌ Error downloading file:\", e)\n"
   ]
  },
  {
   "cell_type": "code",
   "execution_count": 2,
   "id": "e2a79761-10d9-44c5-9f46-82e3e11103d4",
   "metadata": {
    "execution": {
     "iopub.execute_input": "2025-08-05T17:48:36.063950Z",
     "iopub.status.busy": "2025-08-05T17:48:36.063352Z",
     "iopub.status.idle": "2025-08-05T17:48:36.534237Z",
     "shell.execute_reply": "2025-08-05T17:48:36.533415Z",
     "shell.execute_reply.started": "2025-08-05T17:48:36.063927Z"
    }
   },
   "outputs": [
    {
     "data": {
      "text/html": [
       "<div>\n",
       "<style scoped>\n",
       "    .dataframe tbody tr th:only-of-type {\n",
       "        vertical-align: middle;\n",
       "    }\n",
       "\n",
       "    .dataframe tbody tr th {\n",
       "        vertical-align: top;\n",
       "    }\n",
       "\n",
       "    .dataframe thead th {\n",
       "        text-align: right;\n",
       "    }\n",
       "</style>\n",
       "<table border=\"1\" class=\"dataframe\">\n",
       "  <thead>\n",
       "    <tr style=\"text-align: right;\">\n",
       "      <th></th>\n",
       "      <th>Brand</th>\n",
       "      <th>Variety</th>\n",
       "      <th>Style</th>\n",
       "      <th>Country</th>\n",
       "      <th>Stars</th>\n",
       "      <th>Top Ten</th>\n",
       "    </tr>\n",
       "    <tr>\n",
       "      <th>Review #</th>\n",
       "      <th></th>\n",
       "      <th></th>\n",
       "      <th></th>\n",
       "      <th></th>\n",
       "      <th></th>\n",
       "      <th></th>\n",
       "    </tr>\n",
       "  </thead>\n",
       "  <tbody>\n",
       "    <tr>\n",
       "      <th>5</th>\n",
       "      <td>Vifon</td>\n",
       "      <td>Hu Tiu Nam Vang [\"Phnom Penh\" style] Asian Sty...</td>\n",
       "      <td>Bowl</td>\n",
       "      <td>Vietnam</td>\n",
       "      <td>3.5</td>\n",
       "      <td>NaN</td>\n",
       "    </tr>\n",
       "    <tr>\n",
       "      <th>4</th>\n",
       "      <td>Wai Wai</td>\n",
       "      <td>Oriental Style Instant Noodles</td>\n",
       "      <td>Pack</td>\n",
       "      <td>Thailand</td>\n",
       "      <td>1</td>\n",
       "      <td>NaN</td>\n",
       "    </tr>\n",
       "    <tr>\n",
       "      <th>3</th>\n",
       "      <td>Wai Wai</td>\n",
       "      <td>Tom Yum Shrimp</td>\n",
       "      <td>Pack</td>\n",
       "      <td>Thailand</td>\n",
       "      <td>2</td>\n",
       "      <td>NaN</td>\n",
       "    </tr>\n",
       "    <tr>\n",
       "      <th>2</th>\n",
       "      <td>Wai Wai</td>\n",
       "      <td>Tom Yum Chili Flavor</td>\n",
       "      <td>Pack</td>\n",
       "      <td>Thailand</td>\n",
       "      <td>2</td>\n",
       "      <td>NaN</td>\n",
       "    </tr>\n",
       "    <tr>\n",
       "      <th>1</th>\n",
       "      <td>Westbrae</td>\n",
       "      <td>Miso Ramen</td>\n",
       "      <td>Pack</td>\n",
       "      <td>USA</td>\n",
       "      <td>0.5</td>\n",
       "      <td>NaN</td>\n",
       "    </tr>\n",
       "  </tbody>\n",
       "</table>\n",
       "</div>"
      ],
      "text/plain": [
       "             Brand                                            Variety Style  \\\n",
       "Review #                                                                      \n",
       "5            Vifon  Hu Tiu Nam Vang [\"Phnom Penh\" style] Asian Sty...  Bowl   \n",
       "4          Wai Wai                     Oriental Style Instant Noodles  Pack   \n",
       "3          Wai Wai                                     Tom Yum Shrimp  Pack   \n",
       "2          Wai Wai                               Tom Yum Chili Flavor  Pack   \n",
       "1         Westbrae                                         Miso Ramen  Pack   \n",
       "\n",
       "           Country Stars Top Ten  \n",
       "Review #                          \n",
       "5          Vietnam   3.5     NaN  \n",
       "4         Thailand     1     NaN  \n",
       "3         Thailand     2     NaN  \n",
       "2         Thailand     2     NaN  \n",
       "1              USA   0.5     NaN  "
      ]
     },
     "execution_count": 2,
     "metadata": {},
     "output_type": "execute_result"
    }
   ],
   "source": [
    "import pandas as pd\n",
    "df = pd.read_csv('ramen-ratings.csv')\n",
    "df.set_index('Review #', inplace=True)\n",
    "df.tail()"
   ]
  },
  {
   "cell_type": "code",
   "execution_count": 3,
   "id": "b3bc4a49-ffc4-4a90-827d-b912a5d7b326",
   "metadata": {
    "execution": {
     "iopub.execute_input": "2025-08-05T17:48:36.536903Z",
     "iopub.status.busy": "2025-08-05T17:48:36.536593Z",
     "iopub.status.idle": "2025-08-05T17:48:36.544174Z",
     "shell.execute_reply": "2025-08-05T17:48:36.542062Z",
     "shell.execute_reply.started": "2025-08-05T17:48:36.536880Z"
    }
   },
   "outputs": [],
   "source": [
    "#df['Top Ten'].isna().sum()-2539 NaN values\n",
    "df.drop('Top Ten',axis=1,inplace=True)"
   ]
  },
  {
   "cell_type": "code",
   "execution_count": 4,
   "id": "f4eb9d80-8177-4f71-9fbe-6874a21af89a",
   "metadata": {
    "execution": {
     "iopub.execute_input": "2025-08-05T17:48:36.547296Z",
     "iopub.status.busy": "2025-08-05T17:48:36.545664Z",
     "iopub.status.idle": "2025-08-05T17:48:36.553904Z",
     "shell.execute_reply": "2025-08-05T17:48:36.552335Z",
     "shell.execute_reply.started": "2025-08-05T17:48:36.547254Z"
    }
   },
   "outputs": [],
   "source": [
    "df.columns=df.columns.str.lower()"
   ]
  },
  {
   "cell_type": "code",
   "execution_count": 5,
   "id": "92aac6a0-6c5a-417d-9606-dd1b987b67ab",
   "metadata": {
    "execution": {
     "iopub.execute_input": "2025-08-05T17:48:36.555103Z",
     "iopub.status.busy": "2025-08-05T17:48:36.554845Z",
     "iopub.status.idle": "2025-08-05T17:48:36.566684Z",
     "shell.execute_reply": "2025-08-05T17:48:36.565619Z",
     "shell.execute_reply.started": "2025-08-05T17:48:36.555081Z"
    }
   },
   "outputs": [
    {
     "data": {
      "text/plain": [
       "brand      0\n",
       "variety    0\n",
       "style      2\n",
       "country    0\n",
       "stars      0\n",
       "dtype: int64"
      ]
     },
     "execution_count": 5,
     "metadata": {},
     "output_type": "execute_result"
    }
   ],
   "source": [
    "df.isna().sum()"
   ]
  },
  {
   "cell_type": "code",
   "execution_count": 6,
   "id": "340e16f8-2aa4-44fb-bcb9-ce266fd20bc3",
   "metadata": {
    "execution": {
     "iopub.execute_input": "2025-08-05T17:48:36.569481Z",
     "iopub.status.busy": "2025-08-05T17:48:36.568728Z",
     "iopub.status.idle": "2025-08-05T17:48:36.575874Z",
     "shell.execute_reply": "2025-08-05T17:48:36.575045Z",
     "shell.execute_reply.started": "2025-08-05T17:48:36.569448Z"
    }
   },
   "outputs": [
    {
     "data": {
      "text/plain": [
       "brand      object\n",
       "variety    object\n",
       "style      object\n",
       "country    object\n",
       "stars      object\n",
       "dtype: object"
      ]
     },
     "execution_count": 6,
     "metadata": {},
     "output_type": "execute_result"
    }
   ],
   "source": [
    "df.dtypes"
   ]
  },
  {
   "cell_type": "code",
   "execution_count": 7,
   "id": "11dd9269-42b0-4768-95b0-a94465ffc336",
   "metadata": {
    "execution": {
     "iopub.execute_input": "2025-08-05T17:48:36.577637Z",
     "iopub.status.busy": "2025-08-05T17:48:36.577045Z",
     "iopub.status.idle": "2025-08-05T17:48:36.588809Z",
     "shell.execute_reply": "2025-08-05T17:48:36.587748Z",
     "shell.execute_reply.started": "2025-08-05T17:48:36.577611Z"
    }
   },
   "outputs": [
    {
     "data": {
      "text/html": [
       "<div>\n",
       "<style scoped>\n",
       "    .dataframe tbody tr th:only-of-type {\n",
       "        vertical-align: middle;\n",
       "    }\n",
       "\n",
       "    .dataframe tbody tr th {\n",
       "        vertical-align: top;\n",
       "    }\n",
       "\n",
       "    .dataframe thead th {\n",
       "        text-align: right;\n",
       "    }\n",
       "</style>\n",
       "<table border=\"1\" class=\"dataframe\">\n",
       "  <thead>\n",
       "    <tr style=\"text-align: right;\">\n",
       "      <th></th>\n",
       "      <th>brand</th>\n",
       "      <th>variety</th>\n",
       "      <th>style</th>\n",
       "      <th>country</th>\n",
       "      <th>stars</th>\n",
       "    </tr>\n",
       "    <tr>\n",
       "      <th>Review #</th>\n",
       "      <th></th>\n",
       "      <th></th>\n",
       "      <th></th>\n",
       "      <th></th>\n",
       "      <th></th>\n",
       "    </tr>\n",
       "  </thead>\n",
       "  <tbody>\n",
       "    <tr>\n",
       "      <th>2548</th>\n",
       "      <td>Ottogi</td>\n",
       "      <td>Plain Instant Noodle No Soup Included</td>\n",
       "      <td>Pack</td>\n",
       "      <td>South Korea</td>\n",
       "      <td>Unrated</td>\n",
       "    </tr>\n",
       "    <tr>\n",
       "      <th>2458</th>\n",
       "      <td>Samyang Foods</td>\n",
       "      <td>Sari Ramen</td>\n",
       "      <td>Pack</td>\n",
       "      <td>South Korea</td>\n",
       "      <td>Unrated</td>\n",
       "    </tr>\n",
       "    <tr>\n",
       "      <th>1587</th>\n",
       "      <td>Mi E-Zee</td>\n",
       "      <td>Plain Noodles</td>\n",
       "      <td>Pack</td>\n",
       "      <td>Malaysia</td>\n",
       "      <td>Unrated</td>\n",
       "    </tr>\n",
       "  </tbody>\n",
       "</table>\n",
       "</div>"
      ],
      "text/plain": [
       "                  brand                                variety style  \\\n",
       "Review #                                                               \n",
       "2548             Ottogi  Plain Instant Noodle No Soup Included  Pack   \n",
       "2458      Samyang Foods                             Sari Ramen  Pack   \n",
       "1587           Mi E-Zee                          Plain Noodles  Pack   \n",
       "\n",
       "              country    stars  \n",
       "Review #                        \n",
       "2548      South Korea  Unrated  \n",
       "2458      South Korea  Unrated  \n",
       "1587         Malaysia  Unrated  "
      ]
     },
     "execution_count": 7,
     "metadata": {},
     "output_type": "execute_result"
    }
   ],
   "source": [
    "df[df['stars']=='Unrated']"
   ]
  },
  {
   "cell_type": "code",
   "execution_count": 8,
   "id": "4899c3dd-7410-4844-a2dc-3ef5c94becff",
   "metadata": {
    "execution": {
     "iopub.execute_input": "2025-08-05T17:48:36.589992Z",
     "iopub.status.busy": "2025-08-05T17:48:36.589755Z",
     "iopub.status.idle": "2025-08-05T17:48:36.594743Z",
     "shell.execute_reply": "2025-08-05T17:48:36.594057Z",
     "shell.execute_reply.started": "2025-08-05T17:48:36.589972Z"
    }
   },
   "outputs": [],
   "source": [
    "import numpy as np\n",
    "df['stars'] = df['stars'].replace(\"Unrated\", np.nan)"
   ]
  },
  {
   "cell_type": "code",
   "execution_count": 9,
   "id": "be51a6a0-dee5-4f2b-b12f-a02c6a566d98",
   "metadata": {
    "execution": {
     "iopub.execute_input": "2025-08-05T17:48:36.595980Z",
     "iopub.status.busy": "2025-08-05T17:48:36.595482Z",
     "iopub.status.idle": "2025-08-05T17:48:36.602626Z",
     "shell.execute_reply": "2025-08-05T17:48:36.601710Z",
     "shell.execute_reply.started": "2025-08-05T17:48:36.595955Z"
    }
   },
   "outputs": [],
   "source": [
    "df['stars'] = df['stars'].fillna(df['stars'].mode()[0])"
   ]
  },
  {
   "cell_type": "code",
   "execution_count": 10,
   "id": "b07f08cf-fb83-4fb0-90ed-5cbefd1b6159",
   "metadata": {
    "execution": {
     "iopub.execute_input": "2025-08-05T17:48:36.604593Z",
     "iopub.status.busy": "2025-08-05T17:48:36.604168Z",
     "iopub.status.idle": "2025-08-05T17:48:52.096949Z",
     "shell.execute_reply": "2025-08-05T17:48:52.096005Z",
     "shell.execute_reply.started": "2025-08-05T17:48:36.604569Z"
    }
   },
   "outputs": [
    {
     "name": "stderr",
     "output_type": "stream",
     "text": [
      "2025-08-05 17:48:41.797549: I tensorflow/core/platform/cpu_feature_guard.cc:210] This TensorFlow binary is optimized to use available CPU instructions in performance-critical operations.\n",
      "To enable the following instructions: SSE4.1 SSE4.2 AVX AVX2 AVX512F FMA, in other operations, rebuild TensorFlow with the appropriate compiler flags.\n"
     ]
    }
   ],
   "source": [
    "from sentence_transformers import SentenceTransformer\n",
    "model = SentenceTransformer('all-MiniLM-L6-v2')\n",
    "\n",
    "# Fill missing variety texts (if any)\n",
    "df['variety'] = df['variety'].fillna('missing')\n",
    "\n",
    "# Encode all sentences at once (returns a 2D numpy array)\n",
    "embeddings = model.encode(df['variety'].tolist())\n",
    "\n",
    "# Convert embeddings array into DataFrame with multiple columns\n",
    "embedding_df = pd.DataFrame(embeddings,index=[i for i in range(1,len(embeddings)+1)], columns = [f'emb_{i}' for i in range(1, embeddings.shape[1] + 1)])"
   ]
  },
  {
   "cell_type": "code",
   "execution_count": 11,
   "id": "c8c28740-dddb-4c62-92bb-cc12c52de48e",
   "metadata": {
    "execution": {
     "iopub.execute_input": "2025-08-05T17:48:52.098536Z",
     "iopub.status.busy": "2025-08-05T17:48:52.097842Z",
     "iopub.status.idle": "2025-08-05T17:48:52.130371Z",
     "shell.execute_reply": "2025-08-05T17:48:52.129695Z",
     "shell.execute_reply.started": "2025-08-05T17:48:52.098500Z"
    }
   },
   "outputs": [
    {
     "data": {
      "text/html": [
       "<div>\n",
       "<style scoped>\n",
       "    .dataframe tbody tr th:only-of-type {\n",
       "        vertical-align: middle;\n",
       "    }\n",
       "\n",
       "    .dataframe tbody tr th {\n",
       "        vertical-align: top;\n",
       "    }\n",
       "\n",
       "    .dataframe thead th {\n",
       "        text-align: right;\n",
       "    }\n",
       "</style>\n",
       "<table border=\"1\" class=\"dataframe\">\n",
       "  <thead>\n",
       "    <tr style=\"text-align: right;\">\n",
       "      <th></th>\n",
       "      <th>emb_1</th>\n",
       "      <th>emb_2</th>\n",
       "      <th>emb_3</th>\n",
       "      <th>emb_4</th>\n",
       "      <th>emb_5</th>\n",
       "      <th>emb_6</th>\n",
       "      <th>emb_7</th>\n",
       "      <th>emb_8</th>\n",
       "      <th>emb_9</th>\n",
       "      <th>emb_10</th>\n",
       "      <th>...</th>\n",
       "      <th>emb_375</th>\n",
       "      <th>emb_376</th>\n",
       "      <th>emb_377</th>\n",
       "      <th>emb_378</th>\n",
       "      <th>emb_379</th>\n",
       "      <th>emb_380</th>\n",
       "      <th>emb_381</th>\n",
       "      <th>emb_382</th>\n",
       "      <th>emb_383</th>\n",
       "      <th>emb_384</th>\n",
       "    </tr>\n",
       "  </thead>\n",
       "  <tbody>\n",
       "    <tr>\n",
       "      <th>1</th>\n",
       "      <td>0.008211</td>\n",
       "      <td>0.040726</td>\n",
       "      <td>-0.012296</td>\n",
       "      <td>-0.030254</td>\n",
       "      <td>-0.087250</td>\n",
       "      <td>-0.000035</td>\n",
       "      <td>0.117528</td>\n",
       "      <td>-0.032520</td>\n",
       "      <td>0.056304</td>\n",
       "      <td>-0.023947</td>\n",
       "      <td>...</td>\n",
       "      <td>-0.009106</td>\n",
       "      <td>-0.038584</td>\n",
       "      <td>0.068323</td>\n",
       "      <td>0.025785</td>\n",
       "      <td>-0.020410</td>\n",
       "      <td>-0.013544</td>\n",
       "      <td>0.041941</td>\n",
       "      <td>-0.001203</td>\n",
       "      <td>-0.006340</td>\n",
       "      <td>-0.047362</td>\n",
       "    </tr>\n",
       "    <tr>\n",
       "      <th>2</th>\n",
       "      <td>-0.145963</td>\n",
       "      <td>-0.049212</td>\n",
       "      <td>-0.021097</td>\n",
       "      <td>0.052561</td>\n",
       "      <td>-0.039781</td>\n",
       "      <td>0.014862</td>\n",
       "      <td>0.056952</td>\n",
       "      <td>-0.033205</td>\n",
       "      <td>0.073204</td>\n",
       "      <td>-0.094664</td>\n",
       "      <td>...</td>\n",
       "      <td>-0.048551</td>\n",
       "      <td>-0.067750</td>\n",
       "      <td>0.043449</td>\n",
       "      <td>-0.010555</td>\n",
       "      <td>0.031077</td>\n",
       "      <td>-0.070400</td>\n",
       "      <td>0.021824</td>\n",
       "      <td>0.062235</td>\n",
       "      <td>-0.045363</td>\n",
       "      <td>0.100652</td>\n",
       "    </tr>\n",
       "    <tr>\n",
       "      <th>3</th>\n",
       "      <td>-0.121339</td>\n",
       "      <td>-0.032021</td>\n",
       "      <td>-0.038093</td>\n",
       "      <td>0.049455</td>\n",
       "      <td>0.020214</td>\n",
       "      <td>0.037210</td>\n",
       "      <td>0.091100</td>\n",
       "      <td>0.021062</td>\n",
       "      <td>0.105264</td>\n",
       "      <td>-0.082693</td>\n",
       "      <td>...</td>\n",
       "      <td>-0.003368</td>\n",
       "      <td>0.059473</td>\n",
       "      <td>0.032751</td>\n",
       "      <td>0.010563</td>\n",
       "      <td>-0.029418</td>\n",
       "      <td>-0.015093</td>\n",
       "      <td>-0.107990</td>\n",
       "      <td>0.049097</td>\n",
       "      <td>0.088203</td>\n",
       "      <td>0.043062</td>\n",
       "    </tr>\n",
       "    <tr>\n",
       "      <th>4</th>\n",
       "      <td>-0.055996</td>\n",
       "      <td>-0.031858</td>\n",
       "      <td>-0.009268</td>\n",
       "      <td>-0.045139</td>\n",
       "      <td>-0.043832</td>\n",
       "      <td>-0.008629</td>\n",
       "      <td>0.132931</td>\n",
       "      <td>-0.015871</td>\n",
       "      <td>0.013650</td>\n",
       "      <td>-0.073199</td>\n",
       "      <td>...</td>\n",
       "      <td>0.068682</td>\n",
       "      <td>-0.035058</td>\n",
       "      <td>-0.052412</td>\n",
       "      <td>-0.032244</td>\n",
       "      <td>0.037478</td>\n",
       "      <td>-0.004841</td>\n",
       "      <td>-0.044936</td>\n",
       "      <td>-0.003457</td>\n",
       "      <td>0.023023</td>\n",
       "      <td>-0.009150</td>\n",
       "    </tr>\n",
       "    <tr>\n",
       "      <th>5</th>\n",
       "      <td>-0.017170</td>\n",
       "      <td>0.015357</td>\n",
       "      <td>-0.006900</td>\n",
       "      <td>0.026682</td>\n",
       "      <td>-0.026135</td>\n",
       "      <td>0.023832</td>\n",
       "      <td>0.103167</td>\n",
       "      <td>-0.015255</td>\n",
       "      <td>0.035849</td>\n",
       "      <td>0.022696</td>\n",
       "      <td>...</td>\n",
       "      <td>0.001207</td>\n",
       "      <td>-0.018672</td>\n",
       "      <td>-0.020922</td>\n",
       "      <td>-0.047290</td>\n",
       "      <td>0.001673</td>\n",
       "      <td>0.064595</td>\n",
       "      <td>0.106685</td>\n",
       "      <td>-0.008627</td>\n",
       "      <td>-0.025232</td>\n",
       "      <td>0.025313</td>\n",
       "    </tr>\n",
       "    <tr>\n",
       "      <th>...</th>\n",
       "      <td>...</td>\n",
       "      <td>...</td>\n",
       "      <td>...</td>\n",
       "      <td>...</td>\n",
       "      <td>...</td>\n",
       "      <td>...</td>\n",
       "      <td>...</td>\n",
       "      <td>...</td>\n",
       "      <td>...</td>\n",
       "      <td>...</td>\n",
       "      <td>...</td>\n",
       "      <td>...</td>\n",
       "      <td>...</td>\n",
       "      <td>...</td>\n",
       "      <td>...</td>\n",
       "      <td>...</td>\n",
       "      <td>...</td>\n",
       "      <td>...</td>\n",
       "      <td>...</td>\n",
       "      <td>...</td>\n",
       "      <td>...</td>\n",
       "    </tr>\n",
       "    <tr>\n",
       "      <th>2576</th>\n",
       "      <td>-0.079895</td>\n",
       "      <td>0.022555</td>\n",
       "      <td>0.012004</td>\n",
       "      <td>0.033568</td>\n",
       "      <td>-0.070995</td>\n",
       "      <td>-0.001656</td>\n",
       "      <td>0.087798</td>\n",
       "      <td>-0.051410</td>\n",
       "      <td>0.015902</td>\n",
       "      <td>-0.050165</td>\n",
       "      <td>...</td>\n",
       "      <td>-0.014823</td>\n",
       "      <td>0.053413</td>\n",
       "      <td>-0.000696</td>\n",
       "      <td>-0.023479</td>\n",
       "      <td>0.035456</td>\n",
       "      <td>-0.013986</td>\n",
       "      <td>0.031379</td>\n",
       "      <td>0.096622</td>\n",
       "      <td>-0.023745</td>\n",
       "      <td>0.060604</td>\n",
       "    </tr>\n",
       "    <tr>\n",
       "      <th>2577</th>\n",
       "      <td>-0.139653</td>\n",
       "      <td>-0.025586</td>\n",
       "      <td>-0.002901</td>\n",
       "      <td>0.099757</td>\n",
       "      <td>-0.070216</td>\n",
       "      <td>-0.014625</td>\n",
       "      <td>0.101016</td>\n",
       "      <td>-0.010362</td>\n",
       "      <td>0.056137</td>\n",
       "      <td>-0.121992</td>\n",
       "      <td>...</td>\n",
       "      <td>-0.047412</td>\n",
       "      <td>0.072332</td>\n",
       "      <td>0.019349</td>\n",
       "      <td>-0.029117</td>\n",
       "      <td>0.063175</td>\n",
       "      <td>0.001268</td>\n",
       "      <td>-0.013387</td>\n",
       "      <td>0.015482</td>\n",
       "      <td>-0.000821</td>\n",
       "      <td>0.066207</td>\n",
       "    </tr>\n",
       "    <tr>\n",
       "      <th>2578</th>\n",
       "      <td>-0.126256</td>\n",
       "      <td>0.032873</td>\n",
       "      <td>0.000950</td>\n",
       "      <td>-0.077178</td>\n",
       "      <td>-0.063134</td>\n",
       "      <td>-0.028888</td>\n",
       "      <td>0.070675</td>\n",
       "      <td>-0.038352</td>\n",
       "      <td>0.054752</td>\n",
       "      <td>-0.024734</td>\n",
       "      <td>...</td>\n",
       "      <td>-0.039208</td>\n",
       "      <td>-0.014450</td>\n",
       "      <td>0.026240</td>\n",
       "      <td>0.060703</td>\n",
       "      <td>0.000836</td>\n",
       "      <td>-0.004264</td>\n",
       "      <td>-0.006572</td>\n",
       "      <td>0.015426</td>\n",
       "      <td>0.054819</td>\n",
       "      <td>0.006474</td>\n",
       "    </tr>\n",
       "    <tr>\n",
       "      <th>2579</th>\n",
       "      <td>-0.127946</td>\n",
       "      <td>-0.023724</td>\n",
       "      <td>0.013316</td>\n",
       "      <td>-0.058578</td>\n",
       "      <td>-0.044750</td>\n",
       "      <td>0.036498</td>\n",
       "      <td>0.036504</td>\n",
       "      <td>-0.012537</td>\n",
       "      <td>0.048257</td>\n",
       "      <td>-0.099970</td>\n",
       "      <td>...</td>\n",
       "      <td>-0.011772</td>\n",
       "      <td>-0.012394</td>\n",
       "      <td>0.021764</td>\n",
       "      <td>0.025045</td>\n",
       "      <td>-0.006425</td>\n",
       "      <td>-0.045526</td>\n",
       "      <td>-0.024698</td>\n",
       "      <td>0.009744</td>\n",
       "      <td>0.055190</td>\n",
       "      <td>-0.048107</td>\n",
       "    </tr>\n",
       "    <tr>\n",
       "      <th>2580</th>\n",
       "      <td>-0.033419</td>\n",
       "      <td>0.043364</td>\n",
       "      <td>0.017656</td>\n",
       "      <td>0.009185</td>\n",
       "      <td>-0.012756</td>\n",
       "      <td>-0.012781</td>\n",
       "      <td>0.107908</td>\n",
       "      <td>0.015657</td>\n",
       "      <td>0.036086</td>\n",
       "      <td>-0.044029</td>\n",
       "      <td>...</td>\n",
       "      <td>0.081728</td>\n",
       "      <td>-0.040130</td>\n",
       "      <td>-0.002649</td>\n",
       "      <td>0.010169</td>\n",
       "      <td>0.021304</td>\n",
       "      <td>-0.027322</td>\n",
       "      <td>-0.013849</td>\n",
       "      <td>0.032777</td>\n",
       "      <td>-0.039274</td>\n",
       "      <td>0.026079</td>\n",
       "    </tr>\n",
       "  </tbody>\n",
       "</table>\n",
       "<p>2580 rows × 384 columns</p>\n",
       "</div>"
      ],
      "text/plain": [
       "         emb_1     emb_2     emb_3     emb_4     emb_5     emb_6     emb_7  \\\n",
       "1     0.008211  0.040726 -0.012296 -0.030254 -0.087250 -0.000035  0.117528   \n",
       "2    -0.145963 -0.049212 -0.021097  0.052561 -0.039781  0.014862  0.056952   \n",
       "3    -0.121339 -0.032021 -0.038093  0.049455  0.020214  0.037210  0.091100   \n",
       "4    -0.055996 -0.031858 -0.009268 -0.045139 -0.043832 -0.008629  0.132931   \n",
       "5    -0.017170  0.015357 -0.006900  0.026682 -0.026135  0.023832  0.103167   \n",
       "...        ...       ...       ...       ...       ...       ...       ...   \n",
       "2576 -0.079895  0.022555  0.012004  0.033568 -0.070995 -0.001656  0.087798   \n",
       "2577 -0.139653 -0.025586 -0.002901  0.099757 -0.070216 -0.014625  0.101016   \n",
       "2578 -0.126256  0.032873  0.000950 -0.077178 -0.063134 -0.028888  0.070675   \n",
       "2579 -0.127946 -0.023724  0.013316 -0.058578 -0.044750  0.036498  0.036504   \n",
       "2580 -0.033419  0.043364  0.017656  0.009185 -0.012756 -0.012781  0.107908   \n",
       "\n",
       "         emb_8     emb_9    emb_10  ...   emb_375   emb_376   emb_377  \\\n",
       "1    -0.032520  0.056304 -0.023947  ... -0.009106 -0.038584  0.068323   \n",
       "2    -0.033205  0.073204 -0.094664  ... -0.048551 -0.067750  0.043449   \n",
       "3     0.021062  0.105264 -0.082693  ... -0.003368  0.059473  0.032751   \n",
       "4    -0.015871  0.013650 -0.073199  ...  0.068682 -0.035058 -0.052412   \n",
       "5    -0.015255  0.035849  0.022696  ...  0.001207 -0.018672 -0.020922   \n",
       "...        ...       ...       ...  ...       ...       ...       ...   \n",
       "2576 -0.051410  0.015902 -0.050165  ... -0.014823  0.053413 -0.000696   \n",
       "2577 -0.010362  0.056137 -0.121992  ... -0.047412  0.072332  0.019349   \n",
       "2578 -0.038352  0.054752 -0.024734  ... -0.039208 -0.014450  0.026240   \n",
       "2579 -0.012537  0.048257 -0.099970  ... -0.011772 -0.012394  0.021764   \n",
       "2580  0.015657  0.036086 -0.044029  ...  0.081728 -0.040130 -0.002649   \n",
       "\n",
       "       emb_378   emb_379   emb_380   emb_381   emb_382   emb_383   emb_384  \n",
       "1     0.025785 -0.020410 -0.013544  0.041941 -0.001203 -0.006340 -0.047362  \n",
       "2    -0.010555  0.031077 -0.070400  0.021824  0.062235 -0.045363  0.100652  \n",
       "3     0.010563 -0.029418 -0.015093 -0.107990  0.049097  0.088203  0.043062  \n",
       "4    -0.032244  0.037478 -0.004841 -0.044936 -0.003457  0.023023 -0.009150  \n",
       "5    -0.047290  0.001673  0.064595  0.106685 -0.008627 -0.025232  0.025313  \n",
       "...        ...       ...       ...       ...       ...       ...       ...  \n",
       "2576 -0.023479  0.035456 -0.013986  0.031379  0.096622 -0.023745  0.060604  \n",
       "2577 -0.029117  0.063175  0.001268 -0.013387  0.015482 -0.000821  0.066207  \n",
       "2578  0.060703  0.000836 -0.004264 -0.006572  0.015426  0.054819  0.006474  \n",
       "2579  0.025045 -0.006425 -0.045526 -0.024698  0.009744  0.055190 -0.048107  \n",
       "2580  0.010169  0.021304 -0.027322 -0.013849  0.032777 -0.039274  0.026079  \n",
       "\n",
       "[2580 rows x 384 columns]"
      ]
     },
     "execution_count": 11,
     "metadata": {},
     "output_type": "execute_result"
    }
   ],
   "source": [
    "embedding_df"
   ]
  },
  {
   "cell_type": "code",
   "execution_count": 12,
   "id": "3293bcb7-b0a8-4016-959b-1cb2b74fcefd",
   "metadata": {
    "execution": {
     "iopub.execute_input": "2025-08-05T17:48:52.131405Z",
     "iopub.status.busy": "2025-08-05T17:48:52.131163Z",
     "iopub.status.idle": "2025-08-05T17:48:52.267291Z",
     "shell.execute_reply": "2025-08-05T17:48:52.266460Z",
     "shell.execute_reply.started": "2025-08-05T17:48:52.131385Z"
    }
   },
   "outputs": [],
   "source": [
    "from sklearn.decomposition import PCA\n",
    "from sklearn.preprocessing import StandardScaler\n",
    "X = embedding_df.values\n",
    "X_std = StandardScaler().fit_transform(X)\n",
    "pca = PCA(n_components=100)\n",
    "X_pca = pca.fit_transform(X_std)"
   ]
  },
  {
   "cell_type": "code",
   "execution_count": 13,
   "id": "f9456707-dfe1-4909-a75a-94fcb75dde65",
   "metadata": {
    "execution": {
     "iopub.execute_input": "2025-08-05T17:48:52.268737Z",
     "iopub.status.busy": "2025-08-05T17:48:52.268152Z",
     "iopub.status.idle": "2025-08-05T17:48:52.273624Z",
     "shell.execute_reply": "2025-08-05T17:48:52.272942Z",
     "shell.execute_reply.started": "2025-08-05T17:48:52.268715Z"
    }
   },
   "outputs": [],
   "source": [
    "df_reduced = pd.DataFrame(X_pca,index=[i for i in range(1,2580+1)])"
   ]
  },
  {
   "cell_type": "code",
   "execution_count": 14,
   "id": "bd7698d4-317f-4960-941e-030cdb5fe838",
   "metadata": {
    "execution": {
     "iopub.execute_input": "2025-08-05T17:48:52.275127Z",
     "iopub.status.busy": "2025-08-05T17:48:52.274789Z",
     "iopub.status.idle": "2025-08-05T17:48:52.284492Z",
     "shell.execute_reply": "2025-08-05T17:48:52.283540Z",
     "shell.execute_reply.started": "2025-08-05T17:48:52.275100Z"
    }
   },
   "outputs": [],
   "source": [
    "df = pd.concat([df.drop(columns=['variety']), df_reduced], axis=1)\n",
    "df.columns = df.columns.astype(str)"
   ]
  },
  {
   "cell_type": "code",
   "execution_count": 15,
   "id": "c3d88f3f-0192-4217-beef-1fa6c96f76ad",
   "metadata": {
    "execution": {
     "iopub.execute_input": "2025-08-05T17:48:52.285965Z",
     "iopub.status.busy": "2025-08-05T17:48:52.285666Z",
     "iopub.status.idle": "2025-08-05T17:48:52.291943Z",
     "shell.execute_reply": "2025-08-05T17:48:52.291184Z",
     "shell.execute_reply.started": "2025-08-05T17:48:52.285939Z"
    }
   },
   "outputs": [],
   "source": [
    "X=df.drop('stars',axis=1)\n",
    "y=df['stars']\n",
    "numeric_features=X.columns[X.dtypes=='float32']\n",
    "categorical_features=['brand','style','country']"
   ]
  },
  {
   "cell_type": "code",
   "execution_count": null,
   "id": "f84f36b6-d332-47ec-bbfa-61a818d81f35",
   "metadata": {
    "execution": {
     "iopub.execute_input": "2025-08-05T17:48:52.293264Z",
     "iopub.status.busy": "2025-08-05T17:48:52.292974Z",
     "iopub.status.idle": "2025-08-05T17:48:52.298180Z",
     "shell.execute_reply": "2025-08-05T17:48:52.297419Z",
     "shell.execute_reply.started": "2025-08-05T17:48:52.293239Z"
    }
   },
   "outputs": [],
   "source": [
    "!pip install sentence-transformers"
   ]
  },
  {
   "cell_type": "code",
   "execution_count": null,
   "id": "352c2f3c-4ed1-4427-8ee9-6e51df01652c",
   "metadata": {
    "execution": {
     "iopub.execute_input": "2025-08-05T17:48:52.299862Z",
     "iopub.status.busy": "2025-08-05T17:48:52.298960Z",
     "iopub.status.idle": "2025-08-05T17:48:52.303426Z",
     "shell.execute_reply": "2025-08-05T17:48:52.302635Z",
     "shell.execute_reply.started": "2025-08-05T17:48:52.299835Z"
    }
   },
   "outputs": [],
   "source": [
    "!pip install category_encoders"
   ]
  },
  {
   "cell_type": "code",
   "execution_count": 25,
   "id": "f7c18671-c7c6-4585-b089-ca87e41eb8b8",
   "metadata": {
    "execution": {
     "iopub.execute_input": "2025-08-05T18:08:42.378753Z",
     "iopub.status.busy": "2025-08-05T18:08:42.378347Z",
     "iopub.status.idle": "2025-08-05T18:08:53.572385Z",
     "shell.execute_reply": "2025-08-05T18:08:53.571235Z",
     "shell.execute_reply.started": "2025-08-05T18:08:42.378730Z"
    }
   },
   "outputs": [
    {
     "name": "stdout",
     "output_type": "stream",
     "text": [
      "model score: 0.186\n"
     ]
    }
   ],
   "source": [
    "from sklearn.compose import ColumnTransformer\n",
    "from sklearn.pipeline import Pipeline\n",
    "from sklearn.preprocessing import RobustScaler\n",
    "from category_encoders import CatBoostEncoder\n",
    "from sklearn.model_selection import train_test_split\n",
    "from sklearn.ensemble import RandomForestClassifier\n",
    "from sklearn.feature_selection import SelectPercentile\n",
    "from sklearn.feature_selection import chi2\n",
    "from sklearn.impute import SimpleImputer\n",
    "\n",
    "\n",
    "#train test split\n",
    "X_train, X_test, y_train, y_test = train_test_split(X, y, test_size=0.2, random_state=0)\n",
    "\n",
    "numeric_transformer = Pipeline(\n",
    "    steps=[\n",
    "        (\"imputer\", SimpleImputer(strategy=\"median\")),\n",
    "        (\"scaler\", RobustScaler()),\n",
    "    ]\n",
    ")\n",
    "categorical_transformer = Pipeline(\n",
    "    steps=[\n",
    "        (\"imputer\", SimpleImputer(strategy='most_frequent')),\n",
    "        (\"encoder\", CatBoostEncoder()),\n",
    "        (\"selector\", SelectPercentile(chi2, percentile=50))  \n",
    "    ]\n",
    ")\n",
    "preprocessor = ColumnTransformer(\n",
    "    transformers=[\n",
    "         (\"num\", numeric_transformer, numeric_features),\n",
    "         (\"cat\", categorical_transformer, categorical_features),\n",
    "    ]\n",
    ")\n",
    "\n",
    "clf = Pipeline(\n",
    "    steps=[\n",
    "        (\"preprocessor\", preprocessor),\n",
    "        (\"classifier\", RandomForestClassifier(max_depth=10,min_samples_split=5,n_estimators=400))\n",
    "    ]\n",
    ")\n",
    "clf.fit(X_train, y_train)\n",
    "print(\"model score: %.3f\" % clf.score(X_test, y_test))"
   ]
  },
  {
   "cell_type": "code",
   "execution_count": 26,
   "id": "2b71bfac-2187-4281-babf-536d7d789292",
   "metadata": {
    "execution": {
     "iopub.execute_input": "2025-08-05T18:09:47.662898Z",
     "iopub.status.busy": "2025-08-05T18:09:47.662596Z",
     "iopub.status.idle": "2025-08-05T18:09:47.857179Z",
     "shell.execute_reply": "2025-08-05T18:09:47.856047Z",
     "shell.execute_reply.started": "2025-08-05T18:09:47.662875Z"
    }
   },
   "outputs": [
    {
     "name": "stdout",
     "output_type": "stream",
     "text": [
      "File uploaded successfully to s3://dataminds-homeworks/vasif-orujzada-fe2.ipynb\n"
     ]
    }
   ],
   "source": [
    "import boto3\n",
    "\n",
    "# Replace with your actual credentials and info\n",
    "bucket_name = 'dataminds-homeworks'\n",
    "s3_file_key = 'vasif-orujzada-fe2.ipynb' \n",
    "local_file_path = 'vasif-orujzada-fe2.ipynb'\n",
    "\n",
    "# Create an S3 client\n",
    "s3 = boto3.client(\n",
    "    's3'\n",
    ")\n",
    "\n",
    "# Upload the file\n",
    "try:\n",
    "    s3.upload_file(local_file_path, bucket_name, s3_file_key)\n",
    "    print(f\"File uploaded successfully to s3://{bucket_name}/{s3_file_key}\")\n",
    "except Exception as e:\n",
    "    print(\"Error uploading file:\", e)\n"
   ]
  },
  {
   "cell_type": "code",
   "execution_count": null,
   "id": "5315d68f-d65c-4401-9c8a-cd9fc40c1ac1",
   "metadata": {},
   "outputs": [],
   "source": []
  }
 ],
 "metadata": {
  "kernelspec": {
   "display_name": "Python 3 (ipykernel)",
   "language": "python",
   "name": "python3"
  },
  "language_info": {
   "codemirror_mode": {
    "name": "ipython",
    "version": 3
   },
   "file_extension": ".py",
   "mimetype": "text/x-python",
   "name": "python",
   "nbconvert_exporter": "python",
   "pygments_lexer": "ipython3",
   "version": "3.12.9"
  }
 },
 "nbformat": 4,
 "nbformat_minor": 5
}
