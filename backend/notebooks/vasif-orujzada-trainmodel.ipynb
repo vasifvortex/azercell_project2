{
 "cells": [
  {
   "cell_type": "code",
   "execution_count": 1,
   "id": "1bff7fa3-050b-4d33-8fff-f718c2080b76",
   "metadata": {
    "execution": {
     "iopub.execute_input": "2025-08-09T12:37:48.880582Z",
     "iopub.status.busy": "2025-08-09T12:37:48.880255Z",
     "iopub.status.idle": "2025-08-09T12:37:49.265699Z",
     "shell.execute_reply": "2025-08-09T12:37:49.265000Z",
     "shell.execute_reply.started": "2025-08-09T12:37:48.880559Z"
    }
   },
   "outputs": [
    {
     "name": "stdout",
     "output_type": "stream",
     "text": [
      "✅ File downloaded successfully from s3://dataminds-warehouse/multisim_dataset.parquet to multisim_dataset.parquet\n"
     ]
    }
   ],
   "source": [
    "import boto3\n",
    "bucket_name = 'dataminds-warehouse'\n",
    "s3_file_key = 'multisim_dataset.parquet'            # e.g. 'folder/myfile.txt'\n",
    "local_file_path = 'multisim_dataset.parquet'        # Local destination\n",
    "\n",
    "# Create an S3 client (remove `bucket_name` here — not a valid argument for boto3.client)\n",
    "s3 = boto3.client(\n",
    "    's3',\n",
    "    region_name='us-east-1'\n",
    ")\n",
    "\n",
    "# Download the file\n",
    "try:\n",
    "    s3.download_file(bucket_name, s3_file_key, local_file_path)\n",
    "    print(f\"✅ File downloaded successfully from s3://{bucket_name}/{s3_file_key} to {local_file_path}\")\n",
    "except Exception as e:\n",
    "    print(\"❌ Error downloading file:\", e)"
   ]
  },
  {
   "cell_type": "code",
   "execution_count": 2,
   "id": "2ba9f92d-688f-40b1-b9df-493dd4e3fd28",
   "metadata": {
    "execution": {
     "iopub.execute_input": "2025-08-09T12:37:49.267122Z",
     "iopub.status.busy": "2025-08-09T12:37:49.266602Z",
     "iopub.status.idle": "2025-08-09T12:37:49.757731Z",
     "shell.execute_reply": "2025-08-09T12:37:49.756956Z",
     "shell.execute_reply.started": "2025-08-09T12:37:49.267093Z"
    }
   },
   "outputs": [],
   "source": [
    "import pandas as pd\n",
    "df = pd.read_parquet('multisim_dataset.parquet')\n",
    "df.set_index('telephone_number', inplace=True)"
   ]
  },
  {
   "cell_type": "code",
   "execution_count": 3,
   "id": "d5a82e42-1df4-4868-9f8c-1425363421e4",
   "metadata": {
    "execution": {
     "iopub.execute_input": "2025-08-09T12:37:49.759332Z",
     "iopub.status.busy": "2025-08-09T12:37:49.759006Z",
     "iopub.status.idle": "2025-08-09T12:37:49.796779Z",
     "shell.execute_reply": "2025-08-09T12:37:49.796101Z",
     "shell.execute_reply.started": "2025-08-09T12:37:49.759310Z"
    }
   },
   "outputs": [
    {
     "data": {
      "text/html": [
       "<div>\n",
       "<style scoped>\n",
       "    .dataframe tbody tr th:only-of-type {\n",
       "        vertical-align: middle;\n",
       "    }\n",
       "\n",
       "    .dataframe tbody tr th {\n",
       "        vertical-align: top;\n",
       "    }\n",
       "\n",
       "    .dataframe thead th {\n",
       "        text-align: right;\n",
       "    }\n",
       "</style>\n",
       "<table border=\"1\" class=\"dataframe\">\n",
       "  <thead>\n",
       "    <tr style=\"text-align: right;\">\n",
       "      <th></th>\n",
       "      <th>trf</th>\n",
       "      <th>age</th>\n",
       "      <th>gndr</th>\n",
       "      <th>tenure</th>\n",
       "      <th>age_dev</th>\n",
       "      <th>dev_man</th>\n",
       "      <th>device_os_name</th>\n",
       "      <th>dev_num</th>\n",
       "      <th>is_dualsim</th>\n",
       "      <th>is_featurephone</th>\n",
       "      <th>...</th>\n",
       "      <th>val13_6</th>\n",
       "      <th>val14_6</th>\n",
       "      <th>val15_6</th>\n",
       "      <th>val16_6</th>\n",
       "      <th>val17_6</th>\n",
       "      <th>val18_6</th>\n",
       "      <th>val19_6</th>\n",
       "      <th>val20_6</th>\n",
       "      <th>val21_6</th>\n",
       "      <th>target</th>\n",
       "    </tr>\n",
       "    <tr>\n",
       "      <th>telephone_number</th>\n",
       "      <th></th>\n",
       "      <th></th>\n",
       "      <th></th>\n",
       "      <th></th>\n",
       "      <th></th>\n",
       "      <th></th>\n",
       "      <th></th>\n",
       "      <th></th>\n",
       "      <th></th>\n",
       "      <th></th>\n",
       "      <th></th>\n",
       "      <th></th>\n",
       "      <th></th>\n",
       "      <th></th>\n",
       "      <th></th>\n",
       "      <th></th>\n",
       "      <th></th>\n",
       "      <th></th>\n",
       "      <th></th>\n",
       "      <th></th>\n",
       "      <th></th>\n",
       "    </tr>\n",
       "  </thead>\n",
       "  <tbody>\n",
       "    <tr>\n",
       "      <th>iWBn_13aJO</th>\n",
       "      <td>J</td>\n",
       "      <td>50</td>\n",
       "      <td>M</td>\n",
       "      <td>6957.0</td>\n",
       "      <td>1263</td>\n",
       "      <td>Samsung</td>\n",
       "      <td>Android OS</td>\n",
       "      <td>1</td>\n",
       "      <td>1</td>\n",
       "      <td>0</td>\n",
       "      <td>...</td>\n",
       "      <td>0.000000</td>\n",
       "      <td>0.0</td>\n",
       "      <td>0.00</td>\n",
       "      <td>0.56</td>\n",
       "      <td>0.00</td>\n",
       "      <td>0.00</td>\n",
       "      <td>60.0</td>\n",
       "      <td>7.0</td>\n",
       "      <td>0.0</td>\n",
       "      <td>1</td>\n",
       "    </tr>\n",
       "    <tr>\n",
       "      <th>8JWaD2wYoQ</th>\n",
       "      <td>M</td>\n",
       "      <td>52</td>\n",
       "      <td>M</td>\n",
       "      <td>1041.0</td>\n",
       "      <td>125</td>\n",
       "      <td>Samsung</td>\n",
       "      <td>Android OS</td>\n",
       "      <td>2</td>\n",
       "      <td>1</td>\n",
       "      <td>0</td>\n",
       "      <td>...</td>\n",
       "      <td>206.536585</td>\n",
       "      <td>0.0</td>\n",
       "      <td>0.40</td>\n",
       "      <td>0.00</td>\n",
       "      <td>0.16</td>\n",
       "      <td>0.24</td>\n",
       "      <td>156.0</td>\n",
       "      <td>0.0</td>\n",
       "      <td>2.0</td>\n",
       "      <td>1</td>\n",
       "    </tr>\n",
       "    <tr>\n",
       "      <th>sbPnQURi3j</th>\n",
       "      <td>A</td>\n",
       "      <td>49</td>\n",
       "      <td>U</td>\n",
       "      <td>7176.0</td>\n",
       "      <td>345</td>\n",
       "      <td>Samsung</td>\n",
       "      <td>Android OS</td>\n",
       "      <td>1</td>\n",
       "      <td>1</td>\n",
       "      <td>0</td>\n",
       "      <td>...</td>\n",
       "      <td>0.000000</td>\n",
       "      <td>0.0</td>\n",
       "      <td>0.25</td>\n",
       "      <td>2.35</td>\n",
       "      <td>0.00</td>\n",
       "      <td>0.25</td>\n",
       "      <td>241.0</td>\n",
       "      <td>87.0</td>\n",
       "      <td>4.0</td>\n",
       "      <td>1</td>\n",
       "    </tr>\n",
       "    <tr>\n",
       "      <th>qOy-JlqPTl</th>\n",
       "      <td>M</td>\n",
       "      <td>49</td>\n",
       "      <td>M</td>\n",
       "      <td>4309.0</td>\n",
       "      <td>466</td>\n",
       "      <td>Samsung</td>\n",
       "      <td>Android OS</td>\n",
       "      <td>1</td>\n",
       "      <td>1</td>\n",
       "      <td>0</td>\n",
       "      <td>...</td>\n",
       "      <td>51.885746</td>\n",
       "      <td>0.0</td>\n",
       "      <td>0.00</td>\n",
       "      <td>0.00</td>\n",
       "      <td>0.00</td>\n",
       "      <td>0.00</td>\n",
       "      <td>299.0</td>\n",
       "      <td>142.0</td>\n",
       "      <td>80.0</td>\n",
       "      <td>1</td>\n",
       "    </tr>\n",
       "    <tr>\n",
       "      <th>MNODhcb7h0</th>\n",
       "      <td>A</td>\n",
       "      <td>50</td>\n",
       "      <td>U</td>\n",
       "      <td>6999.0</td>\n",
       "      <td>695</td>\n",
       "      <td>Samsung</td>\n",
       "      <td>Android OS</td>\n",
       "      <td>1</td>\n",
       "      <td>1</td>\n",
       "      <td>0</td>\n",
       "      <td>...</td>\n",
       "      <td>0.000000</td>\n",
       "      <td>0.0</td>\n",
       "      <td>0.00</td>\n",
       "      <td>0.80</td>\n",
       "      <td>0.00</td>\n",
       "      <td>0.00</td>\n",
       "      <td>121.0</td>\n",
       "      <td>96.0</td>\n",
       "      <td>0.0</td>\n",
       "      <td>1</td>\n",
       "    </tr>\n",
       "    <tr>\n",
       "      <th>...</th>\n",
       "      <td>...</td>\n",
       "      <td>...</td>\n",
       "      <td>...</td>\n",
       "      <td>...</td>\n",
       "      <td>...</td>\n",
       "      <td>...</td>\n",
       "      <td>...</td>\n",
       "      <td>...</td>\n",
       "      <td>...</td>\n",
       "      <td>...</td>\n",
       "      <td>...</td>\n",
       "      <td>...</td>\n",
       "      <td>...</td>\n",
       "      <td>...</td>\n",
       "      <td>...</td>\n",
       "      <td>...</td>\n",
       "      <td>...</td>\n",
       "      <td>...</td>\n",
       "      <td>...</td>\n",
       "      <td>...</td>\n",
       "      <td>...</td>\n",
       "    </tr>\n",
       "    <tr>\n",
       "      <th>vjo-T0Bkap</th>\n",
       "      <td>F</td>\n",
       "      <td>44</td>\n",
       "      <td>M</td>\n",
       "      <td>2047.0</td>\n",
       "      <td>1401</td>\n",
       "      <td>Samsung</td>\n",
       "      <td>Android OS</td>\n",
       "      <td>1</td>\n",
       "      <td>1</td>\n",
       "      <td>0</td>\n",
       "      <td>...</td>\n",
       "      <td>0.000000</td>\n",
       "      <td>0.0</td>\n",
       "      <td>0.18</td>\n",
       "      <td>1.50</td>\n",
       "      <td>0.00</td>\n",
       "      <td>0.09</td>\n",
       "      <td>108.0</td>\n",
       "      <td>18.0</td>\n",
       "      <td>2.0</td>\n",
       "      <td>0</td>\n",
       "    </tr>\n",
       "    <tr>\n",
       "      <th>hr9U3_0kXW</th>\n",
       "      <td>G</td>\n",
       "      <td>39</td>\n",
       "      <td>U</td>\n",
       "      <td>4908.0</td>\n",
       "      <td>176</td>\n",
       "      <td>Apple</td>\n",
       "      <td>iOS</td>\n",
       "      <td>2</td>\n",
       "      <td>1</td>\n",
       "      <td>0</td>\n",
       "      <td>...</td>\n",
       "      <td>457.193839</td>\n",
       "      <td>0.0</td>\n",
       "      <td>0.24</td>\n",
       "      <td>2.24</td>\n",
       "      <td>0.00</td>\n",
       "      <td>0.24</td>\n",
       "      <td>98.0</td>\n",
       "      <td>23.0</td>\n",
       "      <td>1.0</td>\n",
       "      <td>0</td>\n",
       "    </tr>\n",
       "    <tr>\n",
       "      <th>xw1HISdQiO</th>\n",
       "      <td>H</td>\n",
       "      <td>32</td>\n",
       "      <td>M</td>\n",
       "      <td>5317.0</td>\n",
       "      <td>1088</td>\n",
       "      <td>Samsung</td>\n",
       "      <td>Android OS</td>\n",
       "      <td>1</td>\n",
       "      <td>1</td>\n",
       "      <td>0</td>\n",
       "      <td>...</td>\n",
       "      <td>184.259022</td>\n",
       "      <td>0.0</td>\n",
       "      <td>5.82</td>\n",
       "      <td>7.16</td>\n",
       "      <td>4.44</td>\n",
       "      <td>1.38</td>\n",
       "      <td>256.0</td>\n",
       "      <td>54.0</td>\n",
       "      <td>61.0</td>\n",
       "      <td>0</td>\n",
       "    </tr>\n",
       "    <tr>\n",
       "      <th>r5nxa5j2G0</th>\n",
       "      <td>D</td>\n",
       "      <td>43</td>\n",
       "      <td>U</td>\n",
       "      <td>6850.0</td>\n",
       "      <td>1418</td>\n",
       "      <td>Samsung</td>\n",
       "      <td>Android OS</td>\n",
       "      <td>1</td>\n",
       "      <td>1</td>\n",
       "      <td>0</td>\n",
       "      <td>...</td>\n",
       "      <td>0.000000</td>\n",
       "      <td>0.0</td>\n",
       "      <td>1.90</td>\n",
       "      <td>4.10</td>\n",
       "      <td>0.10</td>\n",
       "      <td>1.80</td>\n",
       "      <td>92.0</td>\n",
       "      <td>31.0</td>\n",
       "      <td>14.0</td>\n",
       "      <td>0</td>\n",
       "    </tr>\n",
       "    <tr>\n",
       "      <th>fcvlu4pk-Q</th>\n",
       "      <td>A</td>\n",
       "      <td>39</td>\n",
       "      <td>M</td>\n",
       "      <td>2121.0</td>\n",
       "      <td>517</td>\n",
       "      <td>Xiaomi</td>\n",
       "      <td>Android OS</td>\n",
       "      <td>1</td>\n",
       "      <td>1</td>\n",
       "      <td>0</td>\n",
       "      <td>...</td>\n",
       "      <td>0.000000</td>\n",
       "      <td>0.0</td>\n",
       "      <td>1.70</td>\n",
       "      <td>1.20</td>\n",
       "      <td>0.50</td>\n",
       "      <td>1.20</td>\n",
       "      <td>143.0</td>\n",
       "      <td>14.0</td>\n",
       "      <td>22.0</td>\n",
       "      <td>0</td>\n",
       "    </tr>\n",
       "  </tbody>\n",
       "</table>\n",
       "<p>10000 rows × 131 columns</p>\n",
       "</div>"
      ],
      "text/plain": [
       "                 trf age gndr  tenure age_dev  dev_man device_os_name dev_num  \\\n",
       "telephone_number                                                                \n",
       "iWBn_13aJO         J  50    M  6957.0    1263  Samsung     Android OS       1   \n",
       "8JWaD2wYoQ         M  52    M  1041.0     125  Samsung     Android OS       2   \n",
       "sbPnQURi3j         A  49    U  7176.0     345  Samsung     Android OS       1   \n",
       "qOy-JlqPTl         M  49    M  4309.0     466  Samsung     Android OS       1   \n",
       "MNODhcb7h0         A  50    U  6999.0     695  Samsung     Android OS       1   \n",
       "...               ..  ..  ...     ...     ...      ...            ...     ...   \n",
       "vjo-T0Bkap         F  44    M  2047.0    1401  Samsung     Android OS       1   \n",
       "hr9U3_0kXW         G  39    U  4908.0     176    Apple            iOS       2   \n",
       "xw1HISdQiO         H  32    M  5317.0    1088  Samsung     Android OS       1   \n",
       "r5nxa5j2G0         D  43    U  6850.0    1418  Samsung     Android OS       1   \n",
       "fcvlu4pk-Q         A  39    M  2121.0     517   Xiaomi     Android OS       1   \n",
       "\n",
       "                 is_dualsim is_featurephone  ...     val13_6 val14_6 val15_6  \\\n",
       "telephone_number                             ...                               \n",
       "iWBn_13aJO                1               0  ...    0.000000     0.0    0.00   \n",
       "8JWaD2wYoQ                1               0  ...  206.536585     0.0    0.40   \n",
       "sbPnQURi3j                1               0  ...    0.000000     0.0    0.25   \n",
       "qOy-JlqPTl                1               0  ...   51.885746     0.0    0.00   \n",
       "MNODhcb7h0                1               0  ...    0.000000     0.0    0.00   \n",
       "...                     ...             ...  ...         ...     ...     ...   \n",
       "vjo-T0Bkap                1               0  ...    0.000000     0.0    0.18   \n",
       "hr9U3_0kXW                1               0  ...  457.193839     0.0    0.24   \n",
       "xw1HISdQiO                1               0  ...  184.259022     0.0    5.82   \n",
       "r5nxa5j2G0                1               0  ...    0.000000     0.0    1.90   \n",
       "fcvlu4pk-Q                1               0  ...    0.000000     0.0    1.70   \n",
       "\n",
       "                  val16_6  val17_6  val18_6  val19_6  val20_6  val21_6  target  \n",
       "telephone_number                                                                \n",
       "iWBn_13aJO           0.56     0.00     0.00     60.0      7.0      0.0       1  \n",
       "8JWaD2wYoQ           0.00     0.16     0.24    156.0      0.0      2.0       1  \n",
       "sbPnQURi3j           2.35     0.00     0.25    241.0     87.0      4.0       1  \n",
       "qOy-JlqPTl           0.00     0.00     0.00    299.0    142.0     80.0       1  \n",
       "MNODhcb7h0           0.80     0.00     0.00    121.0     96.0      0.0       1  \n",
       "...                   ...      ...      ...      ...      ...      ...     ...  \n",
       "vjo-T0Bkap           1.50     0.00     0.09    108.0     18.0      2.0       0  \n",
       "hr9U3_0kXW           2.24     0.00     0.24     98.0     23.0      1.0       0  \n",
       "xw1HISdQiO           7.16     4.44     1.38    256.0     54.0     61.0       0  \n",
       "r5nxa5j2G0           4.10     0.10     1.80     92.0     31.0     14.0       0  \n",
       "fcvlu4pk-Q           1.20     0.50     1.20    143.0     14.0     22.0       0  \n",
       "\n",
       "[10000 rows x 131 columns]"
      ]
     },
     "execution_count": 3,
     "metadata": {},
     "output_type": "execute_result"
    }
   ],
   "source": [
    "df"
   ]
  },
  {
   "cell_type": "code",
   "execution_count": 4,
   "id": "7d784c42-8a17-4ef5-839c-5efab5e3a4ca",
   "metadata": {
    "execution": {
     "iopub.execute_input": "2025-08-09T12:37:49.797655Z",
     "iopub.status.busy": "2025-08-09T12:37:49.797437Z",
     "iopub.status.idle": "2025-08-09T12:37:49.803414Z",
     "shell.execute_reply": "2025-08-09T12:37:49.802686Z",
     "shell.execute_reply.started": "2025-08-09T12:37:49.797636Z"
    }
   },
   "outputs": [
    {
     "data": {
      "text/plain": [
       "Index(['trf', 'age', 'gndr', 'age_dev', 'dev_man', 'device_os_name', 'dev_num',\n",
       "       'is_dualsim', 'is_featurephone', 'is_smartphone', 'simcard_type',\n",
       "       'region'],\n",
       "      dtype='object')"
      ]
     },
     "execution_count": 4,
     "metadata": {},
     "output_type": "execute_result"
    }
   ],
   "source": [
    "df.columns[df.dtypes=='object']"
   ]
  },
  {
   "cell_type": "code",
   "execution_count": 5,
   "id": "934f9b53-2775-4911-b859-1a01b5e13698",
   "metadata": {
    "execution": {
     "iopub.execute_input": "2025-08-09T12:37:49.805822Z",
     "iopub.status.busy": "2025-08-09T12:37:49.805335Z",
     "iopub.status.idle": "2025-08-09T12:37:49.812506Z",
     "shell.execute_reply": "2025-08-09T12:37:49.811861Z",
     "shell.execute_reply.started": "2025-08-09T12:37:49.805799Z"
    }
   },
   "outputs": [
    {
     "data": {
      "text/plain": [
       "{int64: ['val4_1', 'val6_1', 'val8_1', 'val10_1', 'val19_1', 'val20_1', 'val21_1', 'target'], float64: ['tenure', 'val2_1', 'val3_1', 'val5_1', 'val7_1', 'val9_1', 'val11_1', 'val12_1', 'val13_1', 'val14_1', 'val15_1', 'val16_1', 'val17_1', 'val18_1', 'val2_2', 'val3_2', 'val4_2', 'val5_2', 'val6_2', 'val7_2', 'val8_2', 'val9_2', 'val10_2', 'val11_2', 'val12_2', 'val13_2', 'val14_2', 'val15_2', 'val16_2', 'val17_2', 'val18_2', 'val19_2', 'val20_2', 'val21_2', 'val2_3', 'val3_3', 'val4_3', 'val5_3', 'val6_3', 'val7_3', 'val8_3', 'val9_3', 'val10_3', 'val11_3', 'val12_3', 'val13_3', 'val14_3', 'val15_3', 'val16_3', 'val17_3', 'val18_3', 'val19_3', 'val20_3', 'val21_3', 'val2_4', 'val4_4', 'val5_4', 'val6_4', 'val7_4', 'val8_4', 'val9_4', 'val10_4', 'val11_4', 'val12_4', 'val13_4', 'val14_4', 'val15_4', 'val16_4', 'val17_4', 'val18_4', 'val19_4', 'val20_4', 'val21_4', 'val2_5', 'val4_5', 'val5_5', 'val6_5', 'val7_5', 'val8_5', 'val9_5', 'val10_5', 'val11_5', 'val12_5', 'val13_5', 'val14_5', 'val15_5', 'val16_5', 'val17_5', 'val18_5', 'val19_5', 'val20_5', 'val21_5', 'val2_6', 'val4_6', 'val5_6', 'val6_6', 'val7_6', 'val8_6', 'val9_6', 'val10_6', ...], object: ['trf', 'age', 'gndr', 'age_dev', 'dev_man', 'device_os_name', 'dev_num', 'is_dualsim', 'is_featurephone', 'is_smartphone', 'simcard_type', 'region']}"
      ]
     },
     "execution_count": 5,
     "metadata": {},
     "output_type": "execute_result"
    }
   ],
   "source": [
    "df.columns.to_series().groupby(df.dtypes).groups"
   ]
  },
  {
   "cell_type": "code",
   "execution_count": 6,
   "id": "fb32aa64-905e-44ff-bfb9-0d095a48d5ce",
   "metadata": {
    "execution": {
     "iopub.execute_input": "2025-08-09T12:37:49.813421Z",
     "iopub.status.busy": "2025-08-09T12:37:49.813196Z",
     "iopub.status.idle": "2025-08-09T12:37:49.818710Z",
     "shell.execute_reply": "2025-08-09T12:37:49.818093Z",
     "shell.execute_reply.started": "2025-08-09T12:37:49.813401Z"
    }
   },
   "outputs": [
    {
     "data": {
      "text/plain": [
       "Index(['tenure', 'val2_1', 'val3_1', 'val5_1', 'val7_1', 'val9_1', 'val11_1',\n",
       "       'val12_1', 'val13_1', 'val14_1',\n",
       "       ...\n",
       "       'val12_6', 'val13_6', 'val14_6', 'val15_6', 'val16_6', 'val17_6',\n",
       "       'val18_6', 'val19_6', 'val20_6', 'val21_6'],\n",
       "      dtype='object', length=111)"
      ]
     },
     "execution_count": 6,
     "metadata": {},
     "output_type": "execute_result"
    }
   ],
   "source": [
    "#I will use pca on them\n",
    "df.columns[df.dtypes=='float64']"
   ]
  },
  {
   "cell_type": "code",
   "execution_count": 7,
   "id": "bc164af1-9993-4f6b-83f3-d3d05717950d",
   "metadata": {
    "execution": {
     "iopub.execute_input": "2025-08-09T12:37:49.819699Z",
     "iopub.status.busy": "2025-08-09T12:37:49.819430Z",
     "iopub.status.idle": "2025-08-09T12:37:49.834706Z",
     "shell.execute_reply": "2025-08-09T12:37:49.834098Z",
     "shell.execute_reply.started": "2025-08-09T12:37:49.819679Z"
    }
   },
   "outputs": [
    {
     "data": {
      "text/plain": [
       "trf          0\n",
       "age         24\n",
       "gndr         0\n",
       "tenure      26\n",
       "age_dev     20\n",
       "          ... \n",
       "val18_6    272\n",
       "val19_6    272\n",
       "val20_6    272\n",
       "val21_6    272\n",
       "target       0\n",
       "Length: 131, dtype: int64"
      ]
     },
     "execution_count": 7,
     "metadata": {},
     "output_type": "execute_result"
    }
   ],
   "source": [
    "df.isna().sum()\n"
   ]
  },
  {
   "cell_type": "code",
   "execution_count": 9,
   "id": "61a78bd5-499e-4509-b5fa-cc946bcf3cec",
   "metadata": {
    "execution": {
     "iopub.execute_input": "2025-08-09T12:37:49.841177Z",
     "iopub.status.busy": "2025-08-09T12:37:49.840560Z",
     "iopub.status.idle": "2025-08-09T12:37:51.154939Z",
     "shell.execute_reply": "2025-08-09T12:37:51.154246Z",
     "shell.execute_reply.started": "2025-08-09T12:37:49.841154Z"
    }
   },
   "outputs": [
    {
     "data": {
      "text/plain": [
       "<Axes: xlabel='trf', ylabel='count'>"
      ]
     },
     "execution_count": 9,
     "metadata": {},
     "output_type": "execute_result"
    },
    {
     "data": {
      "image/png": "[encoded data removed]",
      "text/plain": [
       "<Figure size 640x480 with 1 Axes>"
      ]
     },
     "metadata": {},
     "output_type": "display_data"
    }
   ],
   "source": [
    "import seaborn as sns\n",
    "import matplotlib.pyplot as plt\n",
    "sns.countplot(x='trf', data=df)\n"
   ]
  },
  {
   "cell_type": "code",
   "execution_count": null,
   "id": "817a7e22-e8c1-4130-823f-2a6cce57c446",
   "metadata": {
    "execution": {
     "iopub.execute_input": "2025-08-09T12:37:51.156159Z",
     "iopub.status.busy": "2025-08-09T12:37:51.155770Z",
     "iopub.status.idle": "2025-08-09T12:37:51.314800Z",
     "shell.execute_reply": "2025-08-09T12:37:51.314099Z",
     "shell.execute_reply.started": "2025-08-09T12:37:51.156136Z"
    }
   },
   "outputs": [
    {
     "data": {
      "text/plain": [
       "<Axes: xlabel='gndr', ylabel='count'>"
      ]
     },
     "execution_count": 10,
     "metadata": {},
     "output_type": "execute_result"
    },
    {
     "data": {
      "image/png": "[encoded data removed]",
      "text/plain": [
       "<Figure size 640x480 with 1 Axes>"
      ]
     },
     "metadata": {},
     "output_type": "display_data"
    }
   ],
   "source": [
    "sns.countplot(x='gndr', data=df)\n"
   ]
  },
  {
   "cell_type": "code",
   "execution_count": null,
   "id": "320ecba7-a44b-4c25-ac17-a542e9e59e40",
   "metadata": {
    "execution": {
     "iopub.execute_input": "2025-08-09T12:37:51.315819Z",
     "iopub.status.busy": "2025-08-09T12:37:51.315580Z",
     "iopub.status.idle": "2025-08-09T12:37:51.460099Z",
     "shell.execute_reply": "2025-08-09T12:37:51.459471Z",
     "shell.execute_reply.started": "2025-08-09T12:37:51.315798Z"
    }
   },
   "outputs": [
    {
     "data": {
      "text/plain": [
       "<Axes: xlabel='is_dualsim', ylabel='count'>"
      ]
     },
     "execution_count": 11,
     "metadata": {},
     "output_type": "execute_result"
    },
    {
     "data": {
      "image/png": "[encoded data removed]",
      "text/plain": [
       "<Figure size 640x480 with 1 Axes>"
      ]
     },
     "metadata": {},
     "output_type": "display_data"
    }
   ],
   "source": [
    "sns.countplot(x='is_dualsim', data=df)\n"
   ]
  },
  {
   "cell_type": "code",
   "execution_count": 12,
   "id": "c16f2911-bfe5-4a46-be1f-0c872d5491ad",
   "metadata": {
    "execution": {
     "iopub.execute_input": "2025-08-09T12:37:51.461020Z",
     "iopub.status.busy": "2025-08-09T12:37:51.460796Z",
     "iopub.status.idle": "2025-08-09T12:37:51.606560Z",
     "shell.execute_reply": "2025-08-09T12:37:51.605644Z",
     "shell.execute_reply.started": "2025-08-09T12:37:51.460999Z"
    }
   },
   "outputs": [
    {
     "data": {
      "text/plain": [
       "<Axes: xlabel='target', ylabel='count'>"
      ]
     },
     "execution_count": 12,
     "metadata": {},
     "output_type": "execute_result"
    },
    {
     "data": {
      "image/png": "[encoded data removed]",
      "text/plain": [
       "<Figure size 640x480 with 1 Axes>"
      ]
     },
     "metadata": {},
     "output_type": "display_data"
    }
   ],
   "source": [
    "sns.countplot(x='target', data=df)"
   ]
  },
  {
   "cell_type": "code",
   "execution_count": 13,
   "id": "b1596856-8805-4472-964a-5cbcaffe8bc0",
   "metadata": {
    "execution": {
     "iopub.execute_input": "2025-08-09T12:37:51.608147Z",
     "iopub.status.busy": "2025-08-09T12:37:51.607618Z",
     "iopub.status.idle": "2025-08-09T12:37:51.629219Z",
     "shell.execute_reply": "2025-08-09T12:37:51.628315Z",
     "shell.execute_reply.started": "2025-08-09T12:37:51.608114Z"
    }
   },
   "outputs": [
    {
     "data": {
      "text/html": [
       "<div>\n",
       "<style scoped>\n",
       "    .dataframe tbody tr th:only-of-type {\n",
       "        vertical-align: middle;\n",
       "    }\n",
       "\n",
       "    .dataframe tbody tr th {\n",
       "        vertical-align: top;\n",
       "    }\n",
       "\n",
       "    .dataframe thead th {\n",
       "        text-align: right;\n",
       "    }\n",
       "</style>\n",
       "<table border=\"1\" class=\"dataframe\">\n",
       "  <thead>\n",
       "    <tr style=\"text-align: right;\">\n",
       "      <th>target</th>\n",
       "      <th>0</th>\n",
       "      <th>1</th>\n",
       "    </tr>\n",
       "    <tr>\n",
       "      <th>gndr</th>\n",
       "      <th></th>\n",
       "      <th></th>\n",
       "    </tr>\n",
       "  </thead>\n",
       "  <tbody>\n",
       "    <tr>\n",
       "      <th>F</th>\n",
       "      <td>0.630780</td>\n",
       "      <td>0.369220</td>\n",
       "    </tr>\n",
       "    <tr>\n",
       "      <th>M</th>\n",
       "      <td>0.488678</td>\n",
       "      <td>0.511322</td>\n",
       "    </tr>\n",
       "    <tr>\n",
       "      <th>U</th>\n",
       "      <td>0.440581</td>\n",
       "      <td>0.559419</td>\n",
       "    </tr>\n",
       "  </tbody>\n",
       "</table>\n",
       "</div>"
      ],
      "text/plain": [
       "target         0         1\n",
       "gndr                      \n",
       "F       0.630780  0.369220\n",
       "M       0.488678  0.511322\n",
       "U       0.440581  0.559419"
      ]
     },
     "execution_count": 13,
     "metadata": {},
     "output_type": "execute_result"
    }
   ],
   "source": [
    "pd.crosstab(\n",
    "   df['gndr'], \n",
    "   df['target'], \n",
    "   normalize='index'\n",
    " )\n"
   ]
  },
  {
   "cell_type": "code",
   "execution_count": 14,
   "id": "f043d6aa-cdcb-458b-a0a3-655769f126f4",
   "metadata": {
    "execution": {
     "iopub.execute_input": "2025-08-09T12:37:51.630419Z",
     "iopub.status.busy": "2025-08-09T12:37:51.630162Z",
     "iopub.status.idle": "2025-08-09T12:37:51.651070Z",
     "shell.execute_reply": "2025-08-09T12:37:51.649854Z",
     "shell.execute_reply.started": "2025-08-09T12:37:51.630397Z"
    }
   },
   "outputs": [
    {
     "data": {
      "text/html": [
       "<div>\n",
       "<style scoped>\n",
       "    .dataframe tbody tr th:only-of-type {\n",
       "        vertical-align: middle;\n",
       "    }\n",
       "\n",
       "    .dataframe tbody tr th {\n",
       "        vertical-align: top;\n",
       "    }\n",
       "\n",
       "    .dataframe thead th {\n",
       "        text-align: right;\n",
       "    }\n",
       "</style>\n",
       "<table border=\"1\" class=\"dataframe\">\n",
       "  <thead>\n",
       "    <tr style=\"text-align: right;\">\n",
       "      <th>target</th>\n",
       "      <th>0</th>\n",
       "      <th>1</th>\n",
       "    </tr>\n",
       "    <tr>\n",
       "      <th>trf</th>\n",
       "      <th></th>\n",
       "      <th></th>\n",
       "    </tr>\n",
       "  </thead>\n",
       "  <tbody>\n",
       "    <tr>\n",
       "      <th>A</th>\n",
       "      <td>0.605015</td>\n",
       "      <td>0.394985</td>\n",
       "    </tr>\n",
       "    <tr>\n",
       "      <th>B</th>\n",
       "      <td>0.376200</td>\n",
       "      <td>0.623800</td>\n",
       "    </tr>\n",
       "    <tr>\n",
       "      <th>C</th>\n",
       "      <td>0.235294</td>\n",
       "      <td>0.764706</td>\n",
       "    </tr>\n",
       "    <tr>\n",
       "      <th>D</th>\n",
       "      <td>0.482456</td>\n",
       "      <td>0.517544</td>\n",
       "    </tr>\n",
       "    <tr>\n",
       "      <th>E</th>\n",
       "      <td>0.442857</td>\n",
       "      <td>0.557143</td>\n",
       "    </tr>\n",
       "    <tr>\n",
       "      <th>F</th>\n",
       "      <td>0.517997</td>\n",
       "      <td>0.482003</td>\n",
       "    </tr>\n",
       "    <tr>\n",
       "      <th>G</th>\n",
       "      <td>0.500000</td>\n",
       "      <td>0.500000</td>\n",
       "    </tr>\n",
       "    <tr>\n",
       "      <th>H</th>\n",
       "      <td>0.450980</td>\n",
       "      <td>0.549020</td>\n",
       "    </tr>\n",
       "    <tr>\n",
       "      <th>I</th>\n",
       "      <td>0.356828</td>\n",
       "      <td>0.643172</td>\n",
       "    </tr>\n",
       "    <tr>\n",
       "      <th>J</th>\n",
       "      <td>0.418079</td>\n",
       "      <td>0.581921</td>\n",
       "    </tr>\n",
       "    <tr>\n",
       "      <th>K</th>\n",
       "      <td>0.399103</td>\n",
       "      <td>0.600897</td>\n",
       "    </tr>\n",
       "    <tr>\n",
       "      <th>L</th>\n",
       "      <td>0.518868</td>\n",
       "      <td>0.481132</td>\n",
       "    </tr>\n",
       "    <tr>\n",
       "      <th>M</th>\n",
       "      <td>0.381490</td>\n",
       "      <td>0.618510</td>\n",
       "    </tr>\n",
       "    <tr>\n",
       "      <th>N</th>\n",
       "      <td>0.520513</td>\n",
       "      <td>0.479487</td>\n",
       "    </tr>\n",
       "    <tr>\n",
       "      <th>O</th>\n",
       "      <td>0.555556</td>\n",
       "      <td>0.444444</td>\n",
       "    </tr>\n",
       "    <tr>\n",
       "      <th>P</th>\n",
       "      <td>0.428571</td>\n",
       "      <td>0.571429</td>\n",
       "    </tr>\n",
       "    <tr>\n",
       "      <th>Q</th>\n",
       "      <td>0.500000</td>\n",
       "      <td>0.500000</td>\n",
       "    </tr>\n",
       "    <tr>\n",
       "      <th>R</th>\n",
       "      <td>0.000000</td>\n",
       "      <td>1.000000</td>\n",
       "    </tr>\n",
       "    <tr>\n",
       "      <th>T</th>\n",
       "      <td>0.000000</td>\n",
       "      <td>1.000000</td>\n",
       "    </tr>\n",
       "  </tbody>\n",
       "</table>\n",
       "</div>"
      ],
      "text/plain": [
       "target         0         1\n",
       "trf                       \n",
       "A       0.605015  0.394985\n",
       "B       0.376200  0.623800\n",
       "C       0.235294  0.764706\n",
       "D       0.482456  0.517544\n",
       "E       0.442857  0.557143\n",
       "F       0.517997  0.482003\n",
       "G       0.500000  0.500000\n",
       "H       0.450980  0.549020\n",
       "I       0.356828  0.643172\n",
       "J       0.418079  0.581921\n",
       "K       0.399103  0.600897\n",
       "L       0.518868  0.481132\n",
       "M       0.381490  0.618510\n",
       "N       0.520513  0.479487\n",
       "O       0.555556  0.444444\n",
       "P       0.428571  0.571429\n",
       "Q       0.500000  0.500000\n",
       "R       0.000000  1.000000\n",
       "T       0.000000  1.000000"
      ]
     },
     "execution_count": 14,
     "metadata": {},
     "output_type": "execute_result"
    }
   ],
   "source": [
    "pd.crosstab(\n",
    "   df['trf'], \n",
    "   df['target'], \n",
    "   normalize='index'\n",
    " )"
   ]
  },
  {
   "cell_type": "code",
   "execution_count": 15,
   "id": "e48cb46d-6f87-4e41-84e6-cc2c3d0c221f",
   "metadata": {
    "execution": {
     "iopub.execute_input": "2025-08-09T12:37:51.652612Z",
     "iopub.status.busy": "2025-08-09T12:37:51.652351Z",
     "iopub.status.idle": "2025-08-09T12:37:51.668970Z",
     "shell.execute_reply": "2025-08-09T12:37:51.668310Z",
     "shell.execute_reply.started": "2025-08-09T12:37:51.652591Z"
    }
   },
   "outputs": [
    {
     "data": {
      "text/html": [
       "<div>\n",
       "<style scoped>\n",
       "    .dataframe tbody tr th:only-of-type {\n",
       "        vertical-align: middle;\n",
       "    }\n",
       "\n",
       "    .dataframe tbody tr th {\n",
       "        vertical-align: top;\n",
       "    }\n",
       "\n",
       "    .dataframe thead th {\n",
       "        text-align: right;\n",
       "    }\n",
       "</style>\n",
       "<table border=\"1\" class=\"dataframe\">\n",
       "  <thead>\n",
       "    <tr style=\"text-align: right;\">\n",
       "      <th>target</th>\n",
       "      <th>0</th>\n",
       "      <th>1</th>\n",
       "    </tr>\n",
       "    <tr>\n",
       "      <th>is_dualsim</th>\n",
       "      <th></th>\n",
       "      <th></th>\n",
       "    </tr>\n",
       "  </thead>\n",
       "  <tbody>\n",
       "    <tr>\n",
       "      <th>0</th>\n",
       "      <td>0.624544</td>\n",
       "      <td>0.375456</td>\n",
       "    </tr>\n",
       "    <tr>\n",
       "      <th>1</th>\n",
       "      <td>0.488831</td>\n",
       "      <td>0.511169</td>\n",
       "    </tr>\n",
       "  </tbody>\n",
       "</table>\n",
       "</div>"
      ],
      "text/plain": [
       "target             0         1\n",
       "is_dualsim                    \n",
       "0           0.624544  0.375456\n",
       "1           0.488831  0.511169"
      ]
     },
     "execution_count": 15,
     "metadata": {},
     "output_type": "execute_result"
    }
   ],
   "source": [
    "#Some customers uses 2+ phones xD\n",
    "pd.crosstab(\n",
    "   df['is_dualsim'], \n",
    "   df['target'], \n",
    "   normalize='index'\n",
    " )"
   ]
  },
  {
   "cell_type": "code",
   "execution_count": 16,
   "id": "ce6d9aef-e9df-4281-9c61-d9d0a193c883",
   "metadata": {
    "execution": {
     "iopub.execute_input": "2025-08-09T12:37:51.669826Z",
     "iopub.status.busy": "2025-08-09T12:37:51.669613Z",
     "iopub.status.idle": "2025-08-09T12:37:51.674646Z",
     "shell.execute_reply": "2025-08-09T12:37:51.673867Z",
     "shell.execute_reply.started": "2025-08-09T12:37:51.669807Z"
    }
   },
   "outputs": [
    {
     "data": {
      "text/plain": [
       "'is_dualsim'"
      ]
     },
     "execution_count": 16,
     "metadata": {},
     "output_type": "execute_result"
    }
   ],
   "source": [
    "'is_dualsim'"
   ]
  },
  {
   "cell_type": "code",
   "execution_count": 17,
   "id": "89c721a0-7528-4a3b-a1fd-82c808af1170",
   "metadata": {
    "execution": {
     "iopub.execute_input": "2025-08-09T12:37:51.675638Z",
     "iopub.status.busy": "2025-08-09T12:37:51.675364Z",
     "iopub.status.idle": "2025-08-09T12:37:51.680411Z",
     "shell.execute_reply": "2025-08-09T12:37:51.679593Z",
     "shell.execute_reply.started": "2025-08-09T12:37:51.675618Z"
    }
   },
   "outputs": [],
   "source": [
    "#custom method for returning numbers of outliers\n",
    "def outlier_counter(x):\n",
    "    Q1 = df[f'{x}'].quantile(0.25)\n",
    "    Q3 = df[f'{x}'].quantile(0.75)\n",
    "    IQR = Q3 - Q1\n",
    "    outliers = df[(df[f'{x}'] < Q1 - 1.5*IQR) | (df[f'{x}'] > Q3 + 1.5*IQR)]\n",
    "    return outliers.count()"
   ]
  },
  {
   "cell_type": "code",
   "execution_count": 18,
   "id": "469f03f8-be4e-4a63-9ba5-f2348011e2c5",
   "metadata": {
    "execution": {
     "iopub.execute_input": "2025-08-09T12:37:51.681321Z",
     "iopub.status.busy": "2025-08-09T12:37:51.681092Z",
     "iopub.status.idle": "2025-08-09T12:37:51.691833Z",
     "shell.execute_reply": "2025-08-09T12:37:51.691148Z",
     "shell.execute_reply.started": "2025-08-09T12:37:51.681302Z"
    }
   },
   "outputs": [
    {
     "data": {
      "text/plain": [
       "trf        0\n",
       "age        0\n",
       "gndr       0\n",
       "tenure     0\n",
       "age_dev    0\n",
       "          ..\n",
       "val18_6    0\n",
       "val19_6    0\n",
       "val20_6    0\n",
       "val21_6    0\n",
       "target     0\n",
       "Length: 131, dtype: int64"
      ]
     },
     "execution_count": 18,
     "metadata": {},
     "output_type": "execute_result"
    }
   ],
   "source": [
    "outlier_counter(\"target\")"
   ]
  },
  {
   "cell_type": "code",
   "execution_count": 19,
   "id": "0c017b6c-0596-4f36-81bc-7fea33d8b0d5",
   "metadata": {
    "execution": {
     "iopub.execute_input": "2025-08-09T12:37:51.692861Z",
     "iopub.status.busy": "2025-08-09T12:37:51.692573Z",
     "iopub.status.idle": "2025-08-09T12:37:51.702075Z",
     "shell.execute_reply": "2025-08-09T12:37:51.701309Z",
     "shell.execute_reply.started": "2025-08-09T12:37:51.692841Z"
    }
   },
   "outputs": [
    {
     "data": {
      "text/plain": [
       "trf        0\n",
       "age        0\n",
       "gndr       0\n",
       "tenure     0\n",
       "age_dev    0\n",
       "          ..\n",
       "val18_6    0\n",
       "val19_6    0\n",
       "val20_6    0\n",
       "val21_6    0\n",
       "target     0\n",
       "Length: 131, dtype: int64"
      ]
     },
     "execution_count": 19,
     "metadata": {},
     "output_type": "execute_result"
    }
   ],
   "source": [
    "outlier_counter(\"tenure\")"
   ]
  },
  {
   "cell_type": "code",
   "execution_count": 20,
   "id": "076d92a3-26e5-4184-9cfc-56947774e20c",
   "metadata": {
    "execution": {
     "iopub.execute_input": "2025-08-09T12:37:51.706216Z",
     "iopub.status.busy": "2025-08-09T12:37:51.705443Z",
     "iopub.status.idle": "2025-08-09T12:37:52.042569Z",
     "shell.execute_reply": "2025-08-09T12:37:52.041562Z",
     "shell.execute_reply.started": "2025-08-09T12:37:51.706182Z"
    }
   },
   "outputs": [
    {
     "data": {
      "image/png": "[encoded data removed]",
      "text/plain": [
       "<Figure size 640x480 with 2 Axes>"
      ]
     },
     "metadata": {},
     "output_type": "display_data"
    }
   ],
   "source": [
    "\n",
    "#corelation between target and futures are bad, but between future and future is high ,which is also bad.I will drop some of them. I am thinking using pca.\n",
    "sns.heatmap(df[['target','tenure', 'val4_1', 'val6_1', 'val8_1', 'val10_1', 'val19_1', 'val20_1', 'val21_1' ]].corr(), annot=True)\n",
    "plt.show()"
   ]
  },
  {
   "cell_type": "code",
   "execution_count": 21,
   "id": "3f272151-3786-424b-8bcf-748d8c2a4e46",
   "metadata": {
    "execution": {
     "iopub.execute_input": "2025-08-09T12:37:52.043981Z",
     "iopub.status.busy": "2025-08-09T12:37:52.043464Z",
     "iopub.status.idle": "2025-08-09T12:37:52.106297Z",
     "shell.execute_reply": "2025-08-09T12:37:52.105165Z",
     "shell.execute_reply.started": "2025-08-09T12:37:52.043954Z"
    }
   },
   "outputs": [],
   "source": [
    "from sklearn.utils import shuffle\n",
    "X = df.drop('target', axis=1)\n",
    "y = df['target']\n",
    "X, y = shuffle(X, y, random_state=42)"
   ]
  },
  {
   "cell_type": "code",
   "execution_count": 22,
   "id": "13436ef9-9d26-4ca3-b1db-4b8d4fede713",
   "metadata": {
    "execution": {
     "iopub.execute_input": "2025-08-09T12:37:52.107865Z",
     "iopub.status.busy": "2025-08-09T12:37:52.107243Z",
     "iopub.status.idle": "2025-08-09T12:37:53.809372Z",
     "shell.execute_reply": "2025-08-09T12:37:53.808035Z",
     "shell.execute_reply.started": "2025-08-09T12:37:52.107833Z"
    }
   },
   "outputs": [
    {
     "name": "stdout",
     "output_type": "stream",
     "text": [
      "Requirement already satisfied: category_encoders in /opt/conda/lib/python3.12/site-packages (2.8.1)\n",
      "Requirement already satisfied: numpy>=1.14.0 in /opt/conda/lib/python3.12/site-packages (from category_encoders) (1.26.4)\n",
      "Requirement already satisfied: pandas>=1.0.5 in /opt/conda/lib/python3.12/site-packages (from category_encoders) (2.2.3)\n",
      "Requirement already satisfied: patsy>=0.5.1 in /opt/conda/lib/python3.12/site-packages (from category_encoders) (1.0.1)\n",
      "Requirement already satisfied: scikit-learn>=1.6.0 in /opt/conda/lib/python3.12/site-packages (from category_encoders) (1.6.1)\n",
      "Requirement already satisfied: scipy>=1.0.0 in /opt/conda/lib/python3.12/site-packages (from category_encoders) (1.15.2)\n",
      "Requirement already satisfied: statsmodels>=0.9.0 in /opt/conda/lib/python3.12/site-packages (from category_encoders) (0.14.5)\n",
      "Requirement already satisfied: python-dateutil>=2.8.2 in /opt/conda/lib/python3.12/site-packages (from pandas>=1.0.5->category_encoders) (2.9.0.post0)\n",
      "Requirement already satisfied: pytz>=2020.1 in /opt/conda/lib/python3.12/site-packages (from pandas>=1.0.5->category_encoders) (2024.2)\n",
      "Requirement already satisfied: tzdata>=2022.7 in /opt/conda/lib/python3.12/site-packages (from pandas>=1.0.5->category_encoders) (2025.2)\n",
      "Requirement already satisfied: six>=1.5 in /opt/conda/lib/python3.12/site-packages (from python-dateutil>=2.8.2->pandas>=1.0.5->category_encoders) (1.17.0)\n",
      "Requirement already satisfied: joblib>=1.2.0 in /opt/conda/lib/python3.12/site-packages (from scikit-learn>=1.6.0->category_encoders) (1.5.1)\n",
      "Requirement already satisfied: threadpoolctl>=3.1.0 in /opt/conda/lib/python3.12/site-packages (from scikit-learn>=1.6.0->category_encoders) (3.6.0)\n",
      "Requirement already satisfied: packaging>=21.3 in /opt/conda/lib/python3.12/site-packages (from statsmodels>=0.9.0->category_encoders) (24.2)\n"
     ]
    }
   ],
   "source": [
    "!pip install category_encoders"
   ]
  },
  {
   "cell_type": "code",
   "execution_count": 23,
   "id": "3ade13c7-f1b8-4c7f-8df3-0ab672349fbf",
   "metadata": {
    "execution": {
     "iopub.execute_input": "2025-08-09T12:37:53.817091Z",
     "iopub.status.busy": "2025-08-09T12:37:53.815974Z",
     "iopub.status.idle": "2025-08-09T12:37:55.591479Z",
     "shell.execute_reply": "2025-08-09T12:37:55.590571Z",
     "shell.execute_reply.started": "2025-08-09T12:37:53.816995Z"
    }
   },
   "outputs": [
    {
     "name": "stdout",
     "output_type": "stream",
     "text": [
      "Requirement already satisfied: xgboost in /opt/conda/lib/python3.12/site-packages (2.1.4)\n",
      "Requirement already satisfied: numpy in /opt/conda/lib/python3.12/site-packages (from xgboost) (1.26.4)\n",
      "Requirement already satisfied: scipy in /opt/conda/lib/python3.12/site-packages (from xgboost) (1.15.2)\n"
     ]
    }
   ],
   "source": [
    "!pip install xgboost"
   ]
  },
  {
   "cell_type": "code",
   "execution_count": 24,
   "id": "fa1bc10d-55a7-434c-a2e0-830b296f571a",
   "metadata": {
    "execution": {
     "iopub.execute_input": "2025-08-09T12:37:55.592949Z",
     "iopub.status.busy": "2025-08-09T12:37:55.592688Z",
     "iopub.status.idle": "2025-08-09T12:37:57.283451Z",
     "shell.execute_reply": "2025-08-09T12:37:57.282276Z",
     "shell.execute_reply.started": "2025-08-09T12:37:55.592924Z"
    }
   },
   "outputs": [
    {
     "name": "stdout",
     "output_type": "stream",
     "text": [
      "Requirement already satisfied: optuna in /opt/conda/lib/python3.12/site-packages (4.4.0)\n",
      "Requirement already satisfied: alembic>=1.5.0 in /opt/conda/lib/python3.12/site-packages (from optuna) (1.16.2)\n",
      "Requirement already satisfied: colorlog in /opt/conda/lib/python3.12/site-packages (from optuna) (6.9.0)\n",
      "Requirement already satisfied: numpy in /opt/conda/lib/python3.12/site-packages (from optuna) (1.26.4)\n",
      "Requirement already satisfied: packaging>=20.0 in /opt/conda/lib/python3.12/site-packages (from optuna) (24.2)\n",
      "Requirement already satisfied: sqlalchemy>=1.4.2 in /opt/conda/lib/python3.12/site-packages (from optuna) (2.0.41)\n",
      "Requirement already satisfied: tqdm in /opt/conda/lib/python3.12/site-packages (from optuna) (4.67.1)\n",
      "Requirement already satisfied: PyYAML in /opt/conda/lib/python3.12/site-packages (from optuna) (6.0.2)\n",
      "Requirement already satisfied: Mako in /opt/conda/lib/python3.12/site-packages (from alembic>=1.5.0->optuna) (1.3.10)\n",
      "Requirement already satisfied: typing-extensions>=4.12 in /opt/conda/lib/python3.12/site-packages (from alembic>=1.5.0->optuna) (4.14.1)\n",
      "Requirement already satisfied: greenlet>=1 in /opt/conda/lib/python3.12/site-packages (from sqlalchemy>=1.4.2->optuna) (3.2.3)\n",
      "Requirement already satisfied: MarkupSafe>=0.9.2 in /opt/conda/lib/python3.12/site-packages (from Mako->alembic>=1.5.0->optuna) (3.0.2)\n"
     ]
    }
   ],
   "source": [
    "!pip install optuna"
   ]
  },
  {
   "cell_type": "code",
   "execution_count": 30,
   "id": "3682f4f0-e429-4e3e-9af1-420171557de0",
   "metadata": {
    "execution": {
     "iopub.execute_input": "2025-08-09T13:10:49.769110Z",
     "iopub.status.busy": "2025-08-09T13:10:49.768503Z",
     "iopub.status.idle": "2025-08-09T13:18:48.529705Z",
     "shell.execute_reply": "2025-08-09T13:18:48.528908Z",
     "shell.execute_reply.started": "2025-08-09T13:10:49.769079Z"
    }
   },
   "outputs": [
    {
     "name": "stderr",
     "output_type": "stream",
     "text": [
      "[I 2025-08-09 13:10:49,793] A new study created in memory with name: no-name-954d03dc-3103-4bbd-8334-121e72a08621\n",
      "[I 2025-08-09 13:10:57,483] Trial 0 finished with value: -0.5462995309728934 and parameters: {'max_depth': 7, 'learning_rate': 0.1488341514962274, 'n_estimators': 896, 'subsample': 0.9207736033028373, 'colsample_bytree': 0.7770046838938403, 'reg_alpha': 0.0020144288372870417, 'reg_lambda': 0.0026749548226931955}. Best is trial 0 with value: -0.5462995309728934.\n",
      "[I 2025-08-09 13:11:02,587] Trial 1 finished with value: -0.5669002413138734 and parameters: {'max_depth': 3, 'learning_rate': 0.12148815354803949, 'n_estimators': 712, 'subsample': 0.9323615934987365, 'colsample_bytree': 0.5240675695140347, 'reg_alpha': 0.003445962055312372, 'reg_lambda': 0.00013882662345655872}. Best is trial 1 with value: -0.5669002413138734.\n",
      "[I 2025-08-09 13:11:07,297] Trial 2 finished with value: -0.5924016816798656 and parameters: {'max_depth': 3, 'learning_rate': 0.049199234600958916, 'n_estimators': 369, 'subsample': 0.6466884278872393, 'colsample_bytree': 0.705802388341723, 'reg_alpha': 0.0003608695416474057, 'reg_lambda': 0.0008483576518999883}. Best is trial 2 with value: -0.5924016816798656.\n",
      "[I 2025-08-09 13:11:12,309] Trial 3 finished with value: -0.5971008018618299 and parameters: {'max_depth': 6, 'learning_rate': 0.018128632028665655, 'n_estimators': 293, 'subsample': 0.6962108799644013, 'colsample_bytree': 0.5817946439722688, 'reg_alpha': 1.3287511193873005e-05, 'reg_lambda': 0.000639041426091805}. Best is trial 3 with value: -0.5971008018618299.\n",
      "[I 2025-08-09 13:11:21,507] Trial 4 finished with value: -0.5813000616198393 and parameters: {'max_depth': 8, 'learning_rate': 0.012118102159435288, 'n_estimators': 873, 'subsample': 0.590472064087906, 'colsample_bytree': 0.634224963867623, 'reg_alpha': 0.00580203537292657, 'reg_lambda': 0.0003695572432380511}. Best is trial 3 with value: -0.5971008018618299.\n",
      "[I 2025-08-09 13:11:27,576] Trial 5 finished with value: -0.5798011414818746 and parameters: {'max_depth': 5, 'learning_rate': 0.021939634194300107, 'n_estimators': 845, 'subsample': 0.7007097953351945, 'colsample_bytree': 0.5921328725963193, 'reg_alpha': 1.6255064980811885e-05, 'reg_lambda': 0.0005503929257202405}. Best is trial 3 with value: -0.5971008018618299.\n",
      "[I 2025-08-09 13:11:32,430] Trial 6 finished with value: -0.6020009619438249 and parameters: {'max_depth': 3, 'learning_rate': 0.021571061075085093, 'n_estimators': 520, 'subsample': 0.6767208659470725, 'colsample_bytree': 0.9332699992820019, 'reg_alpha': 0.00026674506317075973, 'reg_lambda': 0.0035797808042869906}. Best is trial 6 with value: -0.6020009619438249.\n",
      "[I 2025-08-09 13:11:38,140] Trial 7 finished with value: -0.5515996410678861 and parameters: {'max_depth': 5, 'learning_rate': 0.09964732896915704, 'n_estimators': 689, 'subsample': 0.9933046691353493, 'colsample_bytree': 0.5849030029506002, 'reg_alpha': 0.00016512462161609296, 'reg_lambda': 0.0027880372792114844}. Best is trial 6 with value: -0.6020009619438249.\n",
      "[I 2025-08-09 13:11:42,965] Trial 8 finished with value: -0.6064003820897986 and parameters: {'max_depth': 5, 'learning_rate': 0.014520813352294734, 'n_estimators': 240, 'subsample': 0.8128120751336408, 'colsample_bytree': 0.6899930181235077, 'reg_alpha': 0.0011236350592705316, 'reg_lambda': 1.0413697224792014e-05}. Best is trial 8 with value: -0.6064003820897986.\n",
      "[I 2025-08-09 13:11:48,147] Trial 9 finished with value: -0.5617012211119132 and parameters: {'max_depth': 3, 'learning_rate': 0.12948711110615482, 'n_estimators': 699, 'subsample': 0.5415920697874697, 'colsample_bytree': 0.9101615939860337, 'reg_alpha': 0.008575794072839787, 'reg_lambda': 0.0015881985080513769}. Best is trial 8 with value: -0.6064003820897986.\n",
      "[I 2025-08-09 13:11:53,351] Trial 10 finished with value: -0.5853994817598137 and parameters: {'max_depth': 9, 'learning_rate': 0.04299876998807824, 'n_estimators': 121, 'subsample': 0.8213758566487718, 'colsample_bytree': 0.8018484830648634, 'reg_alpha': 0.0011369460115748724, 'reg_lambda': 1.151565769682067e-05}. Best is trial 8 with value: -0.6064003820897986.\n",
      "[I 2025-08-09 13:11:58,846] Trial 11 finished with value: -0.6039003720408034 and parameters: {'max_depth': 5, 'learning_rate': 0.010433915675492953, 'n_estimators': 449, 'subsample': 0.8090647135034184, 'colsample_bytree': 0.980145651080996, 'reg_alpha': 0.00019160296295666276, 'reg_lambda': 7.403458866883781e-05}. Best is trial 8 with value: -0.6064003820897986.\n",
      "[I 2025-08-09 13:12:03,900] Trial 12 finished with value: -0.6058002020957945 and parameters: {'max_depth': 5, 'learning_rate': 0.010200525964742073, 'n_estimators': 321, 'subsample': 0.8109242956450053, 'colsample_bytree': 0.85666681383918, 'reg_alpha': 7.031848243901535e-05, 'reg_lambda': 1.1912598683510407e-05}. Best is trial 8 with value: -0.6064003820897986.\n",
      "[I 2025-08-09 13:12:08,746] Trial 13 finished with value: -0.589400391748833 and parameters: {'max_depth': 6, 'learning_rate': 0.036758059266140015, 'n_estimators': 177, 'subsample': 0.8113716208155778, 'colsample_bytree': 0.8488544140165808, 'reg_alpha': 5.55491107325139e-05, 'reg_lambda': 1.2805086620461831e-05}. Best is trial 8 with value: -0.6064003820897986.\n",
      "[I 2025-08-09 13:12:13,516] Trial 14 finished with value: -0.6084003121367926 and parameters: {'max_depth': 4, 'learning_rate': 0.01463610060903991, 'n_estimators': 264, 'subsample': 0.7710707958542719, 'colsample_bytree': 0.7042099256698875, 'reg_alpha': 5.125701327996874e-05, 'reg_lambda': 3.499236556476832e-05}. Best is trial 14 with value: -0.6084003121367926.\n",
      "[I 2025-08-09 13:12:18,110] Trial 15 finished with value: -0.6072002221217923 and parameters: {'max_depth': 4, 'learning_rate': 0.01634900186755705, 'n_estimators': 232, 'subsample': 0.7534083209390333, 'colsample_bytree': 0.6988171065746335, 'reg_alpha': 0.0008005307606913527, 'reg_lambda': 4.057021624846601e-05}. Best is trial 14 with value: -0.6084003121367926.\n",
      "[I 2025-08-09 13:12:23,011] Trial 16 finished with value: -0.5923011317328494 and parameters: {'max_depth': 4, 'learning_rate': 0.03033059720818047, 'n_estimators': 446, 'subsample': 0.7491808746854156, 'colsample_bytree': 0.7103850458095239, 'reg_alpha': 4.109637146363771e-05, 'reg_lambda': 5.2773836972307166e-05}. Best is trial 14 with value: -0.6084003121367926.\n",
      "[I 2025-08-09 13:12:27,244] Trial 17 finished with value: -0.6030005820018114 and parameters: {'max_depth': 4, 'learning_rate': 0.06383879211008821, 'n_estimators': 102, 'subsample': 0.8834555455423817, 'colsample_bytree': 0.6359246154285938, 'reg_alpha': 0.0008294569748748258, 'reg_lambda': 3.6359201540928066e-05}. Best is trial 14 with value: -0.6084003121367926.\n",
      "[I 2025-08-09 13:12:31,713] Trial 18 finished with value: -0.6007008919248253 and parameters: {'max_depth': 4, 'learning_rate': 0.027878584619302465, 'n_estimators': 234, 'subsample': 0.7473921953710212, 'colsample_bytree': 0.740020432521468, 'reg_alpha': 0.00047211814946281896, 'reg_lambda': 0.0001124543805925731}. Best is trial 14 with value: -0.6084003121367926.\n",
      "[I 2025-08-09 13:12:37,310] Trial 19 finished with value: -0.5894003017578303 and parameters: {'max_depth': 7, 'learning_rate': 0.01633762252846697, 'n_estimators': 386, 'subsample': 0.6172695075311778, 'colsample_bytree': 0.5029059203316111, 'reg_alpha': 0.0001053619054690591, 'reg_lambda': 0.00901384024903882}. Best is trial 14 with value: -0.6084003121367926.\n",
      "[I 2025-08-09 13:12:42,445] Trial 20 finished with value: -0.5743002914568601 and parameters: {'max_depth': 4, 'learning_rate': 0.07159078749714237, 'n_estimators': 596, 'subsample': 0.8672131837754771, 'colsample_bytree': 0.6556499721215624, 'reg_alpha': 2.4805869228859572e-05, 'reg_lambda': 3.066579518148497e-05}. Best is trial 14 with value: -0.6084003121367926.\n",
      "[I 2025-08-09 13:12:47,007] Trial 21 finished with value: -0.6086001221597864 and parameters: {'max_depth': 4, 'learning_rate': 0.014986772576513504, 'n_estimators': 240, 'subsample': 0.7631670203355043, 'colsample_bytree': 0.6907733381998746, 'reg_alpha': 0.0007900948435116711, 'reg_lambda': 2.2429080687374945e-05}. Best is trial 21 with value: -0.6086001221597864.\n",
      "[I 2025-08-09 13:12:51,498] Trial 22 finished with value: -0.611300152210782 and parameters: {'max_depth': 4, 'learning_rate': 0.013768550803127727, 'n_estimators': 213, 'subsample': 0.7616871849207776, 'colsample_bytree': 0.7519729798908186, 'reg_alpha': 0.0006169038047869042, 'reg_lambda': 2.66250958882166e-05}. Best is trial 22 with value: -0.611300152210782.\n",
      "[I 2025-08-09 13:12:55,973] Trial 23 finished with value: -0.6141001922627776 and parameters: {'max_depth': 4, 'learning_rate': 0.013071499440805516, 'n_estimators': 163, 'subsample': 0.747252241749369, 'colsample_bytree': 0.765283771034126, 'reg_alpha': 0.0026571164632618422, 'reg_lambda': 2.3384589924725052e-05}. Best is trial 23 with value: -0.6141001922627776.\n",
      "[I 2025-08-09 13:13:00,718] Trial 24 finished with value: -0.5998008319128253 and parameters: {'max_depth': 6, 'learning_rate': 0.023575527604240778, 'n_estimators': 167, 'subsample': 0.7156081407576664, 'colsample_bytree': 0.8181142471620851, 'reg_alpha': 0.0021971113173789984, 'reg_lambda': 2.1672333765868268e-05}. Best is trial 23 with value: -0.6141001922627776.\n",
      "[I 2025-08-09 13:13:05,334] Trial 25 finished with value: -0.6117002522087842 and parameters: {'max_depth': 3, 'learning_rate': 0.013325306428321693, 'n_estimators': 352, 'subsample': 0.6492079238884303, 'colsample_bytree': 0.750108691019046, 'reg_alpha': 0.002551610609546399, 'reg_lambda': 0.00018213907311142582}. Best is trial 23 with value: -0.6141001922627776.\n",
      "[I 2025-08-09 13:13:09,905] Trial 26 finished with value: -0.6116000922227797 and parameters: {'max_depth': 3, 'learning_rate': 0.012220404772085454, 'n_estimators': 357, 'subsample': 0.5543175756586716, 'colsample_bytree': 0.7586544605519988, 'reg_alpha': 0.003634495089878297, 'reg_lambda': 0.00021038355243126067}. Best is trial 23 with value: -0.6141001922627776.\n",
      "[I 2025-08-09 13:13:14,516] Trial 27 finished with value: -0.5597998312128754 and parameters: {'max_depth': 3, 'learning_rate': 0.18932617141701294, 'n_estimators': 362, 'subsample': 0.501170576512122, 'colsample_bytree': 0.7668328172056094, 'reg_alpha': 0.003973085277429465, 'reg_lambda': 0.00021008566703967303}. Best is trial 23 with value: -0.6141001922627776.\n",
      "[I 2025-08-09 13:13:19,283] Trial 28 finished with value: -0.6094004121467935 and parameters: {'max_depth': 3, 'learning_rate': 0.011746136324199366, 'n_estimators': 458, 'subsample': 0.5763933114915356, 'colsample_bytree': 0.8553594692472107, 'reg_alpha': 0.0019211462825289443, 'reg_lambda': 0.0002593922397037808}. Best is trial 23 with value: -0.6141001922627776.\n",
      "[I 2025-08-09 13:13:24,765] Trial 29 finished with value: -0.5888014716288664 and parameters: {'max_depth': 3, 'learning_rate': 0.029506692273090482, 'n_estimators': 995, 'subsample': 0.6486826162871504, 'colsample_bytree': 0.809311711111098, 'reg_alpha': 0.009560006497706622, 'reg_lambda': 0.00011470578132086693}. Best is trial 23 with value: -0.6141001922627776.\n",
      "[I 2025-08-09 13:13:29,650] Trial 30 finished with value: -0.6051004020618019 and parameters: {'max_depth': 3, 'learning_rate': 0.018537578250332067, 'n_estimators': 578, 'subsample': 0.5152190707381181, 'colsample_bytree': 0.789105732249348, 'reg_alpha': 0.0021757779385035603, 'reg_lambda': 7.037291342760899e-05}. Best is trial 23 with value: -0.6141001922627776.\n",
      "[I 2025-08-09 13:13:34,184] Trial 31 finished with value: -0.6136002022517788 and parameters: {'max_depth': 4, 'learning_rate': 0.01255567054645121, 'n_estimators': 181, 'subsample': 0.570386579270754, 'colsample_bytree': 0.7593410921758759, 'reg_alpha': 0.004476566980730749, 'reg_lambda': 0.0001496351848298549}. Best is trial 23 with value: -0.6141001922627776.\n",
      "[I 2025-08-09 13:13:38,776] Trial 32 finished with value: -0.6128000922467772 and parameters: {'max_depth': 3, 'learning_rate': 0.012602917334591894, 'n_estimators': 317, 'subsample': 0.5479807151157563, 'colsample_bytree': 0.740153871931588, 'reg_alpha': 0.004286623636206343, 'reg_lambda': 0.0003812222309584642}. Best is trial 23 with value: -0.6141001922627776.\n",
      "[I 2025-08-09 13:13:43,093] Trial 33 finished with value: -0.612500002249775 and parameters: {'max_depth': 3, 'learning_rate': 0.019331387429351553, 'n_estimators': 151, 'subsample': 0.6177563274475772, 'colsample_bytree': 0.7336407499716568, 'reg_alpha': 0.005652853808727727, 'reg_lambda': 0.0003463019827708215}. Best is trial 23 with value: -0.6141001922627776.\n",
      "[I 2025-08-09 13:13:47,650] Trial 34 finished with value: -0.609600342157791 and parameters: {'max_depth': 4, 'learning_rate': 0.019157781799590816, 'n_estimators': 166, 'subsample': 0.6096630653324043, 'colsample_bytree': 0.7315537010954714, 'reg_alpha': 0.005583661748681753, 'reg_lambda': 0.0011503418595353724}. Best is trial 23 with value: -0.6141001922627776.\n",
      "[I 2025-08-09 13:13:51,931] Trial 35 finished with value: -0.6146001822737763 and parameters: {'max_depth': 3, 'learning_rate': 0.010846601686072314, 'n_estimators': 137, 'subsample': 0.5311528468970941, 'colsample_bytree': 0.8216329008009671, 'reg_alpha': 0.005220211892116355, 'reg_lambda': 0.0005393040717430681}. Best is trial 35 with value: -0.6146001822737763.\n",
      "[I 2025-08-09 13:13:57,604] Trial 36 finished with value: -0.5992005319308176 and parameters: {'max_depth': 7, 'learning_rate': 0.01012082254469441, 'n_estimators': 280, 'subsample': 0.5402238839803591, 'colsample_bytree': 0.8399805942421555, 'reg_alpha': 0.0013264459336072639, 'reg_lambda': 0.0005363432039650834}. Best is trial 35 with value: -0.6146001822737763.\n",
      "[I 2025-08-09 13:14:02,132] Trial 37 finished with value: -0.6058006820478088 and parameters: {'max_depth': 5, 'learning_rate': 0.02550084208671026, 'n_estimators': 105, 'subsample': 0.5664623919592668, 'colsample_bytree': 0.8885008205386707, 'reg_alpha': 0.003850824315628751, 'reg_lambda': 0.0007602674783693453}. Best is trial 35 with value: -0.6146001822737763.\n",
      "[I 2025-08-09 13:14:06,977] Trial 38 finished with value: -0.6050007520248126 and parameters: {'max_depth': 6, 'learning_rate': 0.011965307551582928, 'n_estimators': 181, 'subsample': 0.5200798844476152, 'colsample_bytree': 0.7800718788143929, 'reg_alpha': 0.007137419091707504, 'reg_lambda': 0.00045996663017279813}. Best is trial 35 with value: -0.6146001822737763.\n",
      "[I 2025-08-09 13:14:11,502] Trial 39 finished with value: -0.6085005921108008 and parameters: {'max_depth': 3, 'learning_rate': 0.016677263152084777, 'n_estimators': 312, 'subsample': 0.5870541953253298, 'colsample_bytree': 0.6546989536866863, 'reg_alpha': 0.0016288945193351039, 'reg_lambda': 0.001023359265250901}. Best is trial 35 with value: -0.6146001822737763.\n",
      "[I 2025-08-09 13:14:16,070] Trial 40 finished with value: -0.6039004020378043 and parameters: {'max_depth': 4, 'learning_rate': 0.02156681952677218, 'n_estimators': 199, 'subsample': 0.9779132351150585, 'colsample_bytree': 0.8214388630840372, 'reg_alpha': 0.0030638770518957013, 'reg_lambda': 0.0015912370315023126}. Best is trial 35 with value: -0.6146001822737763.\n",
      "[I 2025-08-09 13:14:20,429] Trial 41 finished with value: -0.6139001722607773 and parameters: {'max_depth': 3, 'learning_rate': 0.011942380647589252, 'n_estimators': 143, 'subsample': 0.6202923866089498, 'colsample_bytree': 0.7275231692939849, 'reg_alpha': 0.005913706671808768, 'reg_lambda': 0.00033558716767562147}. Best is trial 35 with value: -0.6146001822737763.\n",
      "[I 2025-08-09 13:14:24,697] Trial 42 finished with value: -0.612800122243778 and parameters: {'max_depth': 3, 'learning_rate': 0.011937165134192919, 'n_estimators': 126, 'subsample': 0.6754010259674318, 'colsample_bytree': 0.7802242286346345, 'reg_alpha': 0.005345818965576449, 'reg_lambda': 0.00038213015757525374}. Best is trial 35 with value: -0.6146001822737763.\n",
      "[I 2025-08-09 13:14:28,930] Trial 43 finished with value: -0.6125000922407777 and parameters: {'max_depth': 3, 'learning_rate': 0.0111095188521144, 'n_estimators': 134, 'subsample': 0.6797985097062433, 'colsample_bytree': 0.7805177436736318, 'reg_alpha': 0.005866422551385253, 'reg_lambda': 0.0001570960728792109}. Best is trial 35 with value: -0.6146001822737763.\n",
      "[I 2025-08-09 13:14:35,131] Trial 44 finished with value: -0.5930010817518464 and parameters: {'max_depth': 5, 'learning_rate': 0.013793697966354804, 'n_estimators': 788, 'subsample': 0.6721790269949157, 'colsample_bytree': 0.6706598761048824, 'reg_alpha': 0.009257055401156431, 'reg_lambda': 0.0006411049175056348}. Best is trial 35 with value: -0.6146001822737763.\n",
      "[I 2025-08-09 13:14:39,437] Trial 45 finished with value: -0.6122000922347784 and parameters: {'max_depth': 3, 'learning_rate': 0.011390749157944526, 'n_estimators': 146, 'subsample': 0.6322765792704067, 'colsample_bytree': 0.8912170659034668, 'reg_alpha': 0.0029234214587402626, 'reg_lambda': 0.00028854402803695417}. Best is trial 35 with value: -0.6146001822737763.\n",
      "[I 2025-08-09 13:14:43,708] Trial 46 finished with value: -0.612699782275768 and parameters: {'max_depth': 4, 'learning_rate': 0.010155750323285086, 'n_estimators': 103, 'subsample': 0.7174216104509283, 'colsample_bytree': 0.83223094611534, 'reg_alpha': 0.004910702181004484, 'reg_lambda': 8.999934958864256e-05}. Best is trial 35 with value: -0.6146001822737763.\n",
      "[I 2025-08-09 13:14:49,345] Trial 47 finished with value: -0.5871999317508235 and parameters: {'max_depth': 9, 'learning_rate': 0.015720834667573652, 'n_estimators': 197, 'subsample': 0.6059113796662683, 'colsample_bytree': 0.5582087438720504, 'reg_alpha': 0.007249259790485756, 'reg_lambda': 0.001483802924358198}. Best is trial 35 with value: -0.6146001822737763.\n",
      "[I 2025-08-09 13:14:54,385] Trial 48 finished with value: -0.5938012817478509 and parameters: {'max_depth': 5, 'learning_rate': 0.03590698666390892, 'n_estimators': 270, 'subsample': 0.6658209918940279, 'colsample_bytree': 0.7947662697353972, 'reg_alpha': 0.006911651969998466, 'reg_lambda': 0.0024745356107896592}. Best is trial 35 with value: -0.6146001822737763.\n",
      "[I 2025-08-09 13:14:59,499] Trial 49 finished with value: -0.5986014618258467 and parameters: {'max_depth': 3, 'learning_rate': 0.020768693516284263, 'n_estimators': 648, 'subsample': 0.590298363753096, 'colsample_bytree': 0.7150642578042063, 'reg_alpha': 0.0014687820567080743, 'reg_lambda': 0.0004770119696684001}. Best is trial 35 with value: -0.6146001822737763.\n",
      "[I 2025-08-09 13:15:04,779] Trial 50 finished with value: -0.6013010419218286 and parameters: {'max_depth': 4, 'learning_rate': 0.01736940564111876, 'n_estimators': 408, 'subsample': 0.6994234490634892, 'colsample_bytree': 0.8767452237492588, 'reg_alpha': 0.003118777201819048, 'reg_lambda': 0.0007589222102986584}. Best is trial 35 with value: -0.6146001822737763.\n",
      "[I 2025-08-09 13:15:09,194] Trial 51 finished with value: -0.6146000922827736 and parameters: {'max_depth': 3, 'learning_rate': 0.012857544180610974, 'n_estimators': 138, 'subsample': 0.5361867462953743, 'colsample_bytree': 0.7174244864147616, 'reg_alpha': 0.004411659048010237, 'reg_lambda': 0.0003525482580382436}. Best is trial 35 with value: -0.6146001822737763.\n",
      "[I 2025-08-09 13:15:13,465] Trial 52 finished with value: -0.6149002122767766 and parameters: {'max_depth': 3, 'learning_rate': 0.013094505708400025, 'n_estimators': 136, 'subsample': 0.529180847273759, 'colsample_bytree': 0.7205016358467632, 'reg_alpha': 0.004883554578773145, 'reg_lambda': 0.00029445589058218916}. Best is trial 52 with value: -0.6149002122767766.\n",
      "[I 2025-08-09 13:15:17,849] Trial 53 finished with value: -0.614600272264779 and parameters: {'max_depth': 3, 'learning_rate': 0.013603564486842752, 'n_estimators': 205, 'subsample': 0.5263745060780871, 'colsample_bytree': 0.7188314802167404, 'reg_alpha': 0.004261400373836346, 'reg_lambda': 0.0002515366957448564}. Best is trial 52 with value: -0.6149002122767766.\n",
      "[I 2025-08-09 13:15:22,395] Trial 54 finished with value: -0.614800052290772 and parameters: {'max_depth': 3, 'learning_rate': 0.01463506367152224, 'n_estimators': 222, 'subsample': 0.5302947436975878, 'colsample_bytree': 0.6773656082177695, 'reg_alpha': 0.007556019492384589, 'reg_lambda': 0.0002668362501129399}. Best is trial 52 with value: -0.6149002122767766.\n",
      "[I 2025-08-09 13:15:26,897] Trial 55 finished with value: -0.611000032216779 and parameters: {'max_depth': 3, 'learning_rate': 0.015464039996975657, 'n_estimators': 221, 'subsample': 0.5255622982378685, 'colsample_bytree': 0.6227345923713338, 'reg_alpha': 0.008329707276606034, 'reg_lambda': 0.00024823162491911127}. Best is trial 52 with value: -0.6149002122767766.\n",
      "[I 2025-08-09 13:15:31,328] Trial 56 finished with value: -0.6140002122587783 and parameters: {'max_depth': 3, 'learning_rate': 0.013985466001748452, 'n_estimators': 257, 'subsample': 0.5309764147882107, 'colsample_bytree': 0.6710426899475891, 'reg_alpha': 0.0002953303276719878, 'reg_lambda': 0.007241820884513804}. Best is trial 52 with value: -0.6149002122767766.\n",
      "[I 2025-08-09 13:15:35,909] Trial 57 finished with value: -0.5870005716828431 and parameters: {'max_depth': 4, 'learning_rate': 0.05772979466448938, 'n_estimators': 288, 'subsample': 0.5002894304481661, 'colsample_bytree': 0.6733888491017483, 'reg_alpha': 0.009736151734056028, 'reg_lambda': 1.4587812117581118e-05}. Best is trial 52 with value: -0.6149002122767766.\n",
      "[I 2025-08-09 13:15:40,256] Trial 58 finished with value: -0.6155002422857763 and parameters: {'max_depth': 3, 'learning_rate': 0.01470257186300073, 'n_estimators': 207, 'subsample': 0.5598621293471223, 'colsample_bytree': 0.6221568338688079, 'reg_alpha': 0.0025826378836634077, 'reg_lambda': 0.00010274309805507352}. Best is trial 58 with value: -0.6155002422857763.\n",
      "[I 2025-08-09 13:15:45,374] Trial 59 finished with value: -0.5554998811218854 and parameters: {'max_depth': 8, 'learning_rate': 0.09653011297887466, 'n_estimators': 218, 'subsample': 0.5570606916723669, 'colsample_bytree': 0.6124326748866203, 'reg_alpha': 0.0019226309730154204, 'reg_lambda': 0.00012465744241935373}. Best is trial 58 with value: -0.6155002422857763.\n",
      "[I 2025-08-09 13:15:50,110] Trial 60 finished with value: -0.607400692078806 and parameters: {'max_depth': 3, 'learning_rate': 0.017346749443581493, 'n_estimators': 497, 'subsample': 0.5373844795377702, 'colsample_bytree': 0.5921404161841326, 'reg_alpha': 0.0010460524559747393, 'reg_lambda': 5.366203894507625e-05}. Best is trial 58 with value: -0.6155002422857763.\n",
      "[I 2025-08-09 13:15:54,425] Trial 61 finished with value: -0.6123000122447757 and parameters: {'max_depth': 3, 'learning_rate': 0.014189434935556432, 'n_estimators': 191, 'subsample': 0.5150809255074391, 'colsample_bytree': 0.6884497968421726, 'reg_alpha': 0.0027291328942080123, 'reg_lambda': 0.000220303229039921}. Best is trial 58 with value: -0.6155002422857763.\n",
      "[I 2025-08-09 13:15:58,843] Trial 62 finished with value: -0.6143999822897707 and parameters: {'max_depth': 3, 'learning_rate': 0.013139357016272581, 'n_estimators': 254, 'subsample': 0.5594773342345961, 'colsample_bytree': 0.7151245553544443, 'reg_alpha': 0.003646881340254413, 'reg_lambda': 9.683447230167111e-05}. Best is trial 58 with value: -0.6155002422857763.\n",
      "[I 2025-08-09 13:16:03,269] Trial 63 finished with value: -0.6157000223117692 and parameters: {'max_depth': 3, 'learning_rate': 0.010807445921018012, 'n_estimators': 244, 'subsample': 0.5580146788967004, 'colsample_bytree': 0.6442873615931174, 'reg_alpha': 0.0035464727166400326, 'reg_lambda': 8.764408266452035e-05}. Best is trial 63 with value: -0.6157000223117692.\n",
      "[I 2025-08-09 13:16:07,636] Trial 64 finished with value: -0.6147002522687782 and parameters: {'max_depth': 3, 'learning_rate': 0.01086114381401531, 'n_estimators': 229, 'subsample': 0.5817840972950115, 'colsample_bytree': 0.6437942814716746, 'reg_alpha': 0.00736977254488468, 'reg_lambda': 0.00016540958200020076}. Best is trial 63 with value: -0.6157000223117692.\n",
      "[I 2025-08-09 13:16:12,166] Trial 65 finished with value: -0.613600142257777 and parameters: {'max_depth': 3, 'learning_rate': 0.01105047066675282, 'n_estimators': 337, 'subsample': 0.5818263127093817, 'colsample_bytree': 0.6421242000062788, 'reg_alpha': 0.007274393331563746, 'reg_lambda': 0.000172312317758689}. Best is trial 63 with value: -0.6157000223117692.\n",
      "[I 2025-08-09 13:16:16,578] Trial 66 finished with value: -0.61210014222778 and parameters: {'max_depth': 4, 'learning_rate': 0.010099595864605375, 'n_estimators': 224, 'subsample': 0.5066845193296331, 'colsample_bytree': 0.5659313499444018, 'reg_alpha': 0.0024275684219860097, 'reg_lambda': 6.217706420349759e-05}. Best is trial 63 with value: -0.6157000223117692.\n",
      "[I 2025-08-09 13:16:21,043] Trial 67 finished with value: -0.6127006221917933 and parameters: {'max_depth': 3, 'learning_rate': 0.015227815995917654, 'n_estimators': 299, 'subsample': 0.6019193634877157, 'colsample_bytree': 0.6054479300463075, 'reg_alpha': 0.00021748484643126226, 'reg_lambda': 8.801101668048803e-05}. Best is trial 63 with value: -0.6157000223117692.\n",
      "[I 2025-08-09 13:16:25,674] Trial 68 finished with value: -0.6129000722507764 and parameters: {'max_depth': 3, 'learning_rate': 0.011019691847115822, 'n_estimators': 396, 'subsample': 0.571808488448277, 'colsample_bytree': 0.6490332064347003, 'reg_alpha': 0.006620716807065866, 'reg_lambda': 0.0001282131154835163}. Best is trial 63 with value: -0.6157000223117692.\n",
      "[I 2025-08-09 13:16:30,109] Trial 69 finished with value: -0.6114001622117821 and parameters: {'max_depth': 3, 'learning_rate': 0.02422548813254947, 'n_estimators': 251, 'subsample': 0.5504443563656486, 'colsample_bytree': 0.6310148801371117, 'reg_alpha': 0.003465119730100061, 'reg_lambda': 0.00019152088918448124}. Best is trial 63 with value: -0.6157000223117692.\n",
      "[I 2025-08-09 13:16:34,516] Trial 70 finished with value: -0.6102005521487962 and parameters: {'max_depth': 4, 'learning_rate': 0.01474836678491882, 'n_estimators': 203, 'subsample': 0.5235679079877537, 'colsample_bytree': 0.5396684027338836, 'reg_alpha': 0.004796975101189748, 'reg_lambda': 0.0002674953576720963}. Best is trial 63 with value: -0.6157000223117692.\n",
      "[I 2025-08-09 13:16:38,811] Trial 71 finished with value: -0.6147001022837737 and parameters: {'max_depth': 3, 'learning_rate': 0.012912719599948698, 'n_estimators': 162, 'subsample': 0.5404683062805921, 'colsample_bytree': 0.6855763844182827, 'reg_alpha': 0.004425843511923067, 'reg_lambda': 0.0004454855680544989}. Best is trial 63 with value: -0.6157000223117692.\n",
      "[I 2025-08-09 13:16:43,061] Trial 72 finished with value: -0.6160001123087714 and parameters: {'max_depth': 3, 'learning_rate': 0.010912983286302918, 'n_estimators': 165, 'subsample': 0.54669028719474, 'colsample_bytree': 0.6826073492652057, 'reg_alpha': 0.007643729208607842, 'reg_lambda': 0.0006027514471956597}. Best is trial 72 with value: -0.6160001123087714.\n",
      "[I 2025-08-09 13:16:47,548] Trial 73 finished with value: -0.6137002422497799 and parameters: {'max_depth': 3, 'learning_rate': 0.020123062970365563, 'n_estimators': 237, 'subsample': 0.5478844349607797, 'colsample_bytree': 0.6846669982460912, 'reg_alpha': 0.0077087961855165955, 'reg_lambda': 0.0004619886131252662}. Best is trial 72 with value: -0.6160001123087714.\n",
      "[I 2025-08-09 13:16:51,973] Trial 74 finished with value: -0.6156001622957737 and parameters: {'max_depth': 3, 'learning_rate': 0.017964819337385356, 'n_estimators': 163, 'subsample': 0.5647115879010557, 'colsample_bytree': 0.663173924027649, 'reg_alpha': 0.0003999070564626166, 'reg_lambda': 0.0001502706754167252}. Best is trial 72 with value: -0.6160001123087714.\n",
      "[I 2025-08-09 13:16:57,077] Trial 75 finished with value: -0.5971005918828236 and parameters: {'max_depth': 8, 'learning_rate': 0.017099106438882128, 'n_estimators': 165, 'subsample': 0.592469743278963, 'colsample_bytree': 0.6624579207745869, 'reg_alpha': 1.0323066521695247e-05, 'reg_lambda': 4.293916670284928e-05}. Best is trial 72 with value: -0.6160001123087714.\n",
      "[I 2025-08-09 13:17:01,530] Trial 76 finished with value: -0.6138004322327854 and parameters: {'max_depth': 4, 'learning_rate': 0.0126782927221849, 'n_estimators': 174, 'subsample': 0.5694790936820323, 'colsample_bytree': 0.7009362623935124, 'reg_alpha': 0.00010311905727991672, 'reg_lambda': 0.00014401522396482934}. Best is trial 72 with value: -0.6160001123087714.\n",
      "[I 2025-08-09 13:17:05,777] Trial 77 finished with value: -0.6129004022177863 and parameters: {'max_depth': 3, 'learning_rate': 0.01831499327379529, 'n_estimators': 118, 'subsample': 0.5578861478174911, 'colsample_bytree': 0.6244193273573471, 'reg_alpha': 0.008455275397109364, 'reg_lambda': 0.00010863963426366493}. Best is trial 72 with value: -0.6160001123087714.\n",
      "[I 2025-08-09 13:17:10,341] Trial 78 finished with value: -0.6133002922367822 and parameters: {'max_depth': 3, 'learning_rate': 0.016004764465560362, 'n_estimators': 279, 'subsample': 0.5924321430645254, 'colsample_bytree': 0.6012567776708206, 'reg_alpha': 0.0003713346470503939, 'reg_lambda': 8.038018948444155e-05}. Best is trial 72 with value: -0.6160001123087714.\n",
      "[I 2025-08-09 13:17:14,820] Trial 79 finished with value: -0.6152002722767778 and parameters: {'max_depth': 4, 'learning_rate': 0.010721344124879946, 'n_estimators': 164, 'subsample': 0.5097796755042738, 'colsample_bytree': 0.6803235911800086, 'reg_alpha': 0.0005448235831095379, 'reg_lambda': 6.924638745571386e-05}. Best is trial 72 with value: -0.6160001123087714.\n",
      "[I 2025-08-09 13:17:19,318] Trial 80 finished with value: -0.6162004022837797 and parameters: {'max_depth': 4, 'learning_rate': 0.010994858378421702, 'n_estimators': 119, 'subsample': 0.5100516439916852, 'colsample_bytree': 0.6402447007259816, 'reg_alpha': 0.0005536809836931599, 'reg_lambda': 5.216261866062003e-05}. Best is trial 80 with value: -0.6162004022837797.\n",
      "[I 2025-08-09 13:17:23,648] Trial 81 finished with value: -0.6174002823197736 and parameters: {'max_depth': 4, 'learning_rate': 0.01080801570823662, 'n_estimators': 121, 'subsample': 0.5114713410385536, 'colsample_bytree': 0.641592115257034, 'reg_alpha': 0.0005360046089525323, 'reg_lambda': 6.490970471805012e-05}. Best is trial 81 with value: -0.6174002823197736.\n",
      "[I 2025-08-09 13:17:27,986] Trial 82 finished with value: -0.6137002122527789 and parameters: {'max_depth': 5, 'learning_rate': 0.011531223789264432, 'n_estimators': 102, 'subsample': 0.509496865372973, 'colsample_bytree': 0.6656940113809692, 'reg_alpha': 0.0005445255633506047, 'reg_lambda': 4.53088375453448e-05}. Best is trial 81 with value: -0.6174002823197736.\n",
      "[I 2025-08-09 13:17:32,296] Trial 83 finished with value: -0.6134001522527778 and parameters: {'max_depth': 4, 'learning_rate': 0.010031121354628589, 'n_estimators': 122, 'subsample': 0.5140324751811222, 'colsample_bytree': 0.6164036319260403, 'reg_alpha': 0.00039363894519057476, 'reg_lambda': 6.808101752577293e-05}. Best is trial 81 with value: -0.6174002823197736.\n",
      "[I 2025-08-09 13:17:36,625] Trial 84 finished with value: -0.6152005122527849 and parameters: {'max_depth': 4, 'learning_rate': 0.011893116778375597, 'n_estimators': 150, 'subsample': 0.5000590034499622, 'colsample_bytree': 0.6355632488876367, 'reg_alpha': 0.0005939450377248662, 'reg_lambda': 5.3118052406907334e-05}. Best is trial 81 with value: -0.6174002823197736.\n",
      "[I 2025-08-09 13:17:41,085] Trial 85 finished with value: -0.6107003321807886 and parameters: {'max_depth': 5, 'learning_rate': 0.011922091852145014, 'n_estimators': 146, 'subsample': 0.5042886129391562, 'colsample_bytree': 0.5780267345095687, 'reg_alpha': 0.0006796274070202806, 'reg_lambda': 3.0712413013366746e-05}. Best is trial 81 with value: -0.6174002823197736.\n",
      "[I 2025-08-09 13:17:45,598] Trial 86 finished with value: -0.6143004222437841 and parameters: {'max_depth': 4, 'learning_rate': 0.010663503838846749, 'n_estimators': 188, 'subsample': 0.5170686158240126, 'colsample_bytree': 0.6562879683669587, 'reg_alpha': 0.0004830256625632837, 'reg_lambda': 5.5378657913099885e-05}. Best is trial 81 with value: -0.6174002823197736.\n",
      "[I 2025-08-09 13:17:49,901] Trial 87 finished with value: -0.6151002922727786 and parameters: {'max_depth': 4, 'learning_rate': 0.012140491073937856, 'n_estimators': 120, 'subsample': 0.7870412886337308, 'colsample_bytree': 0.6327171506477413, 'reg_alpha': 0.00017944512498508096, 'reg_lambda': 3.639753565451869e-05}. Best is trial 81 with value: -0.6174002823197736.\n",
      "[I 2025-08-09 13:17:54,161] Trial 88 finished with value: -0.6143002422617786 and parameters: {'max_depth': 4, 'learning_rate': 0.011617701409479136, 'n_estimators': 114, 'subsample': 0.8399470970393534, 'colsample_bytree': 0.6388346074108231, 'reg_alpha': 0.00022908292445435232, 'reg_lambda': 3.642497065913993e-05}. Best is trial 81 with value: -0.6174002823197736.\n",
      "[I 2025-08-09 13:17:58,664] Trial 89 finished with value: -0.6122999822477749 and parameters: {'max_depth': 5, 'learning_rate': 0.01063798167812789, 'n_estimators': 178, 'subsample': 0.7895028046901624, 'colsample_bytree': 0.5890316915373306, 'reg_alpha': 0.00014405272898331993, 'reg_lambda': 4.700137881707918e-05}. Best is trial 81 with value: -0.6174002823197736.\n",
      "[I 2025-08-09 13:18:03,057] Trial 90 finished with value: -0.6153001922867752 and parameters: {'max_depth': 4, 'learning_rate': 0.012308082953061532, 'n_estimators': 158, 'subsample': 0.797115858212384, 'colsample_bytree': 0.6310418760417517, 'reg_alpha': 0.0007085569470198246, 'reg_lambda': 6.477046802765158e-05}. Best is trial 81 with value: -0.6174002823197736.\n",
      "[I 2025-08-09 13:18:07,446] Trial 91 finished with value: -0.6137000322707736 and parameters: {'max_depth': 4, 'learning_rate': 0.012123517814545024, 'n_estimators': 166, 'subsample': 0.7858929696913468, 'colsample_bytree': 0.6300850345161138, 'reg_alpha': 0.0009571232625941919, 'reg_lambda': 6.125217140066016e-05}. Best is trial 81 with value: -0.6174002823197736.\n",
      "[I 2025-08-09 13:18:11,777] Trial 92 finished with value: -0.6119999822417755 and parameters: {'max_depth': 4, 'learning_rate': 0.014203002587394549, 'n_estimators': 150, 'subsample': 0.8252222258909521, 'colsample_bytree': 0.6108123633104644, 'reg_alpha': 0.0006585284801730913, 'reg_lambda': 7.499485002039964e-05}. Best is trial 81 with value: -0.6174002823197736.\n",
      "[I 2025-08-09 13:18:16,039] Trial 93 finished with value: -0.6121000222397764 and parameters: {'max_depth': 4, 'learning_rate': 0.011291176781455744, 'n_estimators': 102, 'subsample': 0.7359394741946758, 'colsample_bytree': 0.9997319736690486, 'reg_alpha': 0.0003065205293367721, 'reg_lambda': 0.00010178333972120361}. Best is trial 81 with value: -0.6174002823197736.\n",
      "[I 2025-08-09 13:18:20,447] Trial 94 finished with value: -0.6141002222597786 and parameters: {'max_depth': 4, 'learning_rate': 0.01238466023377757, 'n_estimators': 122, 'subsample': 0.8877610820595997, 'colsample_bytree': 0.6486468409021381, 'reg_alpha': 0.00047277891742377625, 'reg_lambda': 3.705705602823963e-05}. Best is trial 81 with value: -0.6174002823197736.\n",
      "[I 2025-08-09 13:18:25,008] Trial 95 finished with value: -0.6084999621737819 and parameters: {'max_depth': 5, 'learning_rate': 0.010090001878212887, 'n_estimators': 193, 'subsample': 0.8002184709213475, 'colsample_bytree': 0.599630810254058, 'reg_alpha': 0.0008161791761043874, 'reg_lambda': 1.7554237717772196e-05}. Best is trial 81 with value: -0.6174002823197736.\n",
      "[I 2025-08-09 13:18:30,494] Trial 96 finished with value: -0.5984011418538374 and parameters: {'max_depth': 4, 'learning_rate': 0.013428359922079325, 'n_estimators': 776, 'subsample': 0.780545219461724, 'colsample_bytree': 0.5788083376325337, 'reg_alpha': 0.0004046886410568413, 'reg_lambda': 2.9617040307328098e-05}. Best is trial 81 with value: -0.6174002823197736.\n",
      "[I 2025-08-09 13:18:34,777] Trial 97 finished with value: -0.6138001622597772 and parameters: {'max_depth': 4, 'learning_rate': 0.015287895762096852, 'n_estimators': 150, 'subsample': 0.5475022362572736, 'colsample_bytree': 0.699120427257356, 'reg_alpha': 0.0001737467958386563, 'reg_lambda': 4.985679639838765e-05}. Best is trial 81 with value: -0.6174002823197736.\n",
      "[I 2025-08-09 13:18:39,269] Trial 98 finished with value: -0.5940999918828115 and parameters: {'max_depth': 6, 'learning_rate': 0.049102754093314986, 'n_estimators': 131, 'subsample': 0.8313723396184693, 'colsample_bytree': 0.6603656736401696, 'reg_alpha': 0.0002542689871767116, 'reg_lambda': 8.093854996399033e-05}. Best is trial 81 with value: -0.6174002823197736.\n",
      "[I 2025-08-09 13:18:45,069] Trial 99 finished with value: -0.595900891828835 and parameters: {'max_depth': 4, 'learning_rate': 0.01132142292833849, 'n_estimators': 967, 'subsample': 0.7673726276107716, 'colsample_bytree': 0.6212269500578464, 'reg_alpha': 0.0012927223943027194, 'reg_lambda': 2.465927398490637e-05}. Best is trial 81 with value: -0.6174002823197736.\n"
     ]
    },
    {
     "name": "stdout",
     "output_type": "stream",
     "text": [
      "Best Parameters: {'max_depth': 4, 'learning_rate': 0.01080801570823662, 'n_estimators': 121, 'subsample': 0.5114713410385536, 'colsample_bytree': 0.641592115257034, 'reg_alpha': 0.0005360046089525323, 'reg_lambda': 6.490970471805012e-05}\n",
      "Final model test accuracy: 0.6055\n",
      "              precision    recall  f1-score   support\n",
      "\n",
      "           0       0.62      0.56      0.59      1002\n",
      "           1       0.60      0.65      0.62       998\n",
      "\n",
      "    accuracy                           0.61      2000\n",
      "   macro avg       0.61      0.61      0.60      2000\n",
      "weighted avg       0.61      0.61      0.60      2000\n",
      "\n",
      "model score: 0.613\n",
      "              precision    recall  f1-score   support\n",
      "\n",
      "           0       0.62      0.59      0.61      1002\n",
      "           1       0.61      0.63      0.62       998\n",
      "\n",
      "    accuracy                           0.61      2000\n",
      "   macro avg       0.61      0.61      0.61      2000\n",
      "weighted avg       0.61      0.61      0.61      2000\n",
      "\n"
     ]
    }
   ],
   "source": [
    "from sklearn.compose import ColumnTransformer\n",
    "from sklearn.pipeline import Pipeline\n",
    "from sklearn.preprocessing import RobustScaler\n",
    "from category_encoders import CatBoostEncoder\n",
    "from sklearn.model_selection import train_test_split\n",
    "from sklearn.linear_model import LogisticRegression\n",
    "from sklearn.ensemble import RandomForestClassifier\n",
    "from sklearn.neighbors import KNeighborsClassifier\n",
    "from sklearn.svm import SVC\n",
    "from sklearn.tree import DecisionTreeClassifier\n",
    "from xgboost import XGBClassifier\n",
    "from sklearn.impute import SimpleImputer\n",
    "from sklearn.feature_selection import SelectPercentile\n",
    "from sklearn.feature_selection import chi2\n",
    "from sklearn.metrics import classification_report\n",
    "from sklearn.decomposition import PCA\n",
    "from sklearn.preprocessing import PowerTransformer\n",
    "import optuna\n",
    "from sklearn.model_selection import cross_val_score\n",
    "\n",
    "import warnings\n",
    "warnings.simplefilter(\"ignore\", category=FutureWarning)\n",
    "warnings.simplefilter(\"ignore\", category=UserWarning)\n",
    "#train test split\n",
    "X_train, X_test, y_train, y_test = train_test_split(X, y, test_size=0.2, random_state=0)\n",
    "\n",
    "numeric_features=X.columns[X.dtypes=='float64'].append(X.columns[X.dtypes=='int64'])\n",
    "\n",
    "numeric_transformer = Pipeline(\n",
    "    steps=[\n",
    "        (\"imputer\", SimpleImputer(strategy=\"median\")),\n",
    "        (\"scaler\", RobustScaler()),\n",
    "        (\"yeo-johnson_transformer\", PowerTransformer(method='yeo-johnson')),\n",
    "        (\"pca\", PCA(n_components=2, random_state=42)),\n",
    "    ]\n",
    ")\n",
    "categorical_features=X.columns[X.dtypes=='object']\n",
    "\n",
    "categorical_transformer = Pipeline(\n",
    "    steps=[\n",
    "        (\"imputer\", SimpleImputer(strategy='most_frequent')),\n",
    "        (\"encoder\", CatBoostEncoder()),\n",
    "        (\"selector\", SelectPercentile(chi2, percentile=50)),\n",
    "    ]\n",
    ")\n",
    "preprocessor = ColumnTransformer(\n",
    "    transformers=[\n",
    "        (\"num\", numeric_transformer, numeric_features),\n",
    "        (\"cat\", categorical_transformer, categorical_features),\n",
    "    ]\n",
    ")\n",
    "\n",
    "    \n",
    "clf = Pipeline(\n",
    "    steps=[\n",
    "        (\"preprocessor\", preprocessor),\n",
    "        (\"classifier\", LogisticRegression(penalty=\"l1\",C=0.5,solver=\"liblinear\",max_iter=1000,random_state=42))\n",
    "    ]\n",
    ")\n",
    "\n",
    "clf2 = Pipeline(\n",
    "    steps=[\n",
    "        (\"preprocessor\", preprocessor),\n",
    "        (\"classifier\", RandomForestClassifier(random_state=42))\n",
    "    ]\n",
    ")\n",
    "clf3 = Pipeline(\n",
    "    steps=[\n",
    "        (\"preprocessor\", preprocessor),\n",
    "        (\"classifier\", KNeighborsClassifier(n_neighbors=5))\n",
    "    ]\n",
    ")\n",
    "clf4 = Pipeline(\n",
    "    steps=[\n",
    "        (\"preprocessor\", preprocessor),\n",
    "        (\"classifier\", SVC(kernel='rbf', probability=True, random_state=42))\n",
    "    ]\n",
    ")\n",
    "clf5 = Pipeline(\n",
    "    steps=[\n",
    "        (\"preprocessor\", preprocessor),\n",
    "        (\"classifier\", DecisionTreeClassifier(random_state=42))\n",
    "    ]\n",
    ")\n",
    "def objective(trial):\n",
    "    param = {\n",
    "        'max_depth': trial.suggest_int('max_depth', 3, 9),\n",
    "        'learning_rate': trial.suggest_loguniform('learning_rate', 0.01, 0.2),\n",
    "        'n_estimators': trial.suggest_int('n_estimators', 100, 1000),\n",
    "        'subsample': trial.suggest_uniform('subsample', 0.5, 1.0),\n",
    "        'colsample_bytree': trial.suggest_uniform('colsample_bytree', 0.5, 1.0),\n",
    "        'reg_alpha': trial.suggest_loguniform('reg_alpha', 1e-5, 1e-2),\n",
    "        'reg_lambda': trial.suggest_loguniform('reg_lambda', 1e-5, 1e-2),\n",
    "        'use_label_encoder': False,\n",
    "        'eval_metric': 'logloss',\n",
    "        'random_state': 42\n",
    "    }\n",
    "    clf6 = Pipeline(\n",
    "        steps=[\n",
    "            (\"preprocessor\", preprocessor),\n",
    "            (\"classifier\", XGBClassifier(**param))\n",
    "        ]\n",
    "    )\n",
    "    scores = cross_val_score(clf6, X, y, cv=3, scoring='accuracy')\n",
    "    return -scores.mean()\n",
    "\n",
    "study = optuna.create_study(direction='minimize')\n",
    "study.optimize(objective, n_trials=100)\n",
    "print(\"Best Parameters:\", study.best_params)\n",
    "\n",
    "# After tuning, train final model with best params\n",
    "best_params = study.best_params\n",
    "best_params.update({'use_label_encoder': False, 'eval_metric': 'logloss', 'random_state': 42})\n",
    "\n",
    "final_pipeline = Pipeline([\n",
    "    (\"preprocessor\", preprocessor),\n",
    "    (\"classifier\", XGBClassifier(**best_params))\n",
    "])\n",
    "\n",
    "final_pipeline.fit(X_train, y_train)\n",
    "print(\"Final model test accuracy:\", final_pipeline.score(X_test, y_test))\n",
    "\n",
    "y_pred = final_pipeline.predict(X_test)\n",
    "print(classification_report(y_test, y_pred))\n",
    "\n",
    "clf.fit(X_train, y_train)\n",
    "print(\"model score: %.3f\" % clf.score(X_test, y_test))\n",
    "y_pred = clf.predict(X_test)\n",
    "print(classification_report(y_test, y_pred))"
   ]
  },
  {
   "cell_type": "code",
   "execution_count": 31,
   "id": "08183da7-b2d8-43c2-a4bd-2e871b01687b",
   "metadata": {
    "execution": {
     "iopub.execute_input": "2025-08-09T13:20:29.624541Z",
     "iopub.status.busy": "2025-08-09T13:20:29.624148Z",
     "iopub.status.idle": "2025-08-09T13:20:33.671952Z",
     "shell.execute_reply": "2025-08-09T13:20:33.671101Z",
     "shell.execute_reply.started": "2025-08-09T13:20:29.624518Z"
    }
   },
   "outputs": [
    {
     "name": "stdout",
     "output_type": "stream",
     "text": [
      "model score: 0.603\n",
      "              precision    recall  f1-score   support\n",
      "\n",
      "           0       0.61      0.58      0.59      1002\n",
      "           1       0.60      0.63      0.61       998\n",
      "\n",
      "    accuracy                           0.60      2000\n",
      "   macro avg       0.60      0.60      0.60      2000\n",
      "weighted avg       0.60      0.60      0.60      2000\n",
      "\n"
     ]
    }
   ],
   "source": [
    "clf2.fit(X_train, y_train)\n",
    "print(\"model score: %.3f\" % clf2.score(X_test, y_test))\n",
    "y_pred = clf2.predict(X_test)\n",
    "print(classification_report(y_test, y_pred))"
   ]
  },
  {
   "cell_type": "code",
   "execution_count": 32,
   "id": "e9621d87-9774-417c-9861-da9e33235e88",
   "metadata": {
    "execution": {
     "iopub.execute_input": "2025-08-09T13:20:33.673967Z",
     "iopub.status.busy": "2025-08-09T13:20:33.673212Z",
     "iopub.status.idle": "2025-08-09T13:20:35.324645Z",
     "shell.execute_reply": "2025-08-09T13:20:35.323874Z",
     "shell.execute_reply.started": "2025-08-09T13:20:33.673934Z"
    }
   },
   "outputs": [
    {
     "name": "stdout",
     "output_type": "stream",
     "text": [
      "model score: 0.522\n",
      "              precision    recall  f1-score   support\n",
      "\n",
      "           0       0.52      0.51      0.52      1002\n",
      "           1       0.52      0.54      0.53       998\n",
      "\n",
      "    accuracy                           0.52      2000\n",
      "   macro avg       0.52      0.52      0.52      2000\n",
      "weighted avg       0.52      0.52      0.52      2000\n",
      "\n"
     ]
    }
   ],
   "source": [
    "clf3.fit(X_train, y_train)\n",
    "print(\"model score: %.3f\" % clf3.score(X_test, y_test))\n",
    "y_pred = clf3.predict(X_test)\n",
    "print(classification_report(y_test, y_pred))"
   ]
  },
  {
   "cell_type": "code",
   "execution_count": 33,
   "id": "346c820e-1bfb-4c6a-9d39-778bea26175b",
   "metadata": {
    "execution": {
     "iopub.execute_input": "2025-08-09T13:20:35.326090Z",
     "iopub.status.busy": "2025-08-09T13:20:35.325422Z",
     "iopub.status.idle": "2025-08-09T13:20:56.548208Z",
     "shell.execute_reply": "2025-08-09T13:20:56.547484Z",
     "shell.execute_reply.started": "2025-08-09T13:20:35.326061Z"
    }
   },
   "outputs": [
    {
     "name": "stdout",
     "output_type": "stream",
     "text": [
      "model score: 0.567\n",
      "              precision    recall  f1-score   support\n",
      "\n",
      "           0       0.58      0.52      0.55      1002\n",
      "           1       0.56      0.62      0.59       998\n",
      "\n",
      "    accuracy                           0.57      2000\n",
      "   macro avg       0.57      0.57      0.57      2000\n",
      "weighted avg       0.57      0.57      0.57      2000\n",
      "\n"
     ]
    }
   ],
   "source": [
    "clf4.fit(X_train, y_train)\n",
    "print(\"model score: %.3f\" % clf4.score(X_test, y_test))\n",
    "y_pred = clf4.predict(X_test)\n",
    "print(classification_report(y_test, y_pred))"
   ]
  },
  {
   "cell_type": "code",
   "execution_count": 34,
   "id": "f0ad29b7-eab0-4d85-b50f-63e828662c59",
   "metadata": {
    "execution": {
     "iopub.execute_input": "2025-08-09T13:20:56.549939Z",
     "iopub.status.busy": "2025-08-09T13:20:56.549372Z",
     "iopub.status.idle": "2025-08-09T13:20:58.114733Z",
     "shell.execute_reply": "2025-08-09T13:20:58.114032Z",
     "shell.execute_reply.started": "2025-08-09T13:20:56.549916Z"
    }
   },
   "outputs": [
    {
     "name": "stdout",
     "output_type": "stream",
     "text": [
      "model score: 0.552\n",
      "              precision    recall  f1-score   support\n",
      "\n",
      "           0       0.55      0.56      0.55      1002\n",
      "           1       0.55      0.55      0.55       998\n",
      "\n",
      "    accuracy                           0.55      2000\n",
      "   macro avg       0.55      0.55      0.55      2000\n",
      "weighted avg       0.55      0.55      0.55      2000\n",
      "\n"
     ]
    }
   ],
   "source": [
    "clf5.fit(X_train, y_train)\n",
    "print(\"model score: %.3f\" % clf5.score(X_test, y_test))\n",
    "y_pred = clf5.predict(X_test)\n",
    "print(classification_report(y_test, y_pred))"
   ]
  },
  {
   "cell_type": "code",
   "execution_count": 37,
   "id": "832d5ac1-7cca-4e93-be94-2c136e7ef03b",
   "metadata": {
    "execution": {
     "iopub.execute_input": "2025-08-09T13:21:53.433467Z",
     "iopub.status.busy": "2025-08-09T13:21:53.432682Z",
     "iopub.status.idle": "2025-08-09T13:21:55.067729Z",
     "shell.execute_reply": "2025-08-09T13:21:55.066981Z",
     "shell.execute_reply.started": "2025-08-09T13:21:53.433434Z"
    }
   },
   "outputs": [
    {
     "name": "stdout",
     "output_type": "stream",
     "text": [
      "model score: 0.606\n",
      "              precision    recall  f1-score   support\n",
      "\n",
      "           0       0.62      0.56      0.59      1002\n",
      "           1       0.60      0.65      0.62       998\n",
      "\n",
      "    accuracy                           0.61      2000\n",
      "   macro avg       0.61      0.61      0.60      2000\n",
      "weighted avg       0.61      0.61      0.60      2000\n",
      "\n"
     ]
    }
   ],
   "source": [
    "final_pipeline.fit(X_train, y_train)\n",
    "print(\"model score: %.3f\" % final_pipeline.score(X_test, y_test))\n",
    "y_pred = final_pipeline.predict(X_test)\n",
    "print(classification_report(y_test, y_pred))"
   ]
  },
  {
   "cell_type": "code",
   "execution_count": 40,
   "id": "78db984d-5819-4a23-9f19-a898aaa8c7c2",
   "metadata": {
    "execution": {
     "iopub.execute_input": "2025-08-09T13:22:40.425229Z",
     "iopub.status.busy": "2025-08-09T13:22:40.424848Z",
     "iopub.status.idle": "2025-08-09T13:22:40.665147Z",
     "shell.execute_reply": "2025-08-09T13:22:40.664220Z",
     "shell.execute_reply.started": "2025-08-09T13:22:40.425203Z"
    }
   },
   "outputs": [
    {
     "data": {
      "image/png": "[encoded data removed]",
      "text/plain": [
       "<Figure size 600x400 with 1 Axes>"
      ]
     },
     "metadata": {},
     "output_type": "display_data"
    }
   ],
   "source": [
    "from sklearn.metrics import roc_curve, roc_auc_score\n",
    "y_scores = clf.predict_proba(X_test)[:, 1]\n",
    "# ROC and AUC\n",
    "fpr, tpr, _ = roc_curve(y_test, y_scores)\n",
    "auc_score = roc_auc_score(y_test, y_scores)\n",
    "plt.figure(figsize=(6, 4))\n",
    "plt.plot(fpr, tpr, label=f\"AUC = {auc_score:.2f}\")\n",
    "plt.plot([0, 1], [0, 1], linestyle=\"--\", color=\"gray\")\n",
    "plt.xlabel(\"False Positive Rate\")\n",
    "plt.ylabel(\"True Positive Rate\")\n",
    "plt.title(\"ROC Curve – Titanic Dataset\")\n",
    "plt.legend()\n",
    "plt.grid(True)\n",
    "plt.tight_layout()\n",
    "plt.show()"
   ]
  },
  {
   "cell_type": "code",
   "execution_count": 38,
   "id": "a8a2ab2d-44d0-4384-8785-acae4443d0fd",
   "metadata": {
    "execution": {
     "iopub.execute_input": "2025-08-09T13:22:00.900346Z",
     "iopub.status.busy": "2025-08-09T13:22:00.899848Z",
     "iopub.status.idle": "2025-08-09T13:22:01.196873Z",
     "shell.execute_reply": "2025-08-09T13:22:01.196238Z",
     "shell.execute_reply.started": "2025-08-09T13:22:00.900311Z"
    },
    "scrolled": true
   },
   "outputs": [
    {
     "data": {
      "image/png": "[encoded data removed]",
      "text/plain": [
       "<Figure size 600x400 with 1 Axes>"
      ]
     },
     "metadata": {},
     "output_type": "display_data"
    }
   ],
   "source": [
    "from sklearn.metrics import roc_curve, roc_auc_score\n",
    "y_scores = final_pipeline.predict_proba(X_test)[:, 1]\n",
    "# ROC and AUC\n",
    "fpr, tpr, _ = roc_curve(y_test, y_scores)\n",
    "auc_score = roc_auc_score(y_test, y_scores)\n",
    "plt.figure(figsize=(6, 4))\n",
    "plt.plot(fpr, tpr, label=f\"AUC = {auc_score:.2f}\")\n",
    "plt.plot([0, 1], [0, 1], linestyle=\"--\", color=\"gray\")\n",
    "plt.xlabel(\"False Positive Rate\")\n",
    "plt.ylabel(\"True Positive Rate\")\n",
    "plt.title(\"ROC Curve – Titanic Dataset\")\n",
    "plt.legend()\n",
    "plt.grid(True)\n",
    "plt.tight_layout()\n",
    "plt.show()"
   ]
  },
  {
   "cell_type": "code",
   "execution_count": 41,
   "id": "37b41689-3867-4944-a3ab-bef5f88a7c1f",
   "metadata": {
    "execution": {
     "iopub.execute_input": "2025-08-09T13:22:54.203675Z",
     "iopub.status.busy": "2025-08-09T13:22:54.202858Z",
     "iopub.status.idle": "2025-08-09T13:29:01.743582Z",
     "shell.execute_reply": "2025-08-09T13:29:01.742828Z",
     "shell.execute_reply.started": "2025-08-09T13:22:54.203639Z"
    }
   },
   "outputs": [
    {
     "name": "stdout",
     "output_type": "stream",
     "text": [
      "Logistic Regression Accuracies: [0.59  0.612 0.63  0.603 0.614 0.614 0.614 0.609 0.589 0.58 ]\n",
      "Random Forest Accuracies: [0.599 0.632 0.623 0.586 0.596 0.605 0.629 0.589 0.589 0.572]\n",
      "KNN Accuracies: [0.522 0.514 0.546 0.535 0.526 0.537 0.509 0.519 0.518 0.569]\n",
      "SVM Accuracies: [0.571 0.556 0.571 0.575 0.557 0.593 0.567 0.574 0.564 0.589]\n",
      "Decision Tree Accuracies: [0.536 0.577 0.546 0.531 0.543 0.524 0.516 0.533 0.544 0.565]\n",
      "XGBoost Accuracies: [0.595 0.625 0.638 0.613 0.63  0.625 0.607 0.622 0.597 0.578]\n"
     ]
    }
   ],
   "source": [
    "from sklearn.model_selection import StratifiedKFold\n",
    "from sklearn.linear_model import LogisticRegression\n",
    "from sklearn.ensemble import RandomForestClassifier\n",
    "from scipy.stats import ttest_rel\n",
    "\n",
    "# Stratified K-Folds\n",
    "cv = StratifiedKFold(n_splits=10, shuffle=True, random_state=1)\n",
    "# Evaluate both models\n",
    "scores1 = cross_val_score(clf, X, y, cv=cv, scoring='accuracy')\n",
    "scores2 = cross_val_score(clf2, X, y, cv=cv, scoring='accuracy')\n",
    "scores3 = cross_val_score(clf3, X, y, cv=cv, scoring='accuracy')\n",
    "scores4 = cross_val_score(clf4, X, y, cv=cv, scoring='accuracy')\n",
    "scores5 = cross_val_score(clf5, X, y, cv=cv, scoring='accuracy')\n",
    "scores6 = cross_val_score(final_pipeline, X, y, cv=cv, scoring='accuracy')\n",
    "print(\"Logistic Regression Accuracies:\", scores1)\n",
    "print(\"Random Forest Accuracies:\", scores2)\n",
    "print(\"KNN Accuracies:\", scores3)\n",
    "print(\"SVM Accuracies:\", scores4)\n",
    "print(\"Decision Tree Accuracies:\", scores5)\n",
    "print(\"XGBoost Accuracies:\", scores6)"
   ]
  },
  {
   "cell_type": "code",
   "execution_count": 42,
   "id": "22d031c5-78ff-4740-a25e-51cf808f065e",
   "metadata": {
    "execution": {
     "iopub.execute_input": "2025-08-09T13:29:01.745229Z",
     "iopub.status.busy": "2025-08-09T13:29:01.744733Z",
     "iopub.status.idle": "2025-08-09T13:29:01.751790Z",
     "shell.execute_reply": "2025-08-09T13:29:01.751030Z",
     "shell.execute_reply.started": "2025-08-09T13:29:01.745197Z"
    }
   },
   "outputs": [
    {
     "name": "stdout",
     "output_type": "stream",
     "text": [
      "t-statistic: -0.7847\n",
      "p-value: 0.4528\n"
     ]
    }
   ],
   "source": [
    "# Paired t-test\n",
    "t_stat, p_value = ttest_rel(scores2, scores1)\n",
    "print(f\"t-statistic: {t_stat:.4f}\")\n",
    "print(f\"p-value: {p_value:.4f}\")\n",
    "#Logistic Regression is better, t-statistic<0"
   ]
  },
  {
   "cell_type": "code",
   "execution_count": 43,
   "id": "c2f852b0-caf5-486b-a4da-56f4751a5ced",
   "metadata": {
    "execution": {
     "iopub.execute_input": "2025-08-09T13:29:01.753676Z",
     "iopub.status.busy": "2025-08-09T13:29:01.752916Z",
     "iopub.status.idle": "2025-08-09T13:29:01.759405Z",
     "shell.execute_reply": "2025-08-09T13:29:01.758774Z",
     "shell.execute_reply.started": "2025-08-09T13:29:01.753645Z"
    }
   },
   "outputs": [
    {
     "name": "stdout",
     "output_type": "stream",
     "text": [
      "t-statistic: -9.2254\n",
      "p-value: 0.0000\n"
     ]
    }
   ],
   "source": [
    "t_stat, p_value = ttest_rel(scores3, scores1)\n",
    "print(f\"t-statistic: {t_stat:.4f}\")\n",
    "print(f\"p-value: {p_value:.4f}\")\n",
    "#Logistic Regression is better, t-statistic<0"
   ]
  },
  {
   "cell_type": "code",
   "execution_count": 44,
   "id": "b462c958-0ed2-4427-92c6-0e20b29fdfe6",
   "metadata": {
    "execution": {
     "iopub.execute_input": "2025-08-09T13:29:01.761788Z",
     "iopub.status.busy": "2025-08-09T13:29:01.761280Z",
     "iopub.status.idle": "2025-08-09T13:29:01.767662Z",
     "shell.execute_reply": "2025-08-09T13:29:01.766794Z",
     "shell.execute_reply.started": "2025-08-09T13:29:01.761756Z"
    }
   },
   "outputs": [
    {
     "name": "stdout",
     "output_type": "stream",
     "text": [
      "t-statistic: -4.9670\n",
      "p-value: 0.0008\n"
     ]
    }
   ],
   "source": [
    "t_stat, p_value = ttest_rel(scores4, scores1)\n",
    "print(f\"t-statistic: {t_stat:.4f}\")\n",
    "print(f\"p-value: {p_value:.4f}\")\n",
    "#Logistic Regression is better, t-statistic<0"
   ]
  },
  {
   "cell_type": "code",
   "execution_count": 45,
   "id": "0cdce55e-ef28-4762-940c-fa1e9e88c31a",
   "metadata": {
    "execution": {
     "iopub.execute_input": "2025-08-09T13:29:01.769803Z",
     "iopub.status.busy": "2025-08-09T13:29:01.768823Z",
     "iopub.status.idle": "2025-08-09T13:29:01.776308Z",
     "shell.execute_reply": "2025-08-09T13:29:01.775370Z",
     "shell.execute_reply.started": "2025-08-09T13:29:01.769768Z"
    }
   },
   "outputs": [
    {
     "name": "stdout",
     "output_type": "stream",
     "text": [
      "t-statistic: -7.7159\n",
      "p-value: 0.0000\n"
     ]
    }
   ],
   "source": [
    "t_stat, p_value = ttest_rel(scores5, scores1)\n",
    "print(f\"t-statistic: {t_stat:.4f}\")\n",
    "print(f\"p-value: {p_value:.4f}\")\n",
    "#Logistic Regression is better, t-statistic<0"
   ]
  },
  {
   "cell_type": "code",
   "execution_count": 46,
   "id": "58d45729-9402-4587-aa91-628216aeefc4",
   "metadata": {
    "execution": {
     "iopub.execute_input": "2025-08-09T13:29:01.778036Z",
     "iopub.status.busy": "2025-08-09T13:29:01.777324Z",
     "iopub.status.idle": "2025-08-09T13:29:01.784060Z",
     "shell.execute_reply": "2025-08-09T13:29:01.783327Z",
     "shell.execute_reply.started": "2025-08-09T13:29:01.778002Z"
    }
   },
   "outputs": [
    {
     "name": "stdout",
     "output_type": "stream",
     "text": [
      "t-statistic: 3.3229\n",
      "p-value: 0.0089\n"
     ]
    }
   ],
   "source": [
    "t_stat, p_value = ttest_rel(scores6, scores1)\n",
    "print(f\"t-statistic: {t_stat:.4f}\")\n",
    "print(f\"p-value: {p_value:.4f}\")\n",
    "#XGBoost is better, t-statistic>0"
   ]
  },
  {
   "cell_type": "code",
   "execution_count": 51,
   "id": "bda36471-0cca-4791-a52a-40e3b8d5d3f3",
   "metadata": {
    "execution": {
     "iopub.execute_input": "2025-08-09T13:35:46.171510Z",
     "iopub.status.busy": "2025-08-09T13:35:46.171208Z",
     "iopub.status.idle": "2025-08-09T13:35:46.176720Z",
     "shell.execute_reply": "2025-08-09T13:35:46.174882Z",
     "shell.execute_reply.started": "2025-08-09T13:35:46.171488Z"
    }
   },
   "outputs": [
    {
     "name": "stdout",
     "output_type": "stream",
     "text": [
      "0.6054999999999999\n",
      "0.613\n"
     ]
    }
   ],
   "source": [
    "print(scores1.mean())\n",
    "print(scores6.mean())"
   ]
  },
  {
   "cell_type": "code",
   "execution_count": 52,
   "id": "b46c01ed-e969-4548-a8e7-88094eb57aa6",
   "metadata": {
    "execution": {
     "iopub.execute_input": "2025-08-09T13:37:44.905063Z",
     "iopub.status.busy": "2025-08-09T13:37:44.904773Z",
     "iopub.status.idle": "2025-08-09T13:37:44.908826Z",
     "shell.execute_reply": "2025-08-09T13:37:44.908066Z",
     "shell.execute_reply.started": "2025-08-09T13:37:44.905041Z"
    }
   },
   "outputs": [],
   "source": [
    "#XGBoost is the best according to t-test, however, difference is not so big ,we can use base estimator as well."
   ]
  },
  {
   "cell_type": "code",
   "execution_count": 53,
   "id": "2943a0f8-83d4-4574-aced-ae8766c937ff",
   "metadata": {
    "execution": {
     "iopub.execute_input": "2025-08-09T13:38:33.827643Z",
     "iopub.status.busy": "2025-08-09T13:38:33.826876Z",
     "iopub.status.idle": "2025-08-09T13:38:33.967414Z",
     "shell.execute_reply": "2025-08-09T13:38:33.966667Z",
     "shell.execute_reply.started": "2025-08-09T13:38:33.827614Z"
    }
   },
   "outputs": [
    {
     "name": "stdout",
     "output_type": "stream",
     "text": [
      "File uploaded successfully to s3://dataminds-homeworks/vasif-orujzada-trainmodel.ipynb\n"
     ]
    }
   ],
   "source": [
    "import boto3\n",
    "\n",
    "# Replace with your actual credentials and info\n",
    "bucket_name = 'dataminds-homeworks'\n",
    "s3_file_key = 'vasif-orujzada-trainmodel.ipynb' \n",
    "local_file_path = 'vasif-orujzada-trainmodel.ipynb'\n",
    "\n",
    "# Create an S3 client\n",
    "s3 = boto3.client(\n",
    "    's3'\n",
    ")\n",
    "\n",
    "# Upload the file\n",
    "try:\n",
    "    s3.upload_file(local_file_path, bucket_name, s3_file_key)\n",
    "    print(f\"File uploaded successfully to s3://{bucket_name}/{s3_file_key}\")\n",
    "except Exception as e:\n",
    "    print(\"Error uploading file:\", e)"
   ]
  },
  {
   "cell_type": "code",
   "execution_count": null,
   "id": "4914f364-1962-4641-9cf9-2c024a148cc5",
   "metadata": {},
   "outputs": [],
   "source": []
  }
 ],
 "metadata": {
  "kernelspec": {
   "display_name": "Python 3 (ipykernel)",
   "language": "python",
   "name": "python3"
  },
  "language_info": {
   "codemirror_mode": {
    "name": "ipython",
    "version": 3
   },
   "file_extension": ".py",
   "mimetype": "text/x-python",
   "name": "python",
   "nbconvert_exporter": "python",
   "pygments_lexer": "ipython3",
   "version": "3.12.9"
  }
 },
 "nbformat": 4,
 "nbformat_minor": 5
}
